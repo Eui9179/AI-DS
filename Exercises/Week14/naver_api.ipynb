{
 "cells": [
  {
   "cell_type": "code",
   "execution_count": 1,
   "id": "09fb9a05",
   "metadata": {},
   "outputs": [],
   "source": [
    "import os\n",
    "import sys\n",
    "import requests"
   ]
  },
  {
   "cell_type": "code",
   "execution_count": 3,
   "id": "90cf42c5",
   "metadata": {},
   "outputs": [
    {
     "name": "stdout",
     "output_type": "stream",
     "text": [
      "{\"info\":{\"size\":{\"width\":700,\"height\":394},\"faceCount\":1},\"faces\":[{\"roi\":{\"x\":207,\"y\":117,\"width\":170,\"height\":170},\"landmark\":{\"leftEye\":{\"x\":252,\"y\":159},\"rightEye\":{\"x\":326,\"y\":155},\"nose\":{\"x\":289,\"y\":197},\"leftMouth\":{\"x\":254,\"y\":230},\"rightMouth\":{\"x\":331,\"y\":229}},\"gender\":{\"value\":\"male\",\"confidence\":0.993217},\"age\":{\"value\":\"24~28\",\"confidence\":0.893421},\"emotion\":{\"value\":\"smile\",\"confidence\":0.999872},\"pose\":{\"value\":\"frontal_face\",\"confidence\":0.999129}}]}\n"
     ]
    }
   ],
   "source": [
    "client_id = \"vYNcsg3w0EHgPxeC53d6\"\n",
    "client_secret = \"vEDPHV3yfZ\"\n",
    "url = \"https://openapi.naver.com/v1/vision/face\" # 얼굴감지\n",
    "# url = \"https://openapi.naver.com/v1/vision/celebrity\" #유명인 얼굴인식\n",
    "files = {'image': open('my_photo.jpg', 'rb')}\n",
    "headers = {'X-Naver-Client-Id': client_id, 'X-Naver-Client-Secret': client_secret }\n",
    "response = requests.post(url,  files=files, headers=headers)\n",
    "rescode = response.status_code\n",
    "if(rescode==200):\n",
    "    print (response.text)\n",
    "else:\n",
    "    print(\"Error Code:\" + rescode)"
   ]
  },
  {
   "cell_type": "code",
   "execution_count": 6,
   "id": "15184ed3",
   "metadata": {},
   "outputs": [
    {
     "name": "stdout",
     "output_type": "stream",
     "text": [
      "{\n",
      "\t\"lastBuildDate\":\"Mon, 05 Dec 2022 11:11:25 +0900\",\n",
      "\t\"total\":113314,\n",
      "\t\"start\":1,\n",
      "\t\"display\":10,\n",
      "\t\"items\":[\n",
      "\t\t{\n",
      "\t\t\t\"title\":\"송도 수영장 <b>인천대<\\/b> 스포츠센터 편: 수영 프로그램, 시설... \",\n",
      "\t\t\t\"link\":\"https:\\/\\/blog.naver.com\\/ckzg78\\/222946124788\",\n",
      "\t\t\t\"description\":\"<b>인천대<\\/b> 스포츠센터 수영장을 1년반 넘게 잘 다니고 있는데 이번에 다시 겨울학기 등록하라는 문자가... 이용안내 : <b>인천대<\\/b>학교 스포츠센터 (inu.ac.kr) 일반교육과정 (인천시 초.중.고 20세 미만) 평생교육과정... \",\n",
      "\t\t\t\"bloggername\":\"렛츠 치릿\",\n",
      "\t\t\t\"bloggerlink\":\"blog.naver.com\\/ckzg78\",\n",
      "\t\t\t\"postdate\":\"20221204\"\n",
      "\t\t},\n",
      "\t\t{\n",
      "\t\t\t\"title\":\"[<b>인천대<\\/b>입구역 맛집] 뜸들이다 송도점 :: 점메추 덮밥맛집\",\n",
      "\t\t\t\"link\":\"https:\\/\\/blog.naver.com\\/kesia_lee\\/222944163693\",\n",
      "\t\t\t\"description\":\"0507-1459-0150 뜸들이다 송도점은 <b>인천대<\\/b>입구역 1번 출구에서 도보로 7~8분 거리에 있는 지웰푸르지오상가 1층 안쪽 코너에 바로 위치하고 있어요! 자차이용시 무료로 2시간까지 이용 가능하니 참고하시면 좋을... \",\n",
      "\t\t\t\"bloggername\":\"나의 하루\",\n",
      "\t\t\t\"bloggerlink\":\"blog.naver.com\\/kesia_lee\",\n",
      "\t\t\t\"postdate\":\"20221202\"\n",
      "\t\t},\n",
      "\t\t{\n",
      "\t\t\t\"title\":\"[2023정시]2023 <b>인천대<\\/b> 정시배치표-3개년 합격자 성적 분석... \",\n",
      "\t\t\t\"link\":\"https:\\/\\/blog.naver.com\\/good110109\\/222945420446\",\n",
      "\t\t\t\"description\":\"&lt;2023 <b>인천대<\\/b>학교 정시배치표&gt; 안녕하세요. 입시닥터입니다. 올해 대입 정시를 대비하여 준비한 포스팅으로 2023 대학별 정시배치표 시리즈를 진행합니다. 오늘 소개할 대학은 <b>인천대<\\/b>학교입니다. <b>인천대<\\/b>의... \",\n",
      "\t\t\t\"bloggername\":\"나인입시컨설팅\",\n",
      "\t\t\t\"bloggerlink\":\"blog.naver.com\\/good110109\",\n",
      "\t\t\t\"postdate\":\"20221204\"\n",
      "\t\t},\n",
      "\t\t{\n",
      "\t\t\t\"title\":\"<b>인천대<\\/b>입구역신경외과 단순했던 어깨통증 알고보니 오십견?\",\n",
      "\t\t\t\"link\":\"https:\\/\\/fine4393.tistory.com\\/2290\",\n",
      "\t\t\t\"description\":\"<b>인천대<\\/b>입구역신경외과 단순했던 어깨 통증 알고 보니 오십견? 안녕하세요 화인통증의학과 송도점에 위치하고 있는 <b>인천대<\\/b>입구역신경외과입니다. 아무런 부상이 없는데도 갑자기 어깨통증이 발생 하고... \",\n",
      "\t\t\t\"bloggername\":\"☎1544-2215 화인통증클리닉\",\n",
      "\t\t\t\"bloggerlink\":\"https:\\/\\/fine4393.tistory.com\\/\",\n",
      "\t\t\t\"postdate\":\"20220726\"\n",
      "\t\t},\n",
      "\t\t{\n",
      "\t\t\t\"title\":\"<b>인천대<\\/b>입구역 미용실 무울헤어 가을맞이 톤다운염색 후기!\",\n",
      "\t\t\t\"link\":\"https:\\/\\/blog.naver.com\\/alsxmt\\/222860286662\",\n",
      "\t\t\t\"description\":\"#염색후기 #<b>인천대<\\/b>입구역미용실 #무울헤어 희블리 기분전환데이 다가오는 가을 맞이 톤다운염색 하고왔어요!! <b>인천대<\\/b>입구역 미용실 : 무울헤어 염색하고 기분좋아진 희블리 사진을 시작으로 오늘은 일퇴하고... \",\n",
      "\t\t\t\"bloggername\":\"희블리 페이지 _\",\n",
      "\t\t\t\"bloggerlink\":\"blog.naver.com\\/alsxmt\",\n",
      "\t\t\t\"postdate\":\"20220828\"\n",
      "\t\t},\n",
      "\t\t{\n",
      "\t\t\t\"title\":\"송도동마라탕은 <b>인천대<\\/b>입구역맛집 깔끔한맛 마라순코우 마라탕\",\n",
      "\t\t\t\"link\":\"https:\\/\\/blog.naver.com\\/sato_a\\/222857373339\",\n",
      "\t\t\t\"description\":\"얼떨결에 송도 마라탕집 도장깨기를 하고있네 이번에 방문해본 송도 마라탕은 <b>인천대<\\/b>입구쪽에 위치한 마라순코우 마라탕 송도점 정확히는 송도 캐슬센트럴 파크 102동 145호에 있다 지하철 <b>인천대<\\/b>입구역 기준... \",\n",
      "\t\t\t\"bloggername\":\"서버를 찾지 못하였습니다.\",\n",
      "\t\t\t\"bloggerlink\":\"blog.naver.com\\/sato_a\",\n",
      "\t\t\t\"postdate\":\"20220824\"\n",
      "\t\t},\n",
      "\t\t{\n",
      "\t\t\t\"title\":\"[<b>인천대<\\/b> 동북아국제통상학부(SONAS)] 미국에서 온 편지\",\n",
      "\t\t\t\"link\":\"https:\\/\\/blog.naver.com\\/sonasforever\\/222943002209\",\n",
      "\t\t\t\"description\":\"<b>인천대<\\/b>학교 동북아국제통상학부 미국통상 22학번 박상민입니다!! 블로그를 쓰려하니 벌써 겨울이... &quot;본 게시물과 모든 사진 자료의 저작권은 <b>인천대<\\/b>학교 동북아국제통상학부 대외홍보국에게 있습니다... \",\n",
      "\t\t\t\"bloggername\":\"인천대학교 동북아국제통상학부 공식 블로그\",\n",
      "\t\t\t\"bloggerlink\":\"blog.naver.com\\/sonasforever\",\n",
      "\t\t\t\"postdate\":\"20221201\"\n",
      "\t\t},\n",
      "\t\t{\n",
      "\t\t\t\"title\":\"<b>인천대<\\/b>입구역맛집 송도고기집 &apos;초원냉삼&apos;\",\n",
      "\t\t\t\"link\":\"https:\\/\\/blog.naver.com\\/lee870910\\/222940656700\",\n",
      "\t\t\t\"description\":\"송도고기집 <b>인천대<\\/b>입구역맛집 초원냉삼 어릴 때 가족들과 함께 집에서 도란도란 앉아서 불판에... #송도삼겹살 #<b>인천대<\\/b>입구역맛집 #송도타임스페이스맛집 초원냉삼 인천시 연수구 하모니로 138번길 11. 101동... \",\n",
      "\t\t\t\"bloggername\":\"Happy Traveler ❤️\",\n",
      "\t\t\t\"bloggerlink\":\"blog.naver.com\\/lee870910\",\n",
      "\t\t\t\"postdate\":\"20221128\"\n",
      "\t\t},\n",
      "\t\t{\n",
      "\t\t\t\"title\":\"<b>인천대<\\/b>입구 카페 가성비 좋은 와플대학\",\n",
      "\t\t\t\"link\":\"https:\\/\\/blog.naver.com\\/justpar\\/222897784360\",\n",
      "\t\t\t\"description\":\"신나는 마음으로 포스팅 고고합니다 <b>인천대<\\/b>입구 카페 와플대학 <b>인천대<\\/b>입구 카페 가성비 좋은 와플대학 이용 문의 : 032-212-5858 이용 시간 : 10시~22시 주차 가능 <b>인천대<\\/b>입구 카페 와플대학은 대학과 가까워서... \",\n",
      "\t\t\t\"bloggername\":\"Bling J\",\n",
      "\t\t\t\"bloggerlink\":\"blog.naver.com\\/justpar\",\n",
      "\t\t\t\"postdate\":\"20221011\"\n",
      "\t\t},\n",
      "\t\t{\n",
      "\t\t\t\"title\":\"인천 송도) <b>인천대<\\/b>입구역 타임스페이스 돈카츠맛집 &apos;지츠겐&apos;\",\n",
      "\t\t\t\"link\":\"https:\\/\\/blog.naver.com\\/leeio2\\/222801323632\",\n",
      "\t\t\t\"description\":\"<b>인천대<\\/b>입구역 타임스페이스 부근에 위치한 돈카츠 맛집 '지츠겐'을 소개할께요 :) 아마 생긴지 얼마안된 것 같은 지츠겐! 요즘 <b>인천대<\\/b>입구역 송도타임스페이스 맛집이 많이 생기고 있는데 지츠겐도 그 중... \",\n",
      "\t\t\t\"bloggername\":\"헤이제로 데일리 : 매일이 작은 여행\",\n",
      "\t\t\t\"bloggerlink\":\"blog.naver.com\\/leeio2\",\n",
      "\t\t\t\"postdate\":\"20220705\"\n",
      "\t\t}\n",
      "\t]\n",
      "}\n"
     ]
    }
   ],
   "source": [
    "import os\n",
    "import sys\n",
    "import urllib.request\n",
    "client_id = \"vYNcsg3w0EHgPxeC53d6\"\n",
    "client_secret = \"vEDPHV3yfZ\"\n",
    "encText = urllib.parse.quote(\"인천대\")\n",
    "url = \"https://openapi.naver.com/v1/search/blog?query=\" + encText # JSON 결과\n",
    "# url = \"https://openapi.naver.com/v1/search/blog.xml?query=\" + encText # XML 결과\n",
    "request = urllib.request.Request(url)\n",
    "request.add_header(\"X-Naver-Client-Id\",client_id)\n",
    "request.add_header(\"X-Naver-Client-Secret\",client_secret)\n",
    "response = urllib.request.urlopen(request)\n",
    "rescode = response.getcode()\n",
    "if(rescode==200):\n",
    "    response_body = response.read()\n",
    "    print(response_body.decode('utf-8'))\n",
    "else:\n",
    "    print(\"Error Code:\" + rescode)"
   ]
  },
  {
   "cell_type": "code",
   "execution_count": 9,
   "id": "7cd78522",
   "metadata": {},
   "outputs": [
    {
     "name": "stdout",
     "output_type": "stream",
     "text": [
      "{'lastBuildDate': 'Mon, 05 Dec 2022 11:17:23 +0900', 'total': 408451, 'start': 1, 'display': 100, 'items': [{'title': '회식 하기 좋은 <b>송도</b>신도시<b>맛집</b>', 'link': 'https://blog.naver.com/smartk0304/222944600187', 'description': '저희는 <b>송도</b>신도시<b>맛집</b>이라고 알려진 녹우돈을 회식장소로 미리 예약하고 갔기 때문에 웨이팅하지않고 들어갔습니다. 그렇게 도착해서 자리를 안내받고 자리에 착석과 동시에 주문을 했는데요! 메뉴 판을... ', 'bloggername': '☆스마트한 직거래방구하기☆멋집/맛집/집이야기^^☆', 'bloggerlink': 'blog.naver.com/smartk0304', 'postdate': '20221203'}, {'title': '<b>송도 맛집</b> 추천 푸짐한 송도 한정식 밥상편지', 'link': 'https://blog.naver.com/joojoo5623/222901759267', 'description': '제이유입니다 :) 오늘 소개해 드릴 <b>송도 맛집</b> 밥상편지는 송도 한정식을 맛볼 수 있는 곳이에요. 이전에 한번 다녀온 적이 있는데 맛있게 먹었던 기억이 있어 부모님 두 분을 모시고 다녀왔어요 밥상편지 주소... ', 'bloggername': '바삭바삭한 일상그리기❣', 'bloggerlink': 'blog.naver.com/joojoo5623', 'postdate': '20221017'}, {'title': '부산 <b>송도 맛집</b> 사천해물탕 또 생각나', 'link': 'https://blog.naver.com/onoff83/222921656498', 'description': '살아있는 해산물에 진한 국물 맛이 일품이었던 부산 <b>송도 맛집</b> 후기를 남겨 봅니다. 제가 지금까지 먹어 본 해물탕 중에서는 손가락 안에 드는 곳이기도 합니다. 방문한 곳은 사천해물탕이라는 곳으로 송도... ', 'bloggername': '애리조나 히트', 'bloggerlink': 'blog.naver.com/onoff83', 'postdate': '20221106'}, {'title': '[인천 구<b>송도 맛집</b>] 맛있고 신선한 낙지볶음을 먹을 수 있는... ', 'link': 'https://blog.naver.com/kt27ks35wh/222940393510', 'description': '유명 <b>맛집</b>이라면서 나오는 것임 남편, 아빠말은 넘기고 어딘지도 모르는 사이트 링크는 믿어버리기 ㅋㅋㅋ 그래서 가기로 했습니다. 그곳은 구<b>송도</b>에 있는 정윤기 황칠낙지라는 곳이예요 우선 가게 이름이... ', 'bloggername': '내 맛 취향을 존중해주세요.', 'bloggerlink': 'blog.naver.com/kt27ks35wh', 'postdate': '20221205'}, {'title': '부산 <b>송도 맛집</b> 푸짐해!', 'link': 'https://blog.naver.com/mahaha0303/222943576071', 'description': '부산 <b>송도 맛집</b>을 다녀왔어요. 20년 전통으로 변함없는 맛인 해물탕의 진가를 제대로 느끼고와 소개해보려고 해요. 우리가 다녀온 사천해물탕은 부산송도해수욕장에서 차로 1분안에 도착할 만큼 가까웠어요.... ', 'bloggername': '고테네 사진관', 'bloggerlink': 'blog.naver.com/mahaha0303', 'postdate': '20221202'}, {'title': '<b>송도</b> 수제버거 <b>맛집</b> 오지버거 <b>송도</b>점 존맛탱', 'link': 'https://blog.naver.com/insunoo/222940469611', 'description': '<b>송도 맛집</b> 송도 햄버거 맛집 송도 수제버거 맛집 찾으시는 분들께 분위기도 좋고 깨끗하고 쾌적한데 가격대비 맛이 상당했던 오지버거 완전 추천하고 싶다! 다음에 또가야지!', 'bloggername': '턱미녀의 컬러풀 Green Days', 'bloggerlink': 'blog.naver.com/insunoo', 'postdate': '20221128'}, {'title': '<b>송도맛집</b> 송도술집 마케집 송도점 술안주로 자연산 막회 최고', 'link': 'https://blog.naver.com/nayhs/222926469612', 'description': '마케집 송도점 인천 연수구 하모니로 158 송도타임스페이스 D동 121-122호 T.0507-1343-6412 &lt;영업시간&gt; 매일 15:00-새벽 2:00 L.O. 새벽 1:00 타임스페이스 무료주차 #송도술집 #<b>송도맛집</b> #마케집', 'bloggername': 'maybe_biasa', 'bloggerlink': 'blog.naver.com/nayhs', 'postdate': '20221112'}, {'title': '[<b>송도맛집</b>]“하얀등대이모야” 장어구이 푸짐한 노상포차', 'link': 'https://blog.naver.com/sugyoung125/222942570010', 'description': '안녕하세요, 갱쁘입니다 <b>송도</b>-자갈치 사이에 위치한 ‘장어구이<b>맛집</b>’ 입니다 남부민방파제 앞에 위치한 포차같은가게 #<b>송도</b>장어구이 #남부민동장어구이 장어구이가 튼실하니 넘 맛있었어요 양념에... ', 'bloggername': '갱이델리', 'bloggerlink': 'blog.naver.com/sugyoung125', 'postdate': '20221130'}, {'title': '<b>송도</b> 파스타 <b>맛집</b> 연말 모임에는 어글리스토브 <b>송도</b>오네스타점', 'link': 'https://blog.naver.com/udongdd/222931074710', 'description': '갖고 싶다면 어글리스토브 송도오네스타점을 추천한다. #송도레스토랑 #송도파스타맛집 #송도스테이크맛집 #송도파스타 #송도모임 #송도단체 #송도가족모임 #송도소개팅 #송도가족식사 #송도데이트 #<b>송도맛집</b>', 'bloggername': '우동동의 BLOG.COM', 'bloggerlink': 'blog.naver.com/udongdd', 'postdate': '20221117'}, {'title': '<b>송도 맛집</b> 고급진데 착한 가격! 한남동자리 리뷰', 'link': 'https://blog.naver.com/suuming_/222937912184', 'description': '최근에 <b>송도 맛집</b>으로 떠오르고 있다는 &quot;한남동자리&quot; 다녀왔습니다! 한남동에서 엄청 유명한 중식당인데 송도점이 오픈한 이후 송도에서도 아주 인기 좋다고 하더라구요. 한남동자리 송도점 주소 : 인천... ', 'bloggername': '먹고 놀고', 'bloggerlink': 'blog.naver.com/suuming_', 'postdate': '20221125'}, {'title': '<b>송도</b>고기집 삼겹살<b>맛집</b>인 하남돼지집 센트럴파크점', 'link': 'https://blog.naver.com/suny0816/222944563921', 'description': '무조건 방문해야하는 #송도고기맛집 #하남돼지센트럴파크점에서 아이랑함께 맛있는 고기먹고 왔어요~ #<b>송도맛집</b> #송도고기집 #송도센트럴파크맛집 #센트럴파크맛집 #송도 회식', 'bloggername': '건강한 하루를 보내는 일기', 'bloggerlink': 'blog.naver.com/suny0816', 'postdate': '20221203'}, {'title': '<b>송도맛집</b> 숙성도/D&apos;s Bucket list', 'link': 'https://blog.naver.com/dadada832/222922305972', 'description': '구송도에 위치한 <b>송도맛집</b> 숙성도 소개해드릴게요~* (제가 소개하지않아도 이미 손님은 많지만요..?) <b>송도맛집</b> 숙성도 테이블링 앱을 통해 미리 줄서기가 가능하다는 점 ! 저희는 친척형님이 미리 해주셔서 한... ', 'bloggername': 'D&apos;s Bucket list', 'bloggerlink': 'blog.naver.com/dadada832', 'postdate': '20221107'}, {'title': '<b>송도 맛집</b> 한식 밥상편지', 'link': 'https://blog.naver.com/hanadul45/222938770617', 'description': '내돈내산♥ 주말에 외식하고 싶은 날에 찾아온 <b>송도 맛집</b> 밥상 편지! 요새 남편 건강 때문에 외식도 주로 한식을 위주로 하고 고기류를 많이 줄였습니다. 밥상편지는 주로 인 수 세트 메뉴도 있고 단품... ', 'bloggername': '소풍 All day :D', 'bloggerlink': 'blog.naver.com/hanadul45', 'postdate': '20221126'}, {'title': '부산 대게 <b>맛집</b> 조새호 <b>송도</b> 직영점 추천해요', 'link': 'https://blog.naver.com/bsg03135/222938063091', 'description': '부산 <b>송도 맛집</b> 조새호 3층에서 대게를 맛볼 수 있다고 하더라구요! 3층으로 슝슝! 부산 대게 맛집 조새호 들어가니 넓직하면서 깨끗한 내부가 보이더라구요! 이렇게 멋진 부산 송도 오션뷰를 바라보며 맛있는... ', 'bloggername': '내가 날 모르는 것처럼', 'bloggerlink': 'blog.naver.com/bsg03135', 'postdate': '20221125'}, {'title': '<b>송도 맛집</b> 대게나라 / 언제 먹어도 맛있는 곳', 'link': 'https://blog.naver.com/elyann/222834232173', 'description': '언제 먹어도 맛있는 <b>송도 맛집</b> 얼마 전, 송도에 놀러갔다가 여자친구가 좋아하는 송도 대게나라에서 식사를 했다. 언제 먹더라도 항상 만족스러우면서 프라이빗 한 식사가 가능한 곳이라 먼 거리임에도... ', 'bloggername': '깐깐한 엘랸씨', 'bloggerlink': 'blog.naver.com/elyann', 'postdate': '20220730'}, {'title': '[<b>송도 맛집</b>] 커넬워크 중식당 카이웨이 강력추천! 꿔바로우 필수', 'link': 'https://blog.naver.com/wowseonhee/222941040579', 'description': '<b>송도</b>에서 <b>맛집</b> 어디갈지 고민하고계시다면 특이하게 여기 카이웨이 오시는거 진짜 강추드립니당 ★★★★★ 간만에 별 5개짜리 식당 발견해서 너무 좋았네옄ㅋㅋㅋ', 'bloggername': '버키의 블로그', 'bloggerlink': 'blog.naver.com/wowseonhee', 'postdate': '20221129'}, {'title': '<b>송도 맛집</b> 데이트하기좋은 에스가든 청담', 'link': 'https://blog.naver.com/ro127/222937805311', 'description': '연말 기념일 챙기기 에스가든 청담 송도본점에서 하는 것 너무너무 추천한다. 끝. ✔️업체에서 식사권을 제공받아 솔직하게 작성한 후기입니다. #에스가든청담 #분위기맛집 #<b>송도맛집</b> #송도파티룸 #송도데이트', 'bloggername': '슬기로운 생활', 'bloggerlink': 'blog.naver.com/ro127', 'postdate': '20221125'}, {'title': '구 <b>송도</b> 라마다호텔 근처 민물장어, 꼼장어 <b>맛집</b> 추천 ::: <b>송도</b>... ', 'link': 'https://blog.naver.com/heenoon/222943967094', 'description': '맛있는거 먹을때가 세상 행복해요❤️ 특히 송도장어집이 진짜 맛있습니당ㅋㅋ 강추!!! 조만간 또 먹으러 가야겠어요 #송도장어구이 #구송도장어구이 #구<b>송도맛집</b> #송도신도시맛집 #옥련동장어구이 #구송도꼼장어', 'bloggername': '유니스 데일리', 'bloggerlink': 'blog.naver.com/heenoon', 'postdate': '20221202'}, {'title': '잭니클라우스<b>맛집</b> <b>송도</b>1공구 <b>맛집</b> 우심', 'link': 'https://blog.naver.com/fairylamp_/222936147175', 'description': '#잭니클라우스cc<b>맛집</b> #<b>송도</b>1공구<b>맛집</b> 동료들과 라운딩을 마친 후 미리 예약해 두었던 근처 한우집으로 향했어요. 일반 한우집과는 차별화는 둔 조금 고급진 분위기였는데, 가격은 부담 없었고 서비스 면에서는... ', 'bloggername': '벤자민 단추의 시간이 제대로 간다.', 'bloggerlink': 'blog.naver.com/fairylamp_', 'postdate': '20221123'}, {'title': '(<b>송도맛집</b>) 송도 아웃백 스테이크하우스 런치메뉴 및 할인팁', 'link': 'https://blog.naver.com/tlsduswjd88/222935952987', 'description': '찾는데 <b>송도맛집</b> 송도 연말모임찾으시는 분들은 아웃백 런치메뉴나 할인팁 이용하셔서 저렴하게 다녀오시길~ 맛 ★★★★☆ 분위기 ★★★☆☆ 서비스 ★★★☆☆ 재방문의사 ★★★★☆ Copyright... ', 'bloggername': '기록이 정보가 되는 공간', 'bloggerlink': 'blog.naver.com/tlsduswjd88', 'postdate': '20221123'}, {'title': '<b>송도</b> 고기 <b>맛집</b> 소고기 찐<b>맛집</b> 갈풍집 <b>송도</b>점 가성비 최고', 'link': 'https://blog.naver.com/nayhs/222942402580', 'description': '갈풍집 인천 연수구 해돋이로 160-19 카리스프라자 1층 T.0507-1400-6620 &lt;영업시간&gt; 매일 17:00-23:00 L.O. 22:00 카리스프라자 지하 무료 주차 #송도고기맛집 #송도고깃집 #송도소고기 #<b>송도맛집</b> #갈풍집', 'bloggername': 'maybe_biasa', 'bloggerlink': 'blog.naver.com/nayhs', 'postdate': '20221130'}, {'title': '[<b>송도맛집</b>/송도횟집] 어부장', 'link': 'https://blog.naver.com/wltjsk12/222920913880', 'description': \"<b>송도</b> 인기 <b>맛집</b> '어부장' 다녀왔습니다. 인천<b>송도</b>힐스테이트 5단지 1층에 있습니다. 웨이팅 하는 동안 어부장에 이런게 써있길래 읽어보았습니다. 기대된다 ☆ 어머 무슨 횟집 인테리어가 이렇게 예뻐요? 외국... \", 'bloggername': '여행은 지자매♬', 'bloggerlink': 'blog.naver.com/wltjsk12', 'postdate': '20221105'}, {'title': '인천 <b>송도 맛집</b>의 차원이 다른 한우차돌삼합', 'link': 'https://blog.naver.com/leemk4739/222928430569', 'description': '<b>송도 맛집</b>에 가서 한우차돌삼합을 먹고 왔거든요 가서 먹어 보니까 맛집으로 소문날만하다는 생각이 들 정도로 기가 막히게 맛있어서 적어도 여기는 한달에 한번씩 주기적으로 가고 싶을 정도예요 진대감 송도... ', 'bloggername': '식무리들 기록', 'bloggerlink': 'blog.naver.com/leemk4739', 'postdate': '20221114'}, {'title': '<b>송도</b>유원지 <b>맛집</b> 아리아리랑', 'link': 'https://blog.naver.com/manna_girl/222912668904', 'description': '#상견례 #송도유원지맛집 #한정식맛집 #인천<b>송도맛집</b> #코스요리 #연수구맛집 #회식 #가족모임 #한식집 아리아리랑 송도한정식 맛집 월-일 11:30~21:00 (브레이크 타임 14:30~16:30) 라스트 오더 20:00 연중무휴 단체석... ', 'bloggername': '매나걸의 매나라이프', 'bloggerlink': 'blog.naver.com/manna_girl', 'postdate': '20221028'}, {'title': '<b>송도</b> 파스타<b>맛집</b> 파니나로에서 엄마랑 점심데이트 했어요', 'link': 'https://blog.naver.com/suny0816/222932198163', 'description': '송도신도시 파니나로 #브런치맛집♡ #파스타맛집♡ 으로 소문난 집이에요. 예전부터 가보고 싶었는데... 음식 사진을 찍고, 인스타그램에 Paninaro_songdo를 팔로워 한 후 #파니나로 #<b>송도맛집</b> #송도파스타 태그해서... ', 'bloggername': '건강한 하루를 보내는 일기', 'bloggerlink': 'blog.naver.com/suny0816', 'postdate': '20221118'}, {'title': '부산 <b>송도 맛집</b> :: 송도통큰조개, 조개구이세트&amp;해물라면', 'link': 'https://blog.naver.com/jj2yo/222941400242', 'description': '주소 부산 서구 <b>송도</b>해변로 79 전화 051-257-0199 저녁 먹으려고 <b>송도</b> 방문 이때만해도 좋았지, 사고 날 줄도 모르고 오늘 저녁은 조개구이 입니다 <b>송도</b>통큰조개 주차는 오른쪽 주차장에 하시면 됩니다 <b>송도</b>... ', 'bloggername': '쩡이월드:D', 'bloggerlink': 'blog.naver.com/jj2yo', 'postdate': '20221129'}, {'title': '<b>송도</b> 센트럴파크<b>맛집</b> 에스가든 청담, 분위기 좋은 파스타... ', 'link': 'https://blog.naver.com/trade05/222939699678', 'description': '많이와서 송도 브런치 맛집으로도 알려진 곳입니다. 샹들리에도 큰게 여러개 달려있어요 저희는... 오랫동안 <b>송도 맛집</b>으로 사랑받는거겠죠 ㅎ 같이 나오는 가니쉬 샐러드도 양이 꽤 많아서 이렇게 먹으면... ', 'bloggername': 'allegro con brio', 'bloggerlink': 'blog.naver.com/trade05', 'postdate': '20221127'}, {'title': '<b>송도맛집</b> 고신대학교병원 근처에서 밥한끼 송원식당', 'link': 'https://blog.naver.com/goswn1022/222929611020', 'description': '다들 공깃밥 추가하는거 같던데 ㅋㅋㅋㅋㅋ <b>송도 맛집</b>이라고 소문난 송원식당! 11시 30분부터는 가게내부가 꽉차더라 그 안에가서 다행스.. 저 떡구이 진짜 생각나겠는데 ㅋㅋㅋㅋㅋㅋㅋㅋ 맛있게 잘... ', 'bloggername': '힘을내는블로그', 'bloggerlink': 'blog.naver.com/goswn1022', 'postdate': '20221120'}, {'title': '인천 <b>송도</b> 한우 <b>맛집</b> 소고기가 특별한 <b>송도</b>1동 | 우심', 'link': 'https://blog.naver.com/kimsy1226/222931497557', 'description': '#인천<b>송도</b>한우<b>맛집</b> #인천<b>송도</b>소고기<b>맛집</b> #<b>송도</b>1동소고기<b>맛집</b> #<b>송도</b>1동한우<b>맛집</b> -- 얼마전 친구네 집에 집들이를 갔다가 근사한 인천 <b>송도</b> 한우<b>맛집</b>에서 같이 저녁까지 먹었어요. 너무 괜찮았던 곳이라... ', 'bloggername': '파뤼락앤인더하우스투나잇', 'bloggerlink': 'blog.naver.com/kimsy1226', 'postdate': '20221118'}, {'title': '<b>송도</b> 현대프리미엄아울렛 <b>맛집</b> h123 브런치 메뉴', 'link': 'https://blog.naver.com/yimi0505/222912553021', 'description': '때는 사진이 절실했어서 막 찾게 되더라고요 송도 현대프리미엄아울렛 맛집 찾으실 때 도움이 되시길 바래요 #<b>송도맛집</b> #송도아울렛맛집 #송도현대프리미엄아울렛 #송도현대프리미엄아울렛맛집 #송도브런치 #h123', 'bloggername': '사랑곱빼기 밍기네 ♥', 'bloggerlink': 'blog.naver.com/yimi0505', 'postdate': '20221027'}, {'title': '[인천 <b>송도 맛집</b>] 송도 리저브9 또 다녀왔어요!', 'link': 'https://blog.naver.com/rkwkrhspm/222936281002', 'description': '<b>송도</b> 리저브9은 남편이랑 저랑 검색해서 찾은 <b>맛집</b> 중 한 곳인데요. 저는 입맛도 까다롭고, 또 한 번 맛있다고 느낀 곳은 무조건 또 방문합니다! 왜냐면 일단 맛 보장이 어느 정도 되어 있는 곳을 선호하는... ', 'bloggername': '다양한 정보 공유!', 'bloggerlink': 'blog.naver.com/rkwkrhspm', 'postdate': '20221123'}, {'title': '[<b>송도</b>] 뇨끼로 회식 배불리 먹었던 핏자 <b>맛집</b> 피제리아 <b>송도</b>점', 'link': 'https://blog.naver.com/sunato/222927366590', 'description': '송도의 최고 맛집이라 한다.. 다른 파스타 집보다 훠얼~씬 맛있다고.. 스테이크도 너무 익긴... 약간 감자 옹심이 먹는 느낌이었음 쓱쓱 다 먹었다 끄억.. 깔끔한 회식.. 넘 맛있었음 #<b>송도맛집</b>', 'bloggername': '수나노의 인생산책, 그리고', 'bloggerlink': 'blog.naver.com/sunato', 'postdate': '20221113'}, {'title': '인천 <b>송도 맛집</b>, 제대로 된 고기맛을 볼 수 있는 숙성도', 'link': 'https://blog.naver.com/youjimin3130/222923791576', 'description': '제주도에서만 먹을 수 있었던 숙성도를 인천에서 먹을 수 있으니 정말 좋은 것 같아요 :) 진짜 꼭! 꼭! 가보세요 완전 추천  #인천<b>송도맛집</b> #<b>송도맛집</b> #송도숙성도 #인천숙성도 #인천고기맛집 #송도고기맛집', 'bloggername': '튜미니 X 하귀요미 일상기록 ʚ♥ɞ', 'bloggerlink': 'blog.naver.com/youjimin3130', 'postdate': '20221109'}, {'title': '[인천_<b>송도</b>] 제주의 <b>맛집</b>을 인천에서 ‘숙성도’', 'link': 'https://blog.naver.com/lboraming/222942902622', 'description': '만족해야죠 #인천맛집 #숙성도인천송도 #<b>송도맛집</b> #구<b>송도맛집</b> #제주고기맛집 #인천제주고기맛집 #인천고기맛집 #송도고기맛집 #인천숙성고기맛집 #송도숙성고기맛집 #숙성고기맛집', 'bloggername': '라마라미 with, NA', 'bloggerlink': 'blog.naver.com/lboraming', 'postdate': '20221201'}, {'title': '<b>송도맛집</b>  이국적인 분위기의 풀사이드228 수영장레스토랑', 'link': 'https://blog.naver.com/look_iam/222930097945', 'description': '스테이크맛집이라고 고기 먹으러 가고 싶다 해서 데려오려 했는데 학원 시간이 ㅋㅋ 미안하다 담에는 함께 오마^^ <b>송도맛집</b>, 수영장레스토랑 플사이드228 송도점 인천 연수구 해돋이로 157 4층 풀사이드 228 032-817... ', 'bloggername': '햄볶는 아줌마가 사는 집', 'bloggerlink': 'blog.naver.com/look_iam', 'postdate': '20221116'}, {'title': '입에서 살살 녹는 <b>송도맛집</b> 돈블랑 송도트리플스트리트', 'link': 'https://blog.naver.com/whgusdn1588/222937423597', 'description': '#<b>송도맛집</b> #<b>송도맛집</b>추천 #송도고깃집 #송도삼겹살 #송도삼겹살맛집 #송도고기집추천 #테크노파트역맛집 #송도테크노파크역맛집 #송도테크노파크역삼겹살 #SFG #돈블랑 #송도돈블랑 #SFG돈블랑 업체로부터... ', 'bloggername': '헤누가 간다!', 'bloggerlink': 'blog.naver.com/whgusdn1588', 'postdate': '20221124'}, {'title': '<b>송도 맛집</b> 고소하고 쫄깃한 질마재양대창/ 그리스를 느낀 송도... ', 'link': 'https://blog.naver.com/suzan45/222913294189', 'description': '저번에 친구와 다녀왔던 인천 <b>송도 맛집</b> 소개드려요! 질마재양대창이라는 곳인데 정말 고소하고... 22:00 송도신도시 해양경찰청 뒤에 위치하고 있어서 찾기도 쉬었는데요 주차는 매장 주변에 하면 되고... ', 'bloggername': '2022년 31살', 'bloggerlink': 'blog.naver.com/suzan45', 'postdate': '20221028'}, {'title': '<b>송도 맛집</b> 신선한 해산물 가득한 마케집', 'link': 'https://blog.naver.com/deep_green92/222918541516', 'description': '전체적으로 뭐든 풍족한 양의 맛집이네요 ㅎㅎ 시원하고 쫄깃한 국수와 함께 회나 소라, 낙지와 함께 면치기할 때 넘 맛있더라구요. <b>송도 맛집</b> 마케집의 싱싱한 해산물도 계속 먹어주고, 국물도 시원하게... ', 'bloggername': '이게 다 무슨 의미가 있냐', 'bloggerlink': 'blog.naver.com/deep_green92', 'postdate': '20221103'}, {'title': '[<b>송도 맛집</b>/온정] 고소하고 맛있는, 든든한 솥밥 한상', 'link': 'https://minlovejin.tistory.com/2247', 'description': '★ 호로록@/배부른 이야기 [<b>송도 맛집</b>/온정] 고소하고 맛있는, 든든한 솥밥 한상 혜진냥 2022. 11. 3. 06... com/2237 [송도 현대아울렛/온정] 송현아 솥밥맛집, 정갈하고 든든한 한끼 온정 송현아 둘러보다보니... ', 'bloggername': '너와 나의 추억 여행 ♥', 'bloggerlink': 'https://minlovejin.tistory.com/', 'postdate': '20221103'}, {'title': '<b>송도맛집</b> 텍사스로드하우스 현대프리미엄아울렛송도점', 'link': 'https://blog.naver.com/hun_62/222936523127', 'description': '송도 아이와 가볼만한 맛집으로 추천합니다. #<b>송도맛집</b> #현대프리미엄아울렛송도점 #트리플스트리트맛집 #송현아맛집 #스테이크맛집 #가성비맛집 #텍사스로드하우스', 'bloggername': '꿀이의 대모험', 'bloggerlink': 'blog.naver.com/hun_62', 'postdate': '20221123'}, {'title': '<b>송도</b>유원지<b>맛집</b> 인천쭈꾸미<b>맛집</b> <b>송도</b>쭈꾸미볶음', 'link': 'https://blog.naver.com/bakkanamu/222931559550', 'description': '재방문 무조건 할 것 같다. 업체명: 송도쭈꾸미볶음 주소: 인천광역시 연수구 청량로155번길 11 연락처: 032-831-6956 #송도유원지맛집 #인천쭈꾸미맛집 #인천옥련동맛집 #인천<b>송도맛집</b>', 'bloggername': '별이 내게 오다', 'bloggerlink': 'blog.naver.com/bakkanamu', 'postdate': '20221117'}, {'title': '<b>송도</b>타임스페이스<b>맛집</b> <b>송도</b>파스타 오일리 !', 'link': 'https://blog.naver.com/lee870910/222936595011', 'description': '#<b>송도맛집</b> #인천대입구역맛집 페투치네면은 약간 칼국수 같은 면이라서 소스가 잘 베어져 있었고 부채살스테이크도 부드럽고 저희가 좋아하는 미듐레어로 잘 구워져서 나왔답니다. 송도타임스페이스... ', 'bloggername': 'Happy Traveler ❤️', 'bloggerlink': 'blog.naver.com/lee870910', 'postdate': '20221123'}, {'title': '인천<b>송도맛집</b>, 가성비 점심 밥집 오봉집 송도인천대입구역점', 'link': 'https://blog.naver.com/trade05/222933104550', 'description': '<b>송도</b> 타임스퀘어 1층에 있어요 오봉집 <b>송도</b>인천대입구역점은 <b>맛집</b>들이 많이 있는 <b>송도</b>타임스페이스에 위치하고 있어요! 주차도 건물 지하에 무료 주차가능하구요, 지하철로도 인천대입구역 1번출구에서... ', 'bloggername': 'allegro con brio', 'bloggerlink': 'blog.naver.com/trade05', 'postdate': '20221120'}, {'title': '송도 인도요리 머노까머나 정통커리가 맛있는 <b>송도맛집</b>', 'link': 'https://blog.naver.com/nayhs/222935736472', 'description': '0507-1376-9592 &lt;영업시간&gt; 매일 10:00-22:00 트리플스트리트 지하 무료주차 #송도인도요리 #<b>송도맛집</b> #트리플스트리트맛집 #송도인도음식점 #테크노파크역맛집 #송도커리맛집', 'bloggername': 'maybe_biasa', 'bloggerlink': 'blog.naver.com/nayhs', 'postdate': '20221122'}, {'title': '[부산 <b>송도 맛집</b>] 송도해수욕장 앞 오래된 분식 맛집 ‘아 그집’', 'link': 'https://blog.naver.com/gomgomii_/222929626995', 'description': '소문대로 오징어튀김이 진짜 맛있더라구요 떡볶이랑 순대도 넘 맛남 ~~~ 옛날 분식 느낌 찾는다면 추천합니다 부산 <b>송도 맛집</b> 아그집 내돈내산 후기 끝 #부산분식맛집 #부산<b>송도맛집</b> #부산아그집 #송도아그집', 'bloggername': '༼•̀ɷ•́༽', 'bloggerlink': 'blog.naver.com/gomgomii_', 'postdate': '20221115'}, {'title': '<b>송도</b>오네스타<b>맛집</b> 마루젠우동<b>송도</b>점 &quot;추운날 땡기는 일식우동!... ', 'link': 'https://blog.naver.com/joojoo623/222944176996', 'description': '<b>송도맛집</b> 송도우동맛집 인천송도우동 인천송도일식 인천송도덮밥 인천송도카레 인천<b>송도맛집</b> 송도오네스타맛집 송도현대프리미엄아울렛맛집 송도마루젠우동 마루젠우동송도점 마루젠우동 송도점 인천... ', 'bloggername': '맛기행 취재 by 바바언니', 'bloggerlink': 'blog.naver.com/joojoo623', 'postdate': '20221202'}, {'title': '<b>송도</b> 수제버거 <b>맛집</b> 오지버거 마싯졍', 'link': 'https://blog.naver.com/mits37/222942664506', 'description': '많이 나오는데 오지버거는 소스에 특색도 있고 고기 퀄리티도 나쁘지 않았쑴 요 동네 학원 끝나고 아이들 많이 먹을꺼 같은 기분.. #오지버거 #오지버거송도 #송도버거 #송도수제버거 #송도햄버거 #<b>송도맛집</b>', 'bloggername': '꾸준히 그리고 기다림.', 'bloggerlink': 'blog.naver.com/mits37', 'postdate': '20221130'}, {'title': '본대가 본점 <b>송도맛집</b> 맛있는 감자탕', 'link': 'https://blog.naver.com/fhfps303/222911150930', 'description': '오빠랑 둘이서 배부르게 냠냠 ㅎㅎ 넘나 맛있었던 본대가 본점 <b>송도맛집</b> 맛있는 감자탕 본대가 본점 <b>송도맛집</b> 맛있는 감자탕 #본대가본점 #<b>송도맛집</b> #감자탕 #센트럴파크맛집 #감자탕맛집 #본대가 #본때', 'bloggername': '니하오 따쟈하오 안녕하오', 'bloggerlink': 'blog.naver.com/fhfps303', 'postdate': '20221026'}, {'title': '인천 <b>송도 맛집</b> 지니마라탕 마라탕 밥집 중 최고', 'link': 'https://blog.naver.com/wldnjs10/222874464249', 'description': '너무 너무 좋아하는데요, 최근 먹은 마라탕 중 정말 맛중맛이었던 인천 <b>송도 맛집</b> 소개해요. 마라탕 밥집 지니마라탕은 송도 푸르지오월드마크에 있어요. 지하주차장 사용 가능해요. 인천 <b>송도 맛집</b>... ', 'bloggername': '소소한 행복 :)', 'bloggerlink': 'blog.naver.com/wldnjs10', 'postdate': '20220914'}, {'title': '<b>송도 맛집</b> 베스트10 피제리아일피노가 원탑인듯', 'link': 'https://blog.naver.com/kpi0320/222918760711', 'description': '지난 주에 지인들과 만나기 위해서 <b>송도 맛집</b> 베스트10에 든 일피노를 방문했는데용 이 곳은... 갔었는데 송도푸르지오월드마크 1단지에 주차하고 2층으로 올라가면 되서 편했고 전철을 이용하실 분들은... ', 'bloggername': '히뽀의 궁금증 해결하기', 'bloggerlink': 'blog.naver.com/kpi0320', 'postdate': '20221103'}, {'title': '<b>송도</b> 센트럴파크 <b>맛집</b> 하남돼지집 센트럴파크점, 질 좋은... ', 'link': 'https://blog.naver.com/yseo1040/222935652476', 'description': '헬인 송도에서 맘편하게 오래 있기에도 부담이 없다. 감히 상대할 곳이 없다는 당당한 #<b>송도맛집</b>... 부담없는 #송도센트럴파크맛집 을 찾는다면 추천하는 #하남돼지집 :) 송도까지 가서 힘들게 모험말고 보장된... ', 'bloggername': '．_ ．', 'bloggerlink': 'blog.naver.com/yseo1040', 'postdate': '20221122'}, {'title': '<b>송도</b>신도시 <b>맛집</b> / <b>송도</b>고기집 / <b>송도</b>소고기 / <b>송도</b>한우... ', 'link': 'https://blog.naver.com/9001177/222930255209', 'description': '송도신도시 맛집 송도고기집 송도소고기 송도한우 한우에빠지다 우래기들 소고기먹고싶다고~~ 집근처... 냄새부터 구수~하니 끝장남 재료안아끼는 <b>송도맛집</b> 한우에빠지다! 두부도 큼직큼직 버섯도가득... ', 'bloggername': '행복하지현', 'bloggerlink': 'blog.naver.com/9001177', 'postdate': '20221116'}, {'title': '해양경찰청 연말회식 추천! 가성비 좋은 <b>송도</b> 소고기 <b>맛집</b> 갈풍집', 'link': 'https://blog.naver.com/lgirlsbravol/222944199764', 'description': '집 앞에 있었으면 1주1갈비 할 정도로 진짜 맛있음!! 강추강추 <b>송도</b> 소고기 <b>맛집</b>, <b>송도</b> 연말 회식 장소 찾는다면 완전 추천이다! #<b>송도</b>갈비<b>맛집</b> #소갈비살전문점 #쏘맥고기 #<b>송도</b>소고기<b>맛집</b> #연말회식 #가족외식', 'bloggername': '일상기록용', 'bloggerlink': 'blog.naver.com/lgirlsbravol', 'postdate': '20221202'}, {'title': '하늘면옥 <b>송도</b>갈비<b>맛집</b>', 'link': 'https://blog.naver.com/manna_girl/222919506251', 'description': '#하늘면옥 #인천<b>송도맛집</b> #송도유원지맛집 #<b>송도맛집</b> #송도갈비 #송도냉면 #육회냉면 #송도보리밥 하늘면옥 송도 삼겹살 갈비 그리고 냉면, 보리밥 맛집 매일 11:00~23:00 인천 연수구 컨벤시아대로 42번길 20 송도... ', 'bloggername': '매나걸의 매나라이프', 'bloggerlink': 'blog.naver.com/manna_girl', 'postdate': '20221104'}, {'title': '<b>송도</b>유원지<b>맛집</b>으로 인정한 동춘동<b>맛집</b> 다하누 인천<b>송도</b>점', 'link': 'https://blog.naver.com/bakkanamu/222940082097', 'description': '업체명 : 다하누 인천송도점 업체주소 : 인천 연수구 동춘동 789-21 업체연락처 : 0507-1387-9209 #다하누 #다하누인천송도점 #동춘동맛집 #송도유원지맛집 #송도유원지소고기 #<b>송도맛집</b> #송도소고기 #송도유원지고기', 'bloggername': '별이 내게 오다', 'bloggerlink': 'blog.naver.com/bakkanamu', 'postdate': '20221128'}, {'title': '<b>송도</b>수육<b>맛집</b> 황해수육 <b>송도</b>점 회식장소로도 good!', 'link': 'https://blog.naver.com/lee870910/222936925235', 'description': '송도수육맛집 송도회식장소 황해수육 송도점 신랑이랑 다녀온 #송도수육맛집 #황해수육 소꼬리, 스지... 가족모임이나 #송도회식장소 찾으시는 분들이라면 주목!! 해주세요 :) #<b>송도맛집</b> #황해수육송도점... ', 'bloggername': 'Happy Traveler ❤️', 'bloggerlink': 'blog.naver.com/lee870910', 'postdate': '20221124'}, {'title': '인천 <b>송도 맛집</b> 트리플스트리트 담솥 웨이팅있는 식당', 'link': 'https://blog.naver.com/lovableje/222928597633', 'description': '워낙에 사람들이 많이 찾는 곳이라 가보게되었는데, 운 좋게 기다림 없이 먹을 수 있어서 더욱 만족스러웠던 담솥이었습니다. 인천 <b>송도</b>에서 <b>맛집</b> 찾으시는 분들은 한번 들러보셔도 좋을 듯 싶어요:)', 'bloggername': '쯘이의 꽃같은일상', 'bloggerlink': 'blog.naver.com/lovableje', 'postdate': '20221114'}, {'title': '[인천 센트럴파크 <b>맛집</b>] <b>송도</b> 한식 돈불식당 <b>송도</b>점 에서 냠냠 :&gt;', 'link': 'https://blog.naver.com/ai_hada/222926759887', 'description': '분들 중 송도 한식 찾는분들에게도 추천 ㅎㅎ +오늘도 송도의밤은 아름다웠다. #<b>송도맛집</b> #송도센트럴파크역맛집 #인천대입구역맛집 #송도동맛집 #송도고기집 #송도한식 #송도술집 #송도데이트 #돈불식당송도', 'bloggername': '스윗메르헨', 'bloggerlink': 'blog.naver.com/ai_hada', 'postdate': '20221112'}, {'title': '<b>송도</b>스시 본점 &lt;10년된 원조 <b>송도</b>초밥<b>맛집</b>&gt; <b>송도</b>센트럴파크맛... ', 'link': 'https://blog.naver.com/joojoo623/222934692969', 'description': '#<b>송도맛집</b> #송도스시 #송도초밥맛집 #송도스시맛집 #송도센트럴파크맛집 해시태그를 먹방후기와 함께 올려주시면, 무려 초밥 2피스가 무료로 제공된다고 합니다  배달도 가능하고 포장도 해가실 수 있는 점... ', 'bloggername': '맛기행 취재 by 바바언니', 'bloggerlink': 'blog.naver.com/joojoo623', 'postdate': '20221121'}, {'title': '<b>송도 맛집</b>, 구성이 좋은 초밥 맛집, 송도스시', 'link': 'https://blog.naver.com/burninghiro/222918891462', 'description': '#내돈내산방문후기 <b>송도</b>스시 * 건물 내 지하 2시간 주차 가능 (주차 후 가게 문의) <b>송도</b> 근처 왔다가 초밥 먹고 싶어 <b>송도</b> 초밥 <b>맛집</b> 검색하니 근처에 뜨길래 방문한 곳! 원래 스시웨이었고 <b>송도</b>스시라는 이름으로... ', 'bloggername': '어느봄날에', 'bloggerlink': 'blog.naver.com/burninghiro', 'postdate': '20221103'}, {'title': '<b>송도</b>타임스페이스<b>맛집</b> 꼬치의품격 100%닭다리살꼬치 생맥주1... ', 'link': 'https://blog.naver.com/joojoo623/222938644316', 'description': '#<b>송도맛집</b> #송도타임스페이스맛집 #인천송도술집 #인천대입구역술집 #인천대입구역맛집 #송도꼬치구이 #송도생맥주 #송도신상맛집 #인천대맛집 #송도치킨집 #송도치킨맛집 #송도꼬치맛집... ', 'bloggername': '맛기행 취재 by 바바언니', 'bloggerlink': 'blog.naver.com/joojoo623', 'postdate': '20221126'}, {'title': '<b>송도</b> 커넬워크<b>맛집</b> 류경면옥 가성비 좋은 샤브샤브 후기', 'link': 'https://blog.naver.com/lee870910/222884628697', 'description': '송도커넬워크맛집 송도샤브샤브 류경면옥 송도점 종종, 맛있는 집을 찾아가는 송도 커넬워크 신랑이랑... #<b>송도맛집</b> #송도샤브샤브 류경면옥 메뉴판이에요. 평일 점심에는 만두전골 or 샤브샤브를... ', 'bloggername': 'Happy Traveler ❤️', 'bloggerlink': 'blog.naver.com/lee870910', 'postdate': '20220926'}, {'title': '<b>송도</b>한정식<b>맛집</b> 아리아리랑 고품격한옥 한식코스요리 상견례... ', 'link': 'https://blog.naver.com/joojoo623/222934377071', 'description': '#<b>송도맛집</b> #송도한정식 #송도상견례장소 #송도한식 #송도가족모임 #송도한옥식당 #송도돌잔치장소 #송도한식코스 #아리아리랑 #구<b>송도맛집</b> #송도유원지맛집 #송도아리아리랑 #아리아리랑송도점', 'bloggername': '맛기행 취재 by 바바언니', 'bloggerlink': 'blog.naver.com/joojoo623', 'postdate': '20221121'}, {'title': '[<b>송도맛집</b>] 커넬워크 맛집 류경면옥 후기', 'link': 'https://blog.naver.com/wltjsk12/222940162803', 'description': '끝날 때 까지 끝난 게 아닌 류경면옥!!!!!!!!!! 온육수/따뜻한 메밀차/커피 까지!! 후식까지 푸짐한 커넬워크 맛집 류경면옥 대박입니다&gt;&lt; 커넬워크 주차 가능합니다! <b>송도맛집</b>/커넬워크맛집/송도샤브샤브', 'bloggername': '여행은 지자매♬', 'bloggerlink': 'blog.naver.com/wltjsk12', 'postdate': '20221128'}, {'title': '인천 <b>송도 맛집</b> 술집 마라탕 지니마라탕', 'link': 'https://blog.naver.com/justpar/222868776787', 'description': '인천 <b>송도 맛집</b> 술집 마라탕 지니마라탕으로 생겼더라고요 맛집 자리엔 항상 맛집이 들어오는 법칙이... SNS 이벤트도 하더라고요 #먹방 #마라탕 #마라샹궈 #지니마라탕 #<b>송도맛집</b> #송도점마라탕 음료 서비스... ', 'bloggername': 'Bling J', 'bloggerlink': 'blog.naver.com/justpar', 'postdate': '20220906'}, {'title': '비스트로훈 New와인레스토랑 인천대입구<b>맛집</b> <b>송도</b>파스타<b>맛집</b>', 'link': 'https://blog.naver.com/joojoo623/222931665585', 'description': '2층 #인천<b>송도맛집</b> #송도파스타맛집 #송도와인맛집 #송도데이트코스 #송도기념일식사 #인천송도와인바 #인천대입구역 #인천대입구맛집 #송도타임스페이스맛집 #<b>송도맛집</b> #송도와인맛집... ', 'bloggername': '맛기행 취재 by 바바언니', 'bloggerlink': 'blog.naver.com/joojoo623', 'postdate': '20221118'}, {'title': '<b>송도</b>타임스페이스<b>맛집</b> 오일리 로맨틱한 <b>송도</b>파스타<b>맛집</b>', 'link': 'https://blog.naver.com/joojoo623/222933939888', 'description': '행복한 브런치 데이트 #송도타임스페이스맛집 #송도인천대맛집 #<b>송도맛집</b> #인천대입구역맛집 #송도파스타맛집 #송도레스토랑 #송도뇨끼맛집 #송도데이트코스 #송도소개팅장소 #송도연인과 #송도CGV맛집... ', 'bloggername': '맛기행 취재 by 바바언니', 'bloggerlink': 'blog.naver.com/joojoo623', 'postdate': '20221121'}, {'title': '인천 <b>송도</b>센트럴파크 <b>맛집</b> 감동의 한우를 맛본 <b>송도</b>1동 우심', 'link': 'https://blog.naver.com/ehdrnr1004e/222931708393', 'description': '#인천<b>송도</b>센트럴파크<b>맛집</b> #<b>송도</b>1동<b>맛집</b> -- 지난 주말에는 괜찮은 인천 <b>송도</b>센트럴파크 <b>맛집</b> 룸식당이 없나 찾아보다가 발견한 한우 전문점이 있어요. 고기 퀄리티도 상당히 좋았고 직원분들도 무척 친절했던... ', 'bloggername': '소소하지만 행복한 일상을 꾸려가는 므넹’s 공간', 'bloggerlink': 'blog.naver.com/ehdrnr1004e', 'postdate': '20221118'}, {'title': '<b>송도</b> 센트럴파크 <b>맛집</b> 누구나홀딱반한닭', 'link': 'https://blog.naver.com/pmy900927/222919136436', 'description': '오래 유지돼서 뭔가 했더니 냉동 컵 사용하시네요 생맥주 맛집!!!! 위생도 깔끔해요 국물 떡볶이 3,900원 포장해서 호텔로 돌아왔어요 맛있게 잘 먹었습니다 #송도센트럴파크 #<b>송도맛집</b> #송도센트럴파크맛집', 'bloggername': '맛있는 이야기', 'bloggerlink': 'blog.naver.com/pmy900927', 'postdate': '20221104'}, {'title': '[<b>송도맛집</b>/송도뽈찜] 부산 1975 대구탕 후기', 'link': 'https://blog.naver.com/wltjsk12/222926998942', 'description': '배부른데 맛있어서 계속 먹어 ㅜㅜ 와. 다음에 가면 김 사와야지! ㅋㅋㅋㅋㅋㅋㅋㅋ 다 먹고 주차장 가는 계단,,, 맛있게 먹었으니 칼로리를 소모해보자! <b>송도맛집</b>/송도뽈찜/송도해장/송도대구탕', 'bloggername': '여행은 지자매♬', 'bloggerlink': 'blog.naver.com/wltjsk12', 'postdate': '20221112'}, {'title': '장군쭈꾸미 <b>송도</b>포장<b>맛집</b> 낙곱새포장후기', 'link': 'https://blog.naver.com/fhfps303/222903672725', 'description': '괜찮을꺼 같고 요리하기싫은날 포장해와서 조리만 하면 맛있고 푸짐하게 한끼 잘먹을수 있어요 ㅎㅎ 장군쭈꾸미 송도포장맛집 낙곱새포장후기 #장군쭈꾸미 #송도포장맛집 #낙곱새포장후기 #<b>송도맛집</b> #송도낙곱새', 'bloggername': '니하오 따쟈하오 안녕하오', 'bloggerlink': 'blog.naver.com/fhfps303', 'postdate': '20221018'}, {'title': '<b>송도</b> 고기 <b>맛집</b> 찾으신다면 <b>송도</b> 고깃집 조선부뚜막 추천드려요.', 'link': 'https://blog.naver.com/justnopressure/222931518513', 'description': '*연락처: 0507-1322-2727 #<b>송도맛집</b> #송도드림시티맛집 #송도해양경찰청맛집 #인천<b>송도맛집</b> #송도고기집 #송도삼겹살 #송도고깃집 #송도고기맛집 #조선부뚜막송도점 본 원고는 업체로부터 소정의 원고료를 지급받아... ', 'bloggername': '라이프 오브 픽씨', 'bloggerlink': 'blog.naver.com/justnopressure', 'postdate': '20221117'}, {'title': '<b>송도</b>중국집 <b>맛집</b> 피올리앙에서 모임 했어요', 'link': 'https://blog.naver.com/suny0816/222916992580', 'description': '정성스럽고 세련된 #송도중국집맛집 #피오리앙에서 모임, 데이트 식사 추천해요. #송도도중국집 #송도중국집맛집 #인천<b>송도맛집</b> #인천송도중국집 #송도중국집추천', 'bloggername': '건강한 하루를 보내는 일기', 'bloggerlink': 'blog.naver.com/suny0816', 'postdate': '20221101'}, {'title': '<b>송도</b>소고기<b>맛집</b> 한우고집!', 'link': 'https://blog.naver.com/bossguy/222916570277', 'description': '[한우고집]으로오세요 맛난 소고기를 저렴한 가격에 가성비 최고인 송도소고기맛집 한우고집 꼭기억하세요! <b>송도맛집</b> 소고기 맛집은 한우고집으로 송도꽃배달 송도화분배달은 행복이있는공간으로요^^', 'bloggername': '행복이 있는 공간', 'bloggerlink': 'blog.naver.com/bossguy', 'postdate': '20221101'}, {'title': '<b>송도</b>밥집 <b>송도</b>동<b>맛집</b> 한국인의 소울푸드, 삼산회관... ', 'link': 'https://blog.naver.com/lee870910/222942053905', 'description': '어떤 방법으로 먹어도 맛있어요 :) 송도타임스페이스맛집, #<b>송도맛집</b> 찾으시는 분들이라면 한국인의 소울푸드 #송도김치찌개 돼지김치구이를 맛볼 수 있는 삼산회관 송도타임스페이스점 방문해보세요. 불펌... ', 'bloggername': 'Happy Traveler ❤️', 'bloggerlink': 'blog.naver.com/lee870910', 'postdate': '20221130'}, {'title': '<b>송도</b>타임스페이스<b>맛집</b> / <b>송도</b>파스타<b>맛집</b> : 오일리', 'link': 'https://blog.naver.com/9001177/222934419845', 'description': '오픈 한시간 뒤인 12시쯤 만석이였던 송도파스타맛집 오일리 찐 맛집. #<b>송도맛집</b> #송도파스타 #송도파스타맛집 #송도오일리 #오일리 #타임스페이스맛집 #송도타임스페이스맛집 #송도오일파스타맛집', 'bloggername': '행복하지현', 'bloggerlink': 'blog.naver.com/9001177', 'postdate': '20221121'}, {'title': '&lt;<b>송도</b> 트리플스트리트 <b>맛집</b>&gt; MANOKAMANA/머노까머나... ', 'link': 'https://blog.naver.com/skan5422/222931364610', 'description': '오늘은 #<b>송도맛집</b> #머노까머나트리플스트리트2호점 이야기 함께해요. 송도 아울렛에 쇼핑하러 갔던 날, 쇼핑에 앞서 먹방부터 ㅋㅋ 근데 이 날은 이상하게.. 뭘 먹어야할지... 정하질 못 하겠더라구요. 그냥... ', 'bloggername': '꿈꾸는 모래시계', 'bloggerlink': 'blog.naver.com/skan5422', 'postdate': '20221117'}, {'title': '<b>송도</b>gc 인천 <b>송도</b> 센트럴파크호텔 <b>맛집</b> 우심', 'link': 'https://blog.naver.com/sia855/222936335672', 'description': '모던하고 깔끔한 분위기라 데이트 하기도 좋고, 최상급 한우만 사용하여 고기 맛도 좋고 고객 응대도 훌륭한 인천 <b>송도</b> 센트럴파크 <b>맛집</b> <b>송도</b>gc <b>맛집</b> 우심 특별한 날 식사로 추천드려요. #<b>송도</b>gc<b>맛집</b>... ', 'bloggername': '행복한 시야의 블로그', 'bloggerlink': 'blog.naver.com/sia855', 'postdate': '20221123'}, {'title': '[연수동맛집] <b>송도맛집</b> 한판집 추천드려요~', 'link': 'https://blog.naver.com/hungi911/222925589672', 'description': '오늘은 삼겹살이 유명한 <b>송도 맛집</b> #한판집 을 다녀왔어요~ 이제 한몫씩하는 다섯식구가 됐기때문에..... 여기는 맛집이다 싶었어요^^ 한판집의 메뉴판이예요~^^ 한판이 너무 부담수러우면 단품메뉴도 있으니... ', 'bloggername': '생각몽땅 with 연계독서와 독후활동♡', 'bloggerlink': 'blog.naver.com/hungi911', 'postdate': '20221111'}, {'title': '9.10월 기록 + 인천 <b>송도 맛집</b> 추천', 'link': 'https://blog.naver.com/rainbowj1/222907446980', 'description': '마지막 맛집츠천! <b>송도 맛집</b> 추천 4번 &lt;&lt;등촌 칼국수&gt;&gt; 여기는 미나리랑 고기 같이 싸먹는게 ㄹㅇ 존맛임 미나리가 이렇게 맛있는지 몰랏음 ㅠㅠ 고기-&gt;칼국수-&gt;볶음밥-&gt;아이스크림 ㄹㅇ 딱젛음 힘들어서... ', 'bloggername': 'skandbx', 'bloggerlink': 'blog.naver.com/rainbowj1', 'postdate': '20221022'}, {'title': '[인천 연수구 <b>맛집</b>] <b>송도</b> 마라탕 지니마라탕에서 마라탕 냠냠', 'link': 'https://blog.naver.com/ai_hada/222880938571', 'description': '냠냠 사진 보니 다시 먹고싶은 인천 연수구 맛집 송도마라탕 지니마라탕 이엇습니다. #인천<b>송도맛집</b> #송도동맛집 #송도센트럴파크맛집 #송도신도시맛집 #송도마라탕 #연수구맛집 #송도데이트 #송도혼술 #송도밥집', 'bloggername': '스윗메르헨', 'bloggerlink': 'blog.naver.com/ai_hada', 'postdate': '20220922'}, {'title': '인천<b>송도</b>에 곱창<b>맛집</b>은 황소곱창이지!', 'link': 'https://blog.naver.com/ckxus/222937639080', 'description': '아무리배가불러도 볶음밥을 안먹으면 다먹은거 같지가 않는 기분이잖아요 볶음밥까지 마무리하고 깔끔하고도 완벽한 저녁이었답니다! #<b>송도맛집</b> #송도곱창맛집 #송도황소곱창 #인천곱창맛집', 'bloggername': '혜스티아의 평화로운 일상', 'bloggerlink': 'blog.naver.com/ckxus', 'postdate': '20221125'}, {'title': '인천 <b>송도</b> 분위기 좋은 레스토랑, 뇨끼 <b>맛집</b> &apos;마타렐로... ', 'link': 'https://blog.naver.com/tmakdlfcjs/222925117853', 'description': '오게 됐지만 분위기도 좋고 맛도 좋고 아주 만족했다  캐치테이블로 미리 예약하시길 추천드려욧 ! #인천<b>송도맛집</b> #인천송도레스토랑 #송도분위기좋은레스토랑 #송도데이트코스 #송도저녁맛집 #마타렐로', 'bloggername': 'ᴬ ˢᴾᴱᶜᴵᴬᴸ ᴹᴼᴹᴱᴺᵀ ✨', 'bloggerlink': 'blog.naver.com/tmakdlfcjs', 'postdate': '20221110'}, {'title': '<b>송도맛집</b> 호야숯불꼼장어... 스테미너+피부에 짱짱! 송도장어맛집', 'link': 'https://blog.naver.com/joojoo623/222940280908', 'description': '<b>송도맛집</b> 송도꼼장어 인천<b>송도맛집</b> 연수구맛집 송도꼼장어맛집 송도장어맛집 송도닭발맛집 송도뼈없는닭발 송도연예인맛집 송도월드컵맛집 꼼장어효능 꼼장어성분 송도회식 송도연말모임 송도단체석식당... ', 'bloggername': '맛기행 취재 by 바바언니', 'bloggerlink': 'blog.naver.com/joojoo623', 'postdate': '20221128'}, {'title': '[<b>송도맛집</b>] 송도트리플스트리트맛집, 숯불구이포차 조명탄', 'link': 'https://blog.naver.com/skgus1231/222942461034', 'description': '[<b>송도맛집</b>] 송도트리플스트리트맛집, 숯불구이포차 조명탄 영업시간 15:00-02:00 (일요일 12:00-) 주차 가능 송도 트리플스트리트 C동에 위치한 송도술집 조명탄 은은한 조명의 실내포차 느낌에, 매장이 넓어서... ', 'bloggername': '잉여로운 효니네 ~♬', 'bloggerlink': 'blog.naver.com/skgus1231', 'postdate': '20221130'}, {'title': '<b>송도</b>국제도시점 &lt;힙한 셀카<b>맛집</b> 레트로풍카페&gt; <b>송도</b>브런치<b>맛집</b>', 'link': 'https://blog.naver.com/joojoo623/222937106357', 'description': '#송도카페추천 #송도카페 #송도신도시카페 #<b>송도맛집</b> #인천대입구역맛집 #인천대입구역카페 #송도커피맛집 #송도신도시카페 #송도센트럴파크카페 #송도읍천리커피 #송도읍천리382', 'bloggername': '맛기행 취재 by 바바언니', 'bloggerlink': 'blog.naver.com/joojoo623', 'postdate': '20221124'}, {'title': '[<b>송도</b> 현대아울렛 <b>맛집</b>] 사월에 보리밥과 쭈꾸미', 'link': 'https://blog.naver.com/wod337/222906648680', 'description': '건강한 한식 먹기 괜찮은 곳. 숭늉도 있어서~~ 밥 먹고 숭늉 한 잔으로 마무리. #송도현대프리미엄아울렛맛집 #<b>송도맛집</b> #송도쭈꾸미맛집 #사월에보리밥과쭈꾸미대기시간', 'bloggername': '꿈꾸는 미야', 'bloggerlink': 'blog.naver.com/wod337', 'postdate': '20221021'}, {'title': '<b>송도</b> 트리플스트리트 <b>맛집</b> 바네스타코 내돈내산 찐추천!', 'link': 'https://blog.naver.com/ene416/222943393584', 'description': '송도 트리플스트리트 맛집 바네스타코 내돈내산 찐추천! 아 계~~속 타코가 먹고 싶어서 찾다가 알게 된... 맨날 고기, 아님 파스타 이런 것만 먹으니까 색다른거 먹고 팠는데 이미 <b>송도 맛집</b>으로 아는 사람은 다... ', 'bloggername': '매일 소소하게', 'bloggerlink': 'blog.naver.com/ene416', 'postdate': '20221201'}, {'title': '<b>송도</b> 우대갈비 <b>맛집</b>, 전구식당 최고!', 'link': 'https://blog.naver.com/sarang612/222914305342', 'description': '근처에 내가 조아하는 스탠다드스퀘어 있어서 뇸뇸 마시면서 수다타임 방구들 다 찢어져서 넘 슬프다 자주 만나자 방구들ㅇㅏ 뿡뿡 #<b>송도맛집</b> #인천<b>송도맛집</b> #송도고기맛집 #인천송도고기맛집 #송도우대갈비... ', 'bloggername': 'H LOG', 'bloggerlink': 'blog.naver.com/sarang612', 'postdate': '20221029'}, {'title': '[<b>송도 맛집</b>] 진허우 - 홍콩식 중화요리 짱짱', 'link': 'https://blog.naver.com/kyj1992kr/222941630402', 'description': '특히 나는 씨리얼새우, 어향가지&amp;밥 투픽할래,, ⭐️우리의 풀메뉴샷⭐️ 넘넘 만족스럽게 먹은 <b>송도</b> 센트럴파크<b>맛집</b> 진허우! 또 가고 싶다! 아트포레가 은근 밥먹으러 오기 좋다. 바로 앞에 센팍도 있고 카페도... ', 'bloggername': '평범하지만, 조금은 특별하게✨', 'bloggerlink': 'blog.naver.com/kyj1992kr', 'postdate': '20221129'}, {'title': '<b>송도 맛집</b> 한잔하기 좋은 송쭈집 다녀온 후기!', 'link': 'https://blog.naver.com/sksk1988/222925062709', 'description': '인기 맛집답게 포장으로도 판매하니 집에 포장해와서 먹기도 정말 간편하겠죠? 주꾸미 집답지 않게... 주변에도 <b>송도 맛집</b>으로 항상 추천하고 다니는 집이네요. 포레스트아웃팅스 송도점 인천 연수구 청량로... ', 'bloggername': '개미는뚠뚠', 'bloggerlink': 'blog.naver.com/sksk1988', 'postdate': '20221110'}, {'title': '[푸드로그] <b>송도 맛집</b> 몰아보기 / 송도 곱창이야기, 연꽃치... ', 'link': 'https://blog.naver.com/ssoomlog/222935994524', 'description': '그동안 갔었던 <b>송도 맛집</b> 모음 송도 곱창이야기 송도 곱창 맛집, 여기는 두 번 감 곱창이 맛있다 맥주랑 같이 먹으면 더 맛있음 곱창 맛집 찾기 은근 쉽지 않은데 여기는 인정 추천드림 https://naver.me... ', 'bloggername': 'SsooM&apos;Log', 'bloggerlink': 'blog.naver.com/ssoomlog', 'postdate': '20221123'}, {'title': '[인천 <b>송도 맛집</b>] 센트럴파크역 근처 브런치&amp;디너... ', 'link': 'https://blog.naver.com/wls576/222945952406', 'description': '가보고 싶던 <b>송도</b>에서 유명한 레스토랑인 #임파스토 에 가려다 매장이 많이 좁다는 <b>송도</b> 주민 친구의 말에 포기를 하고, 올해 생겼다는 임파스토 분점 #마타렐로 에 다녀왔다. ✔️ 영업시간 : 오전 11시~오후... ', 'bloggername': '여전히 봄은 오고간다', 'bloggerlink': 'blog.naver.com/wls576', 'postdate': '20221204'}, {'title': '<b>송도</b>라멘<b>맛집</b> 라멘나츠 / 하삼동커피 센트럴파크점', 'link': 'https://blog.naver.com/dnam77/222927369944', 'description': '#송도라멘 #인천송도라멘 #<b>송도맛집</b>라멘 #송도라멘맛집 #나츠쇼유라멘 #센트럴파크역맛 #라멘나츠 #닭육수라멘 오늘은 #인천라멘맛집 포스팅입니다.. 이번주만 라멘 두번이네요 ㅋㅋㅋ 매장근처 한 곳... ', 'bloggername': '픽스앤조이 독립수리제공업체 070-8166-8160', 'bloggerlink': 'blog.naver.com/dnam77', 'postdate': '20221113'}, {'title': '웅파이:: 미트파이, <b>송도</b> 커넬워크 <b>맛집</b>, <b>송도</b> 센트럴파크 <b>맛집</b>', 'link': 'https://blog.naver.com/tiontoz77/222918379485', 'description': '가야지 ♥️ #송도센트럴파크맛집 #송도커넬워크맛집 #웅파이 #웅파이커넬워크점 #미트파이 #송도미트파이 #송도트리플스트리트맛집 #인천<b>송도맛집</b> #커넬워크데이트 #센트럴파크데이트 #송도데이트... ', 'bloggername': '김다복네집', 'bloggerlink': 'blog.naver.com/tiontoz77', 'postdate': '20221103'}, {'title': '부산 <b>송도</b> 분위기 <b>맛집</b> : 추억의 레스토랑으로 유명한 구름속의... ', 'link': 'https://blog.naver.com/holly7487/222941339248', 'description': '핫한 맛집이었을 것 같다 이런 센스가 지금까지 영업하고 있는 &quot;근본&quot; 아닐까 주인장께서 술을... 그럼 이만 #Touring #부산송도 #부산<b>송도맛집</b> #송도분위기좋은식당 #부산송도레스토랑 #구름속의산책 #추억의가게', 'bloggername': '@Cherrypick', 'bloggerlink': 'blog.naver.com/holly7487', 'postdate': '20221129'}, {'title': '쭈꾸미 그리고 K디저트의 근본 치즈볶음밥 / <b>송도</b>센트럴파크 <b>맛집</b>', 'link': 'https://blog.naver.com/at_bon/222933123780', 'description': '#신복관 #<b>송도맛집</b> #송도신복관 #송도센트럴파크맛집 #송도쭈꾸미 #송도밥집 #송도국제도시 #송도나들이 #송도먹을데 #송도우삼겹 #쭈꾸미맛집 #인천맛집 신복관 센트럴파크점 주차: 식당 건물 주차 크.. 한때... ', 'bloggername': '봉이 프리덤', 'bloggerlink': 'blog.naver.com/at_bon', 'postdate': '20221120'}, {'title': '&lt;<b>송도</b> 해수욕장 <b>맛집</b>/밥집&gt; &quot;꼬막가&quot; 테이블이 넘치도록 푸짐한... ', 'link': 'https://blog.naver.com/h040575/222933349533', 'description': '휴무입니다~~~~~~ #부산맛집 #부산밥집 #부산푸짐한밥집 #광복롯데백화점근처밥집 #남포동근처밥집 #부산가성비최고의밥집 #송도밥집 #<b>송도맛집</b> #송도해수욕장밥집 #송도해수욕장맛집 #부산관광코스... ', 'bloggername': '나의 인생 드라마~', 'bloggerlink': 'blog.naver.com/h040575', 'postdate': '20221120'}, {'title': '[<b>송도 맛집</b>]홍익돈까스 변함없는 맛집', 'link': 'https://blog.naver.com/2qnslrhdwn2/222935378307', 'description': '오랜만에 돈까스 먹으러 #홍익돈까스 홍익돈까스 <b>송도</b>점 처음 생겼을때 진짜 자주 방문했었는데 잊혀져 가다가 갑자기 먹고싶어져서 바로 갔습니다 #홍익돈까스<b>송도</b> #인천돈까스 #<b>송도</b>돈까스<b>맛집</b> 홍익돈까스... ', 'bloggername': '영&apos;s LOG', 'bloggerlink': 'blog.naver.com/2qnslrhdwn2', 'postdate': '20221122'}, {'title': '<b>송도 맛집</b> 오봉집 인천대입구역점', 'link': 'https://blog.naver.com/rkswlwoddl84/222924600084', 'description': '날씨도 좋고 송도 나들이.♀️ 요즘 핫하다는 오봉집을 가봤어요.!! 비쥬얼 무엇 많은 기대안하고... <b>송도맛집</b> 오봉집 032 832 5056 주차장은 지하에 있어요. 3시간 넣어주셔서 여유롭게 먹기까지. 오랜만에 맛있게... ', 'bloggername': 'rkswlwoddl84님의블로그', 'bloggerlink': 'blog.naver.com/rkswlwoddl84', 'postdate': '20221109'}]}\n"
     ]
    }
   ],
   "source": [
    "import os\n",
    "import sys\n",
    "import urllib.request\n",
    "import json\n",
    "\n",
    "client_id = \"vYNcsg3w0EHgPxeC53d6\"\n",
    "client_secret = \"vEDPHV3yfZ\"\n",
    "encText = urllib.parse.quote(\"송도 맛집\")\n",
    "url = \"https://openapi.naver.com/v1/search/blog?query=\" + encText + \"&display=100\" # JSON 결과\n",
    "# url = \"https://openapi.naver.com/v1/search/blog.xml?query=\" + encText # XML 결과\n",
    "request = urllib.request.Request(url)\n",
    "request.add_header(\"X-Naver-Client-Id\",client_id)\n",
    "request.add_header(\"X-Naver-Client-Secret\",client_secret)\n",
    "response = urllib.request.urlopen(request)\n",
    "rescode = response.getcode()\n",
    "if(rescode==200):\n",
    "    response_body = response.read()\n",
    "    result = json.loads(response_body.decode('utf-8'))\n",
    "    print(result)\n",
    "else:\n",
    "    print(\"Error Code:\" + rescode)"
   ]
  },
  {
   "cell_type": "code",
   "execution_count": 10,
   "id": "685bd3fc",
   "metadata": {},
   "outputs": [
    {
     "data": {
      "text/plain": [
       "'회식 하기 좋은 <b>송도</b>신도시<b>맛집</b>'"
      ]
     },
     "execution_count": 10,
     "metadata": {},
     "output_type": "execute_result"
    }
   ],
   "source": [
    "result['items'][0]['title']"
   ]
  },
  {
   "cell_type": "code",
   "execution_count": 12,
   "id": "e274ffe8",
   "metadata": {},
   "outputs": [],
   "source": [
    "item_list = result['items']\n",
    "\n",
    "t_list, l_list, d_list = [], [], []\n",
    "\n",
    "for i in range(len(item_list)):\n",
    "    title = item_list[i]['title']\n",
    "    link = item_list[i]['link']\n",
    "    postdate = item_list[i]['postdate']\n",
    "    \n",
    "    t_list.append(title)\n",
    "    l_list.append(link)\n",
    "    d_list.append(postdate)"
   ]
  },
  {
   "cell_type": "code",
   "execution_count": 14,
   "id": "0cd6fb0c",
   "metadata": {},
   "outputs": [
    {
     "data": {
      "text/html": [
       "<div>\n",
       "<style scoped>\n",
       "    .dataframe tbody tr th:only-of-type {\n",
       "        vertical-align: middle;\n",
       "    }\n",
       "\n",
       "    .dataframe tbody tr th {\n",
       "        vertical-align: top;\n",
       "    }\n",
       "\n",
       "    .dataframe thead th {\n",
       "        text-align: right;\n",
       "    }\n",
       "</style>\n",
       "<table border=\"1\" class=\"dataframe\">\n",
       "  <thead>\n",
       "    <tr style=\"text-align: right;\">\n",
       "      <th></th>\n",
       "      <th>제목</th>\n",
       "      <th>링크</th>\n",
       "      <th>날짜</th>\n",
       "    </tr>\n",
       "  </thead>\n",
       "  <tbody>\n",
       "    <tr>\n",
       "      <th>0</th>\n",
       "      <td>회식 하기 좋은 &lt;b&gt;송도&lt;/b&gt;신도시&lt;b&gt;맛집&lt;/b&gt;</td>\n",
       "      <td>https://blog.naver.com/smartk0304/222944600187</td>\n",
       "      <td>20221203</td>\n",
       "    </tr>\n",
       "    <tr>\n",
       "      <th>1</th>\n",
       "      <td>&lt;b&gt;송도 맛집&lt;/b&gt; 추천 푸짐한 송도 한정식 밥상편지</td>\n",
       "      <td>https://blog.naver.com/joojoo5623/222901759267</td>\n",
       "      <td>20221017</td>\n",
       "    </tr>\n",
       "    <tr>\n",
       "      <th>2</th>\n",
       "      <td>부산 &lt;b&gt;송도 맛집&lt;/b&gt; 사천해물탕 또 생각나</td>\n",
       "      <td>https://blog.naver.com/onoff83/222921656498</td>\n",
       "      <td>20221106</td>\n",
       "    </tr>\n",
       "  </tbody>\n",
       "</table>\n",
       "</div>"
      ],
      "text/plain": [
       "                                제목  \\\n",
       "0   회식 하기 좋은 <b>송도</b>신도시<b>맛집</b>   \n",
       "1  <b>송도 맛집</b> 추천 푸짐한 송도 한정식 밥상편지   \n",
       "2      부산 <b>송도 맛집</b> 사천해물탕 또 생각나   \n",
       "\n",
       "                                               링크        날짜  \n",
       "0  https://blog.naver.com/smartk0304/222944600187  20221203  \n",
       "1  https://blog.naver.com/joojoo5623/222901759267  20221017  \n",
       "2     https://blog.naver.com/onoff83/222921656498  20221106  "
      ]
     },
     "execution_count": 14,
     "metadata": {},
     "output_type": "execute_result"
    }
   ],
   "source": [
    "import pandas as pd\n",
    "\n",
    "item_result = pd.DataFrame({'제목':t_list, '링크':l_list, '날짜':d_list})\n",
    "\n",
    "item_result.head(n=3)"
   ]
  },
  {
   "cell_type": "code",
   "execution_count": 17,
   "id": "6ad61f96",
   "metadata": {},
   "outputs": [],
   "source": [
    "writer = pd.ExcelWriter(\"search_result.xlsx\")\n",
    "item_result.to_excel(writer)\n",
    "writer.save()"
   ]
  },
  {
   "cell_type": "code",
   "execution_count": 18,
   "id": "ce32b546",
   "metadata": {},
   "outputs": [
    {
     "name": "stdout",
     "output_type": "stream",
     "text": [
      "{'lastBuildDate': 'Mon, 05 Dec 2022 11:23:28 +0900', 'total': 10, 'start': 1, 'display': 10, 'items': [{'title': '<b>나</b> <b>홀로</b> 즐거운 <b>집에</b> ', 'link': 'https://movie.naver.com/movie/bi/mi/basic.nhn?code=212849', 'image': 'https://ssl.pstatic.net/imgmovie/mdi/mit110/2128/212849_P01_102904.JPEG', 'subtitle': 'Home Sweet Home Alone', 'pubDate': '2021', 'director': '댄 마저|', 'actor': '아치 예이츠|엘리 켐퍼|롭 딜레이니|티모시 시몬스|', 'userRating': '0.00'}, {'title': '꼬마네꼬의 <b>나홀로 집에</b>', 'link': 'https://movie.naver.com/movie/bi/mi/basic.nhn?code=112313', 'image': 'https://ssl.pstatic.net/imgmovie/mdi/mit110/1123/112313_P03_164623.jpg', 'subtitle': 'Komaneko, Home Alone', 'pubDate': '2013', 'director': '고다 츠네오|', 'actor': '', 'userRating': '0.00'}, {'title': '<b>나홀로 집에</b>', 'link': 'https://movie.naver.com/movie/bi/mi/basic.nhn?code=130246', 'image': 'https://ssl.pstatic.net/imgmovie/mdi/mit110/1302/130246_P01_154908.jpg', 'subtitle': 'Home Alone', 'pubDate': '2013', 'director': '아디 할핀|', 'actor': '', 'userRating': '10.00'}, {'title': '마샤와 곰 - <b>나 홀로 집에</b>', 'link': 'https://movie.naver.com/movie/bi/mi/basic.nhn?code=117912', 'image': 'https://ssl.pstatic.net/imgmovie/mdi/mit110/1179/117912_P01_111129.png', 'subtitle': '', 'pubDate': '2012', 'director': '알레 쿠조브코프|', 'actor': '', 'userRating': '0.00'}, {'title': '<b>나 홀로 집에</b> 5 ', 'link': 'https://movie.naver.com/movie/bi/mi/basic.nhn?code=92135', 'image': '', 'subtitle': 'Home Alone 5: Alone in the Dark', 'pubDate': '2012', 'director': '피터 휴잇|', 'actor': '에디 스티플스|조델 퍼랜드|말콤 맥도웰|데비 마자르|', 'userRating': '7.40'}, {'title': '<b>나홀로 집에</b>', 'link': 'https://movie.naver.com/movie/bi/mi/basic.nhn?code=51425', 'image': '', 'subtitle': '', 'pubDate': '2007', 'director': '정해선|', 'actor': '', 'userRating': '7.00'}, {'title': '<b>나 홀로 집에</b> 4', 'link': 'https://movie.naver.com/movie/bi/mi/basic.nhn?code=37701', 'image': 'https://ssl.pstatic.net/imgmovie/mdi/mit110/0377/C7701-00.jpg', 'subtitle': 'Home Alone 4', 'pubDate': '2002', 'director': '로드 다니엘|', 'actor': '마이크 웨인버그|프렌치 스튜어트|미시 파일|', 'userRating': '4.44'}, {'title': '<b>나 홀로 집에</b> 3', 'link': 'https://movie.naver.com/movie/bi/mi/basic.nhn?code=19150', 'image': 'https://ssl.pstatic.net/imgmovie/mdi/mit110/0191/A9150-00.jpg', 'subtitle': 'Home Alone 3', 'pubDate': '1997', 'director': '라자 고스넬|', 'actor': '알렉스 디 린츠|오렉 크루파|하빌랜드 모리스|데이비드 손톤|스칼릿 조핸슨|레니 본 돌렌|마리안 셀즈|리아 킬스테트|', 'userRating': '8.02'}, {'title': '<b>나 홀로 집에</b> 2 - 뉴욕을 헤매다', 'link': 'https://movie.naver.com/movie/bi/mi/basic.nhn?code=12270', 'image': 'https://ssl.pstatic.net/imgmovie/mdi/mit110/0122/A2270-00.jpg', 'subtitle': 'Home Alone 2: Lost In New York', 'pubDate': '1992', 'director': '크리스 콜럼버스|', 'actor': '맥컬리 컬킨|조 페시|다니엘 스턴|존 허드|캐서린 오하라|', 'userRating': '9.36'}, {'title': '<b>나 홀로 집에</b>', 'link': 'https://movie.naver.com/movie/bi/mi/basic.nhn?code=10016', 'image': 'https://ssl.pstatic.net/imgmovie/mdi/mit110/0100/A0016-02.jpg', 'subtitle': 'Home Alone', 'pubDate': '1990', 'director': '크리스 콜럼버스|', 'actor': '맥컬리 컬킨|조 페시|다니엘 스턴|존 허드|로버츠 브로좀|캐서린 오하라|', 'userRating': '9.43'}]}\n"
     ]
    }
   ],
   "source": [
    "import os\n",
    "import sys\n",
    "import urllib.request\n",
    "import json\n",
    "\n",
    "client_id = \"vYNcsg3w0EHgPxeC53d6\"\n",
    "client_secret = \"vEDPHV3yfZ\"\n",
    "encText = urllib.parse.quote(\"나 홀로 집에\")\n",
    "url = \"https://openapi.naver.com/v1/search/movie?query=\" + encText + \"&display=100\" # JSON 결과\n",
    "# url = \"https://openapi.naver.com/v1/search/blog.xml?query=\" + encText # XML 결과\n",
    "request = urllib.request.Request(url)\n",
    "request.add_header(\"X-Naver-Client-Id\",client_id)\n",
    "request.add_header(\"X-Naver-Client-Secret\",client_secret)\n",
    "response = urllib.request.urlopen(request)\n",
    "rescode = response.getcode()\n",
    "if(rescode==200):\n",
    "    response_body = response.read()\n",
    "    result = json.loads(response_body.decode('utf-8'))\n",
    "    print(result)\n",
    "else:\n",
    "    print(\"Error Code:\" + rescode)"
   ]
  }
 ],
 "metadata": {
  "kernelspec": {
   "display_name": "Python 3 (ipykernel)",
   "language": "python",
   "name": "python3"
  },
  "language_info": {
   "codemirror_mode": {
    "name": "ipython",
    "version": 3
   },
   "file_extension": ".py",
   "mimetype": "text/x-python",
   "name": "python",
   "nbconvert_exporter": "python",
   "pygments_lexer": "ipython3",
   "version": "3.9.12"
  }
 },
 "nbformat": 4,
 "nbformat_minor": 5
}
