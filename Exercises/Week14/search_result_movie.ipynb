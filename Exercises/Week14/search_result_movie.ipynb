{
 "cells": [
  {
   "cell_type": "code",
   "execution_count": 2,
   "id": "56ad1049",
   "metadata": {},
   "outputs": [],
   "source": [
    "import os\n",
    "import sys\n",
    "import urllib.request\n",
    "import json\n",
    "import pandas as pd"
   ]
  },
  {
   "cell_type": "code",
   "execution_count": 1,
   "id": "1f68288d",
   "metadata": {},
   "outputs": [
    {
     "name": "stdout",
     "output_type": "stream",
     "text": [
      "{'lastBuildDate': 'Mon, 05 Dec 2022 11:25:10 +0900', 'total': 3, 'start': 1, 'display': 3, 'items': [{'title': '음악으로 통한다 2015 - 레미파노시앙트리오+<b>위플래쉬</b>', 'link': 'https://movie.naver.com/movie/bi/mi/basic.nhn?code=133114', 'image': '', 'subtitle': '', 'pubDate': '2015', 'director': '', 'actor': 'RP3|', 'userRating': '9.75'}, {'title': '<b>위플래쉬</b>', 'link': 'https://movie.naver.com/movie/bi/mi/basic.nhn?code=119632', 'image': 'https://ssl.pstatic.net/imgmovie/mdi/mit110/1196/119632_P49_103013.jpg', 'subtitle': 'Whiplash', 'pubDate': '2014', 'director': '데이미언 셔젤|', 'actor': '마일즈 텔러|J.K. 시몬스|', 'userRating': '8.81'}, {'title': '<b>위플래쉬</b>', 'link': 'https://movie.naver.com/movie/bi/mi/basic.nhn?code=104189', 'image': 'https://ssl.pstatic.net/imgmovie/mdi/mit110/1041/104189_P01_184328.jpg', 'subtitle': 'Whiplash', 'pubDate': '2013', 'director': '데이미언 셔젤|', 'actor': 'J.K. 시몬스|조니 시몬스|', 'userRating': '7.92'}]}\n"
     ]
    }
   ],
   "source": [
    "client_id = \"vYNcsg3w0EHgPxeC53d6\"\n",
    "client_secret = \"vEDPHV3yfZ\"\n",
    "encText = urllib.parse.quote(\"위플래쉬\")\n",
    "url = \"https://openapi.naver.com/v1/search/movie?query=\" + encText + \"&display=100\" # JSON 결과\n",
    "# url = \"https://openapi.naver.com/v1/search/blog.xml?query=\" + encText # XML 결과\n",
    "request = urllib.request.Request(url)\n",
    "request.add_header(\"X-Naver-Client-Id\",client_id)\n",
    "request.add_header(\"X-Naver-Client-Secret\",client_secret)\n",
    "response = urllib.request.urlopen(request)\n",
    "rescode = response.getcode()\n",
    "if(rescode==200):\n",
    "    response_body = response.read()\n",
    "    result = json.loads(response_body.decode('utf-8'))\n",
    "    print(result)\n",
    "else:\n",
    "    print(\"Error Code:\" + rescode)"
   ]
  },
  {
   "cell_type": "code",
   "execution_count": 10,
   "id": "afdf5370",
   "metadata": {},
   "outputs": [
    {
     "data": {
      "text/html": [
       "<div>\n",
       "<style scoped>\n",
       "    .dataframe tbody tr th:only-of-type {\n",
       "        vertical-align: middle;\n",
       "    }\n",
       "\n",
       "    .dataframe tbody tr th {\n",
       "        vertical-align: top;\n",
       "    }\n",
       "\n",
       "    .dataframe thead th {\n",
       "        text-align: right;\n",
       "    }\n",
       "</style>\n",
       "<table border=\"1\" class=\"dataframe\">\n",
       "  <thead>\n",
       "    <tr style=\"text-align: right;\">\n",
       "      <th></th>\n",
       "      <th>title</th>\n",
       "      <th>link</th>\n",
       "      <th>image</th>\n",
       "      <th>director</th>\n",
       "    </tr>\n",
       "  </thead>\n",
       "  <tbody>\n",
       "    <tr>\n",
       "      <th>0</th>\n",
       "      <td>Whiplash</td>\n",
       "      <td>https://movie.naver.com/movie/bi/mi/basic.nhn?...</td>\n",
       "      <td>https://ssl.pstatic.net/imgmovie/mdi/mit110/11...</td>\n",
       "      <td>데이미언 셔젤|</td>\n",
       "    </tr>\n",
       "  </tbody>\n",
       "</table>\n",
       "</div>"
      ],
      "text/plain": [
       "      title                                               link  \\\n",
       "0  Whiplash  https://movie.naver.com/movie/bi/mi/basic.nhn?...   \n",
       "\n",
       "                                               image  director  \n",
       "0  https://ssl.pstatic.net/imgmovie/mdi/mit110/11...  데이미언 셔젤|  "
      ]
     },
     "execution_count": 10,
     "metadata": {},
     "output_type": "execute_result"
    }
   ],
   "source": [
    "item_result = {\n",
    "    'title' : [result['items'][1]['subtitle']],\n",
    "    'link' : [result['items'][1]['link']],\n",
    "    'image' : [result['items'][1]['image']],\n",
    "    'director' : [result['items'][1]['director']],\n",
    "}\n",
    "\n",
    "item_result = pd.DataFrame(item_result)\n",
    "item_result"
   ]
  },
  {
   "cell_type": "code",
   "execution_count": 12,
   "id": "8d2fa73a",
   "metadata": {},
   "outputs": [],
   "source": [
    "writer = pd.ExcelWriter(\"search_result_movie.xlsx\")\n",
    "item_result.to_excel(writer)\n",
    "writer.save()"
   ]
  }
 ],
 "metadata": {
  "kernelspec": {
   "display_name": "Python 3 (ipykernel)",
   "language": "python",
   "name": "python3"
  },
  "language_info": {
   "codemirror_mode": {
    "name": "ipython",
    "version": 3
   },
   "file_extension": ".py",
   "mimetype": "text/x-python",
   "name": "python",
   "nbconvert_exporter": "python",
   "pygments_lexer": "ipython3",
   "version": "3.9.12"
  }
 },
 "nbformat": 4,
 "nbformat_minor": 5
}
