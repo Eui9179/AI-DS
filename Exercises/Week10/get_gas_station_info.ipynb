{
 "cells": [
  {
   "cell_type": "markdown",
   "id": "e5503f01",
   "metadata": {},
   "source": [
    "# 연수구 주유소 정보 가져오기 및 저장하기"
   ]
  },
  {
   "cell_type": "code",
   "execution_count": 20,
   "id": "53a6ccfd",
   "metadata": {},
   "outputs": [],
   "source": [
    "from selenium import webdriver"
   ]
  },
  {
   "cell_type": "code",
   "execution_count": 21,
   "id": "258f4e3c",
   "metadata": {},
   "outputs": [
    {
     "name": "stderr",
     "output_type": "stream",
     "text": [
      "C:\\Users\\outda\\AppData\\Local\\Temp\\ipykernel_11208\\473742973.py:5: DeprecationWarning: executable_path has been deprecated, please pass in a Service object\n",
      "  driver = webdriver.Chrome(r\"C:\\Users\\outda\\leui\\2022-2\\AI-DS\\chromedriver.exe\", options=opts)\n"
     ]
    }
   ],
   "source": [
    "opts = webdriver.ChromeOptions()\n",
    "opts.add_experimental_option('prefs', {\n",
    "    'download.default_directory': r'C:\\Users\\outda\\leui\\2022-2\\AI-DS\\AI-DS\\Exercises\\Week10'\n",
    "})\n",
    "driver = webdriver.Chrome(r\"C:\\Users\\outda\\leui\\2022-2\\AI-DS\\chromedriver.exe\", options=opts)"
   ]
  },
  {
   "cell_type": "code",
   "execution_count": 22,
   "id": "193841c6",
   "metadata": {},
   "outputs": [],
   "source": [
    "main_url = \"https://www.opinet.co.kr/user/main/mainView.do\"\n",
    "driver.get(main_url)\n",
    "url = \"https://www.opinet.co.kr/searRgSelect.do\"\n",
    "driver.get(url)"
   ]
  },
  {
   "cell_type": "code",
   "execution_count": 14,
   "id": "fc062a10",
   "metadata": {},
   "outputs": [],
   "source": [
    "city_xpath = '//*[@id=\"SIDO_NM0\"]'\n",
    "driver.find_element('xpath', city_xpath).send_keys('인천')"
   ]
  },
  {
   "cell_type": "code",
   "execution_count": 16,
   "id": "1642fa49",
   "metadata": {},
   "outputs": [],
   "source": [
    "gu_xpath = '//*[@id=\"SIGUNGU_NM0\"]'\n",
    "driver.find_element('xpath', gu_xpath).send_keys('연수구')"
   ]
  },
  {
   "cell_type": "code",
   "execution_count": 17,
   "id": "9f2ae7a3",
   "metadata": {},
   "outputs": [],
   "source": [
    "search_button = '//*[@id=\"searRgSelect\"]'\n",
    "driver.find_element('xpath', search_button).click()"
   ]
  },
  {
   "cell_type": "code",
   "execution_count": 18,
   "id": "2711d089",
   "metadata": {},
   "outputs": [],
   "source": [
    "save_excel_button = '//*[@id=\"glopopd_excel\"]'\n",
    "driver.find_element('xpath', save_excel_button).click()"
   ]
  },
  {
   "cell_type": "code",
   "execution_count": 19,
   "id": "bfadb9be",
   "metadata": {},
   "outputs": [],
   "source": [
    "driver.close()"
   ]
  },
  {
   "cell_type": "markdown",
   "id": "01a0d38a",
   "metadata": {},
   "source": [
    "# 인천시 모든 구 정보 가져오기"
   ]
  },
  {
   "cell_type": "code",
   "execution_count": 31,
   "id": "8758996d",
   "metadata": {},
   "outputs": [],
   "source": [
    "city_xpath = '//*[@id=\"SIDO_NM0\"]'\n",
    "driver.find_element('xpath', city_xpath).send_keys('인천')"
   ]
  },
  {
   "cell_type": "code",
   "execution_count": 32,
   "id": "aea0f3ec",
   "metadata": {},
   "outputs": [
    {
     "name": "stdout",
     "output_type": "stream",
     "text": [
      "['강화군', '계양구', '남동구', '동구', '미추홀구', '부평구', '서구', '연수구', '옹진군', '중구']\n"
     ]
    }
   ],
   "source": [
    "gu_xpath = '//*[@id=\"SIGUNGU_NM0\"]'\n",
    "gu_list_raw = driver.find_element('xpath', gu_xpath)\n",
    "gu_list = gu_list_raw.find_elements('tag name', 'option')\n",
    "gu_names = []\n",
    "for i in range(1, len(gu_list)):\n",
    "    gu_names.append(gu_list[i].text)\n",
    "print(gu_names)"
   ]
  },
  {
   "cell_type": "code",
   "execution_count": 35,
   "id": "f8f729a7",
   "metadata": {},
   "outputs": [
    {
     "data": {
      "application/vnd.jupyter.widget-view+json": {
       "model_id": "27dfc650fef248cfa8eee9a6d652a421",
       "version_major": 2,
       "version_minor": 0
      },
      "text/plain": [
       "  0%|          | 0/10 [00:00<?, ?it/s]"
      ]
     },
     "metadata": {},
     "output_type": "display_data"
    },
    {
     "name": "stdout",
     "output_type": "stream",
     "text": [
      "강화군\n",
      "계양구\n",
      "남동구\n",
      "동구\n",
      "미추홀구\n",
      "부평구\n",
      "서구\n",
      "연수구\n",
      "옹진군\n",
      "중구\n"
     ]
    }
   ],
   "source": [
    "import time\n",
    "from tqdm.notebook import tqdm\n",
    "\n",
    "for i in tqdm(range(len(gu_names))):\n",
    "    print(gu_names[i])\n",
    "    gu_xpath = '//*[@id=\"SIGUNGU_NM0\"]'\n",
    "    driver.find_element('xpath', gu_xpath).send_keys(gu_names[i])\n",
    "    \n",
    "    time.sleep(3)\n",
    "    \n",
    "    # 조회 버튼\n",
    "    search_button = '//*[@id=\"searRgSelect\"]'\n",
    "    driver.find_element('xpath', search_button).click()\n",
    "    \n",
    "    time.sleep(3)\n",
    "    \n",
    "    # 엑셀 저장\n",
    "    save_excel_button = '//*[@id=\"glopopd_excel\"]'\n",
    "    driver.find_element('xpath', save_excel_button).click()\n",
    "    \n",
    "    time.sleep(3)"
   ]
  },
  {
   "cell_type": "code",
   "execution_count": 36,
   "id": "f5e32041",
   "metadata": {},
   "outputs": [],
   "source": [
    "driver.close()"
   ]
  }
 ],
 "metadata": {
  "kernelspec": {
   "display_name": "Python 3 (ipykernel)",
   "language": "python",
   "name": "python3"
  },
  "language_info": {
   "codemirror_mode": {
    "name": "ipython",
    "version": 3
   },
   "file_extension": ".py",
   "mimetype": "text/x-python",
   "name": "python",
   "nbconvert_exporter": "python",
   "pygments_lexer": "ipython3",
   "version": "3.9.12"
  }
 },
 "nbformat": 4,
 "nbformat_minor": 5
}
