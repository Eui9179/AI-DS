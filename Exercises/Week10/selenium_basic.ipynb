{
 "cells": [
  {
   "cell_type": "code",
   "execution_count": 1,
   "id": "241ca8b0",
   "metadata": {},
   "outputs": [
    {
     "name": "stderr",
     "output_type": "stream",
     "text": [
      "C:\\Users\\outda\\AppData\\Local\\Temp\\ipykernel_816\\2382261040.py:3: DeprecationWarning: executable_path has been deprecated, please pass in a Service object\n",
      "  driver = webdriver.Chrome(r\"C:\\Users\\outda\\leui\\2022-2\\AI-DS\\chromedriver.exe\")\n"
     ]
    }
   ],
   "source": [
    "from selenium import webdriver\n",
    "\n",
    "driver = webdriver.Chrome(r\"C:\\Users\\outda\\leui\\2022-2\\AI-DS\\chromedriver.exe\")\n",
    "driver.get(\"https://nid.naver.com/nidlogin.login?mode=form&url=https%3A%2F%2Fwww.naver.com\")"
   ]
  },
  {
   "cell_type": "code",
   "execution_count": 4,
   "id": "8fadce35",
   "metadata": {},
   "outputs": [],
   "source": [
    "login_id = driver.find_element(\"id\", \"id\")\n",
    "login_id.clear()\n",
    "login_id.send_keys(\"outdark97\")"
   ]
  },
  {
   "cell_type": "code",
   "execution_count": 5,
   "id": "5ca62c06",
   "metadata": {},
   "outputs": [],
   "source": [
    "login_pw = driver.find_element(\"id\", \"pw\")\n",
    "login_pw.clear()\n",
    "login_pw.send_keys(\"Dmlcks!856\")"
   ]
  },
  {
   "cell_type": "code",
   "execution_count": 7,
   "id": "02119678",
   "metadata": {},
   "outputs": [],
   "source": [
    "login_button = '//*[@id=\"log.login\"]'\n",
    "driver.find_element(\"xpath\", login_button).click()"
   ]
  },
  {
   "cell_type": "code",
   "execution_count": 8,
   "id": "3978c248",
   "metadata": {},
   "outputs": [],
   "source": [
    "driver.close()"
   ]
  }
 ],
 "metadata": {
  "kernelspec": {
   "display_name": "Python 3 (ipykernel)",
   "language": "python",
   "name": "python3"
  },
  "language_info": {
   "codemirror_mode": {
    "name": "ipython",
    "version": 3
   },
   "file_extension": ".py",
   "mimetype": "text/x-python",
   "name": "python",
   "nbconvert_exporter": "python",
   "pygments_lexer": "ipython3",
   "version": "3.9.12"
  }
 },
 "nbformat": 4,
 "nbformat_minor": 5
}
