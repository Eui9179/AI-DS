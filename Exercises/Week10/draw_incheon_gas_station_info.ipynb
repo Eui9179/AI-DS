{
 "cells": [
  {
   "cell_type": "markdown",
   "id": "e69d937d",
   "metadata": {},
   "source": [
    "# 과제 3"
   ]
  },
  {
   "cell_type": "code",
   "execution_count": 92,
   "id": "1bb1b70c",
   "metadata": {},
   "outputs": [],
   "source": [
    "from glob import glob\n",
    "import pandas as pd\n",
    "import matplotlib.pyplot as plt\n",
    "import seaborn as sns"
   ]
  },
  {
   "cell_type": "markdown",
   "id": "fddfcd02",
   "metadata": {},
   "source": [
    "# 1. 종류 열(column) 추가하기"
   ]
  },
  {
   "cell_type": "code",
   "execution_count": 93,
   "id": "a0a85ea9",
   "metadata": {},
   "outputs": [],
   "source": [
    "station_files = glob('지역*.xls')\n",
    "tmp_list = []\n",
    "\n",
    "for filename in station_files:\n",
    "    tmp = pd.read_excel(filename, header=2)\n",
    "    tmp_list.append(tmp)\n",
    "\n",
    "stations = pd.concat(tmp_list)\n",
    "\n",
    "gu_list = []\n",
    "gasoline = []\n",
    "oil = []\n",
    "\n",
    "for address, gas, o in zip(stations['주소'], stations['휘발유'], stations['경유']):\n",
    "    address_gu = address.split()[1]\n",
    "    gu_list.append(address_gu)\n",
    "    \n",
    "    if gas != '-':\n",
    "        gas = int(gas)\n",
    "    gasoline.append(gas)\n",
    "    \n",
    "    if o != '-':\n",
    "        o = int(o)\n",
    "    oil.append(o)\n",
    "    \n",
    "stations['군/구'] = gu_list\n",
    "\n",
    "gas_stations = stations\n",
    "gas_stations['종류'] = ['휘발유'] * len(gasoline)\n",
    "gas_stations['가격'] = gasoline\n",
    "\n",
    "gas_stations = gas_stations.query(\"가격 != '-'\").copy()\n",
    "\n",
    "oil_stations = stations\n",
    "oil_stations['종류'] = ['경유'] * len(oil)\n",
    "oil_stations['가격'] = oil\n",
    "\n",
    "oil_stations = oil_stations.query(\"가격 != '-'\").copy()"
   ]
  },
  {
   "cell_type": "code",
   "execution_count": 94,
   "id": "58c5520a",
   "metadata": {},
   "outputs": [
    {
     "data": {
      "text/html": [
       "<div>\n",
       "<style scoped>\n",
       "    .dataframe tbody tr th:only-of-type {\n",
       "        vertical-align: middle;\n",
       "    }\n",
       "\n",
       "    .dataframe tbody tr th {\n",
       "        vertical-align: top;\n",
       "    }\n",
       "\n",
       "    .dataframe thead th {\n",
       "        text-align: right;\n",
       "    }\n",
       "</style>\n",
       "<table border=\"1\" class=\"dataframe\">\n",
       "  <thead>\n",
       "    <tr style=\"text-align: right;\">\n",
       "      <th></th>\n",
       "      <th>군/구</th>\n",
       "    </tr>\n",
       "  </thead>\n",
       "  <tbody>\n",
       "    <tr>\n",
       "      <th>0</th>\n",
       "      <td>강화군</td>\n",
       "    </tr>\n",
       "    <tr>\n",
       "      <th>1</th>\n",
       "      <td>강화군</td>\n",
       "    </tr>\n",
       "    <tr>\n",
       "      <th>2</th>\n",
       "      <td>강화군</td>\n",
       "    </tr>\n",
       "    <tr>\n",
       "      <th>3</th>\n",
       "      <td>강화군</td>\n",
       "    </tr>\n",
       "    <tr>\n",
       "      <th>4</th>\n",
       "      <td>강화군</td>\n",
       "    </tr>\n",
       "    <tr>\n",
       "      <th>...</th>\n",
       "      <td>...</td>\n",
       "    </tr>\n",
       "    <tr>\n",
       "      <th>6</th>\n",
       "      <td>옹진군</td>\n",
       "    </tr>\n",
       "    <tr>\n",
       "      <th>7</th>\n",
       "      <td>옹진군</td>\n",
       "    </tr>\n",
       "    <tr>\n",
       "      <th>8</th>\n",
       "      <td>옹진군</td>\n",
       "    </tr>\n",
       "    <tr>\n",
       "      <th>9</th>\n",
       "      <td>옹진군</td>\n",
       "    </tr>\n",
       "    <tr>\n",
       "      <th>10</th>\n",
       "      <td>옹진군</td>\n",
       "    </tr>\n",
       "  </tbody>\n",
       "</table>\n",
       "<p>632 rows × 1 columns</p>\n",
       "</div>"
      ],
      "text/plain": [
       "    군/구\n",
       "0   강화군\n",
       "1   강화군\n",
       "2   강화군\n",
       "3   강화군\n",
       "4   강화군\n",
       "..  ...\n",
       "6   옹진군\n",
       "7   옹진군\n",
       "8   옹진군\n",
       "9   옹진군\n",
       "10  옹진군\n",
       "\n",
       "[632 rows x 1 columns]"
      ]
     },
     "execution_count": 94,
     "metadata": {},
     "output_type": "execute_result"
    }
   ],
   "source": [
    "total_stations_sel = total_stations.loc[\n",
    "    :,\n",
    "    ['군/구']\n",
    "]\n",
    "total_stations_sel\n"
   ]
  },
  {
   "cell_type": "code",
   "execution_count": 95,
   "id": "9bd1ca71",
   "metadata": {},
   "outputs": [
    {
     "data": {
      "text/html": [
       "<div>\n",
       "<style scoped>\n",
       "    .dataframe tbody tr th:only-of-type {\n",
       "        vertical-align: middle;\n",
       "    }\n",
       "\n",
       "    .dataframe tbody tr th {\n",
       "        vertical-align: top;\n",
       "    }\n",
       "\n",
       "    .dataframe thead th {\n",
       "        text-align: right;\n",
       "    }\n",
       "</style>\n",
       "<table border=\"1\" class=\"dataframe\">\n",
       "  <thead>\n",
       "    <tr style=\"text-align: right;\">\n",
       "      <th></th>\n",
       "      <th>상표</th>\n",
       "      <th>주유소</th>\n",
       "      <th>주소</th>\n",
       "      <th>셀프여부</th>\n",
       "      <th>가격</th>\n",
       "      <th>종류</th>\n",
       "      <th>군/구</th>\n",
       "    </tr>\n",
       "  </thead>\n",
       "  <tbody>\n",
       "    <tr>\n",
       "      <th>0</th>\n",
       "      <td>GS칼텍스</td>\n",
       "      <td>하은상사주유소</td>\n",
       "      <td>인천 강화군 길상면 해안동로 75</td>\n",
       "      <td>Y</td>\n",
       "      <td>1585</td>\n",
       "      <td>휘발유</td>\n",
       "      <td>강화군</td>\n",
       "    </tr>\n",
       "    <tr>\n",
       "      <th>1</th>\n",
       "      <td>SK에너지</td>\n",
       "      <td>두운주유소</td>\n",
       "      <td>인천 강화군 불은면 강화동로 508</td>\n",
       "      <td>N</td>\n",
       "      <td>1599</td>\n",
       "      <td>휘발유</td>\n",
       "      <td>강화군</td>\n",
       "    </tr>\n",
       "    <tr>\n",
       "      <th>2</th>\n",
       "      <td>GS칼텍스</td>\n",
       "      <td>아름주유소</td>\n",
       "      <td>인천 강화군 선원면 중앙로 150</td>\n",
       "      <td>Y</td>\n",
       "      <td>1629</td>\n",
       "      <td>휘발유</td>\n",
       "      <td>강화군</td>\n",
       "    </tr>\n",
       "    <tr>\n",
       "      <th>3</th>\n",
       "      <td>NH-OIL</td>\n",
       "      <td>강화농협주유소</td>\n",
       "      <td>인천 강화군 강화읍 중앙로 70</td>\n",
       "      <td>Y</td>\n",
       "      <td>1630</td>\n",
       "      <td>휘발유</td>\n",
       "      <td>강화군</td>\n",
       "    </tr>\n",
       "    <tr>\n",
       "      <th>4</th>\n",
       "      <td>S-OIL</td>\n",
       "      <td>금광주유소</td>\n",
       "      <td>인천 강화군 길상면 까치골길 1</td>\n",
       "      <td>N</td>\n",
       "      <td>1645</td>\n",
       "      <td>휘발유</td>\n",
       "      <td>강화군</td>\n",
       "    </tr>\n",
       "    <tr>\n",
       "      <th>...</th>\n",
       "      <td>...</td>\n",
       "      <td>...</td>\n",
       "      <td>...</td>\n",
       "      <td>...</td>\n",
       "      <td>...</td>\n",
       "      <td>...</td>\n",
       "      <td>...</td>\n",
       "    </tr>\n",
       "    <tr>\n",
       "      <th>6</th>\n",
       "      <td>현대오일뱅크</td>\n",
       "      <td>연평주유소</td>\n",
       "      <td>인천 옹진군 연평면 연평로 715</td>\n",
       "      <td>N</td>\n",
       "      <td>1990</td>\n",
       "      <td>경유</td>\n",
       "      <td>옹진군</td>\n",
       "    </tr>\n",
       "    <tr>\n",
       "      <th>7</th>\n",
       "      <td>S-OIL</td>\n",
       "      <td>백령주유소</td>\n",
       "      <td>인천 옹진군 백령면 백령로 221</td>\n",
       "      <td>N</td>\n",
       "      <td>1990</td>\n",
       "      <td>경유</td>\n",
       "      <td>옹진군</td>\n",
       "    </tr>\n",
       "    <tr>\n",
       "      <th>8</th>\n",
       "      <td>현대오일뱅크</td>\n",
       "      <td>대청주유소</td>\n",
       "      <td>인천 옹진군 대청면 대청로 222</td>\n",
       "      <td>Y</td>\n",
       "      <td>1990</td>\n",
       "      <td>경유</td>\n",
       "      <td>옹진군</td>\n",
       "    </tr>\n",
       "    <tr>\n",
       "      <th>9</th>\n",
       "      <td>현대오일뱅크</td>\n",
       "      <td>북포주유소</td>\n",
       "      <td>인천 옹진군 백령면 백령로 859</td>\n",
       "      <td>N</td>\n",
       "      <td>1990</td>\n",
       "      <td>경유</td>\n",
       "      <td>옹진군</td>\n",
       "    </tr>\n",
       "    <tr>\n",
       "      <th>10</th>\n",
       "      <td>자가상표</td>\n",
       "      <td>장봉주유소</td>\n",
       "      <td>인천 옹진군 북도면 장봉로 467</td>\n",
       "      <td>N</td>\n",
       "      <td>2050</td>\n",
       "      <td>경유</td>\n",
       "      <td>옹진군</td>\n",
       "    </tr>\n",
       "  </tbody>\n",
       "</table>\n",
       "<p>632 rows × 7 columns</p>\n",
       "</div>"
      ],
      "text/plain": [
       "        상표      주유소                   주소 셀프여부    가격   종류  군/구\n",
       "0    GS칼텍스  하은상사주유소   인천 강화군 길상면 해안동로 75    Y  1585  휘발유  강화군\n",
       "1    SK에너지    두운주유소  인천 강화군 불은면 강화동로 508    N  1599  휘발유  강화군\n",
       "2    GS칼텍스    아름주유소   인천 강화군 선원면 중앙로 150    Y  1629  휘발유  강화군\n",
       "3   NH-OIL  강화농협주유소    인천 강화군 강화읍 중앙로 70    Y  1630  휘발유  강화군\n",
       "4    S-OIL    금광주유소    인천 강화군 길상면 까치골길 1    N  1645  휘발유  강화군\n",
       "..     ...      ...                  ...  ...   ...  ...  ...\n",
       "6   현대오일뱅크    연평주유소   인천 옹진군 연평면 연평로 715    N  1990   경유  옹진군\n",
       "7    S-OIL    백령주유소   인천 옹진군 백령면 백령로 221    N  1990   경유  옹진군\n",
       "8   현대오일뱅크    대청주유소   인천 옹진군 대청면 대청로 222    Y  1990   경유  옹진군\n",
       "9   현대오일뱅크    북포주유소   인천 옹진군 백령면 백령로 859    N  1990   경유  옹진군\n",
       "10    자가상표    장봉주유소   인천 옹진군 북도면 장봉로 467    N  2050   경유  옹진군\n",
       "\n",
       "[632 rows x 7 columns]"
      ]
     },
     "execution_count": 95,
     "metadata": {},
     "output_type": "execute_result"
    }
   ],
   "source": [
    "total_stations = pd.concat([gas_stations, oil_stations])\n",
    "\n",
    "total_stations_sel = total_stations.loc[\n",
    "    :,\n",
    "    ['상표', '상호', '주소', '셀프여부', '가격', '종류', '군/구',]\n",
    "]\n",
    "total_stations_sel.columns = ['상표', '주유소', '주소', '셀프여부', '가격', '종류' , '군/구']\n",
    "\n",
    "# total_stations_sel = total_stations_sel.set_index('상표')\n",
    "# 상표를 인덱스로 설정하면 그래프 요소로 설정시, 오류가 발생함\n",
    "\n",
    "total_stations_sel"
   ]
  },
  {
   "cell_type": "markdown",
   "id": "8d1250c7",
   "metadata": {},
   "source": [
    "# 그래프 그리기"
   ]
  },
  {
   "cell_type": "markdown",
   "id": "6784d33b",
   "metadata": {},
   "source": [
    "## 그래프 1\n",
    "\n",
    "x 축: 종류\n",
    "\n",
    "y 축: 가격\n",
    "\n",
    "색상: 셀프여부"
   ]
  },
  {
   "cell_type": "code",
   "execution_count": 96,
   "id": "40b465ba",
   "metadata": {},
   "outputs": [
    {
     "data": {
      "image/png": "[encoded data removed]",
      "text/plain": [
       "<Figure size 864x576 with 1 Axes>"
      ]
     },
     "metadata": {},
     "output_type": "display_data"
    }
   ],
   "source": [
    "plt.rc('font', family='Malgun Gothic')\n",
    "plt.style.use('ggplot')\n",
    "plt.figure(figsize=(12, 8))\n",
    "sns.boxplot(\n",
    "    x='종류', \n",
    "    y='가격', \n",
    "    hue='셀프여부', \n",
    "    data=total_stations_sel, \n",
    "    palette=\"Set3\"\n",
    ")\n",
    "plt.show()"
   ]
  },
  {
   "cell_type": "markdown",
   "id": "0dd85881",
   "metadata": {},
   "source": [
    "## 그래프 2\n",
    "\n",
    "x 축: 상표\n",
    "\n",
    "y 축: 가격\n",
    "\n",
    "색상: 종류"
   ]
  },
  {
   "cell_type": "code",
   "execution_count": 97,
   "id": "5ddba1f9",
   "metadata": {},
   "outputs": [
    {
     "data": {
      "image/png": "[encoded data removed]",
      "text/plain": [
       "<Figure size 864x576 with 1 Axes>"
      ]
     },
     "metadata": {},
     "output_type": "display_data"
    }
   ],
   "source": [
    "plt.rc('font', family='Malgun Gothic')\n",
    "plt.style.use('ggplot')\n",
    "plt.figure(figsize=(12, 8))\n",
    "sns.boxplot(\n",
    "    x='상표', \n",
    "    y='가격', \n",
    "    hue='종류', \n",
    "    data=total_stations_sel, \n",
    "    palette=\"summer\"\n",
    ")\n",
    "plt.show()"
   ]
  },
  {
   "cell_type": "markdown",
   "id": "a0960e72",
   "metadata": {},
   "source": [
    "## 그래프 3\n",
    "\n",
    "x 축: 군/구\n",
    "\n",
    "y 축: 가격\n",
    "\n",
    "색상: 종류"
   ]
  },
  {
   "cell_type": "code",
   "execution_count": 98,
   "id": "d24c8445",
   "metadata": {},
   "outputs": [
    {
     "data": {
      "image/png": "[encoded data removed]",
      "text/plain": [
       "<Figure size 864x576 with 1 Axes>"
      ]
     },
     "metadata": {},
     "output_type": "display_data"
    }
   ],
   "source": [
    "plt.figure(figsize=(12, 8))\n",
    "sns.boxplot(\n",
    "    x='군/구',\n",
    "    y='가격', \n",
    "    hue='종류', \n",
    "    data=total_stations_sel, \n",
    "    palette=\"summer\"\n",
    ")\n",
    "plt.show()"
   ]
  },
  {
   "cell_type": "markdown",
   "id": "9e69a484",
   "metadata": {},
   "source": [
    "# 그래프에 대한 자신의 해석\n",
    "\n",
    "### 그래프 1\n",
    "실제로 셀프여부에 따라 가격차이가 존재하고 경유보다 휘발유의 가격차이가 상대적으로 더 크다.\n",
    "\n",
    "휘발유의 경우 두 그래프의 중간값을 비교해보면 차이가 있지만 경유의 경우 중앙값 차이가 더 작기때문에 평균적으로 값 차이가 더 작다는 것을 알 수 있다.\n",
    "\n",
    "### 그래프 2\n",
    "가장 눈에 띄는 것은 알뜰주유소이다. 실제로 가격이 이름처럼 알뜰하고 아웃라이어도 없다.\n",
    "자가 상표는 최대값, 최소값 차이도 가장 크고 경유와 휘발유 가격 차이는 가장 작다. 또한 전체적인 가격이 높다.\n",
    "S-OLI의 휘발유의 아웃라이어가 평균값에 비해 가장 높게 찍혀 있지만 자가상표 최대값이 더 크다.\n",
    "\n",
    "### 그래프 3\n",
    "중구의 휘발유, 경유의 최대값, 최소값의 차이가 가장 크다. <br>\n",
    "옹진구의 휘발유는 압도적으로 비싸고 경유도 비싼편이다.<br>\n",
    "내가 사는 서구는 전체적으로 가격이 살짝 저렴한 편이다.\n"
   ]
  }
 ],
 "metadata": {
  "kernelspec": {
   "display_name": "Python 3 (ipykernel)",
   "language": "python",
   "name": "python3"
  },
  "language_info": {
   "codemirror_mode": {
    "name": "ipython",
    "version": 3
   },
   "file_extension": ".py",
   "mimetype": "text/x-python",
   "name": "python",
   "nbconvert_exporter": "python",
   "pygments_lexer": "ipython3",
   "version": "3.9.12"
  }
 },
 "nbformat": 4,
 "nbformat_minor": 5
}
