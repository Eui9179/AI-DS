{
 "cells": [
  {
   "cell_type": "code",
   "execution_count": 22,
   "id": "1088d629",
   "metadata": {},
   "outputs": [],
   "source": [
    "from nltk.tokenize import word_tokenize\n",
    "from konlpy.tag import Okt\n",
    "import nltk"
   ]
  },
  {
   "cell_type": "code",
   "execution_count": 3,
   "id": "e6da0583",
   "metadata": {},
   "outputs": [
    {
     "name": "stderr",
     "output_type": "stream",
     "text": [
      "[nltk_data] Downloading package punkt to\n",
      "[nltk_data]     C:\\Users\\outda\\AppData\\Roaming\\nltk_data...\n",
      "[nltk_data]   Unzipping tokenizers\\punkt.zip.\n"
     ]
    },
    {
     "data": {
      "text/plain": [
       "True"
      ]
     },
     "execution_count": 3,
     "metadata": {},
     "output_type": "execute_result"
    }
   ],
   "source": [
    "nltk.download('punkt')"
   ]
  },
  {
   "cell_type": "code",
   "execution_count": 23,
   "id": "4527fe5c",
   "metadata": {},
   "outputs": [],
   "source": [
    "okt = Okt()"
   ]
  },
  {
   "cell_type": "code",
   "execution_count": 2,
   "id": "71247816",
   "metadata": {},
   "outputs": [],
   "source": [
    "train = [\n",
    "    ('I like you', 'pos'), \n",
    "    ('I hate you','neg'),\n",
    "    ('I enjoyed it', 'pos'),\n",
    "    ('I hate it','neg')\n",
    "]"
   ]
  },
  {
   "cell_type": "code",
   "execution_count": 7,
   "id": "e09bf4c8",
   "metadata": {},
   "outputs": [
    {
     "data": {
      "text/plain": [
       "{'I', 'enjoyed', 'hate', 'it', 'like', 'you'}"
      ]
     },
     "execution_count": 7,
     "metadata": {},
     "output_type": "execute_result"
    }
   ],
   "source": [
    "all_words = set()\n",
    "\n",
    "for tup in train:\n",
    "    sent, label = tup[0], tup[1]\n",
    "    words = word_tokenize(sent) # i like you -> ['i','like','you']\n",
    "    for word in words:\n",
    "        all_words.add(word)\n",
    "\n",
    "all_words"
   ]
  },
  {
   "cell_type": "code",
   "execution_count": 9,
   "id": "66d6ca35",
   "metadata": {},
   "outputs": [
    {
     "data": {
      "text/plain": [
       "[({'I': True,\n",
       "   'enjoyed': False,\n",
       "   'like': True,\n",
       "   'you': True,\n",
       "   'it': False,\n",
       "   'hate': False},\n",
       "  'pos'),\n",
       " ({'I': True,\n",
       "   'enjoyed': False,\n",
       "   'like': False,\n",
       "   'you': True,\n",
       "   'it': False,\n",
       "   'hate': True},\n",
       "  'neg'),\n",
       " ({'I': True,\n",
       "   'enjoyed': True,\n",
       "   'like': False,\n",
       "   'you': False,\n",
       "   'it': True,\n",
       "   'hate': False},\n",
       "  'pos'),\n",
       " ({'I': True,\n",
       "   'enjoyed': False,\n",
       "   'like': False,\n",
       "   'you': False,\n",
       "   'it': True,\n",
       "   'hate': True},\n",
       "  'neg')]"
      ]
     },
     "execution_count": 9,
     "metadata": {},
     "output_type": "execute_result"
    }
   ],
   "source": [
    "train_features = []\n",
    "\n",
    "for tup in train:\n",
    "    sent, label = tup[0], tup[1]\n",
    "    words = word_tokenize(sent)\n",
    "    tmp = dict()\n",
    "    tmp = {set_word: (set_word in words) for set_word in all_words}\n",
    "    sent_tup = (tmp, label)\n",
    "    train_features.append(sent_tup)\n",
    "\n",
    "train_features"
   ]
  },
  {
   "cell_type": "code",
   "execution_count": 10,
   "id": "34ca1311",
   "metadata": {},
   "outputs": [
    {
     "name": "stdout",
     "output_type": "stream",
     "text": [
      "Most Informative Features\n",
      "                 enjoyed = False             neg : pos    =      1.7 : 1.0\n",
      "                    like = False             neg : pos    =      1.7 : 1.0\n",
      "                       I = True              neg : pos    =      1.0 : 1.0\n",
      "                      it = False             neg : pos    =      1.0 : 1.0\n",
      "                      it = True              neg : pos    =      1.0 : 1.0\n",
      "                     you = False             neg : pos    =      1.0 : 1.0\n"
     ]
    }
   ],
   "source": [
    "classifier = nltk.NaiveBayesClassifier.train(train_features)\n",
    "classifier.show_most_informative_features()"
   ]
  },
  {
   "cell_type": "code",
   "execution_count": 11,
   "id": "98355bc3",
   "metadata": {},
   "outputs": [],
   "source": [
    "test_sent = 'I like it'\n",
    "\n",
    "words = word_tokenize(test_sent)\n",
    "test_feature = {set_word: (set_word in words) for set_word in all_words}"
   ]
  },
  {
   "cell_type": "code",
   "execution_count": 13,
   "id": "e1f0978b",
   "metadata": {},
   "outputs": [
    {
     "data": {
      "text/plain": [
       "{'I': True,\n",
       " 'enjoyed': False,\n",
       " 'like': True,\n",
       " 'you': False,\n",
       " 'it': True,\n",
       " 'hate': False}"
      ]
     },
     "execution_count": 13,
     "metadata": {},
     "output_type": "execute_result"
    }
   ],
   "source": [
    "test_feature"
   ]
  },
  {
   "cell_type": "code",
   "execution_count": 12,
   "id": "b350ad37",
   "metadata": {},
   "outputs": [
    {
     "data": {
      "text/plain": [
       "'pos'"
      ]
     },
     "execution_count": 12,
     "metadata": {},
     "output_type": "execute_result"
    }
   ],
   "source": [
    "classifier.classify(test_feature)"
   ]
  },
  {
   "cell_type": "code",
   "execution_count": 7,
   "id": "15e2e4a2",
   "metadata": {},
   "outputs": [],
   "source": [
    "train = [\n",
    "    ('사과가 좋아', 'pos'),\n",
    "    ('밤에 먹는 사과는 비추야', 'neg'),\n",
    "    ('사과가 잘 익었어 맛있겠다', 'pos')\n",
    "]"
   ]
  },
  {
   "cell_type": "code",
   "execution_count": 28,
   "id": "a7b0278b",
   "metadata": {},
   "outputs": [],
   "source": [
    "def pos_tokenize(raw_sent):\n",
    "    pos_sent = []\n",
    "    sent = okt.pos(raw_sent, norm=True, stem=True)\n",
    "    for tup in sent:\n",
    "        word, tag = tup[0], tup[1]\n",
    "        word_tag = word + '/' + tag\n",
    "        pos_sent.append(word_tag)\n",
    "    return ' '.join(pos_sent)"
   ]
  },
  {
   "cell_type": "code",
   "execution_count": 29,
   "id": "86a473d6",
   "metadata": {},
   "outputs": [
    {
     "data": {
      "text/plain": [
       "{'가/Josa',\n",
       " '는/Josa',\n",
       " '맛있다/Adjective',\n",
       " '먹다/Verb',\n",
       " '밤/Noun',\n",
       " '비추다/Verb',\n",
       " '사과/Noun',\n",
       " '에/Josa',\n",
       " '익다/Verb',\n",
       " '자다/Verb',\n",
       " '좋다/Adjective'}"
      ]
     },
     "execution_count": 29,
     "metadata": {},
     "output_type": "execute_result"
    }
   ],
   "source": [
    "all_words = set()\n",
    "for tup in train:\n",
    "    sent, label = tup[0], tup[1]\n",
    "    sent = pos_tokenize(sent)\n",
    "    words = word_tokenize(sent)\n",
    "    for word in words:\n",
    "        all_words.add(word)\n",
    "\n",
    "all_words"
   ]
  },
  {
   "cell_type": "code",
   "execution_count": 30,
   "id": "2115d5f1",
   "metadata": {},
   "outputs": [
    {
     "data": {
      "text/plain": [
       "[({'사과/Noun': True,\n",
       "   '익다/Verb': False,\n",
       "   '자다/Verb': False,\n",
       "   '가/Josa': True,\n",
       "   '먹다/Verb': False,\n",
       "   '에/Josa': False,\n",
       "   '맛있다/Adjective': False,\n",
       "   '밤/Noun': False,\n",
       "   '좋다/Adjective': True,\n",
       "   '는/Josa': False,\n",
       "   '비추다/Verb': False},\n",
       "  'pos'),\n",
       " ({'사과/Noun': True,\n",
       "   '익다/Verb': False,\n",
       "   '자다/Verb': False,\n",
       "   '가/Josa': False,\n",
       "   '먹다/Verb': True,\n",
       "   '에/Josa': True,\n",
       "   '맛있다/Adjective': False,\n",
       "   '밤/Noun': True,\n",
       "   '좋다/Adjective': False,\n",
       "   '는/Josa': True,\n",
       "   '비추다/Verb': True},\n",
       "  'neg'),\n",
       " ({'사과/Noun': True,\n",
       "   '익다/Verb': True,\n",
       "   '자다/Verb': True,\n",
       "   '가/Josa': True,\n",
       "   '먹다/Verb': False,\n",
       "   '에/Josa': False,\n",
       "   '맛있다/Adjective': True,\n",
       "   '밤/Noun': False,\n",
       "   '좋다/Adjective': False,\n",
       "   '는/Josa': False,\n",
       "   '비추다/Verb': False},\n",
       "  'pos')]"
      ]
     },
     "execution_count": 30,
     "metadata": {},
     "output_type": "execute_result"
    }
   ],
   "source": [
    "train_features = []\n",
    "\n",
    "for tup in train:\n",
    "    sent, label = tup[0], tup[1]\n",
    "    sent = pos_tokenize(sent)\n",
    "    words = word_tokenize(sent)\n",
    "    tmp = {set_word: (set_word in words) for set_word in all_words}\n",
    "    sent_tup = (tmp, label)\n",
    "    train_features.append(sent_tup)\n",
    "    \n",
    "train_features"
   ]
  },
  {
   "cell_type": "code",
   "execution_count": 31,
   "id": "43a20473",
   "metadata": {},
   "outputs": [
    {
     "name": "stdout",
     "output_type": "stream",
     "text": [
      "Most Informative Features\n",
      "           맛있다/Adjective = False             neg : pos    =      1.5 : 1.0\n",
      "                 익다/Verb = False             neg : pos    =      1.5 : 1.0\n",
      "                 자다/Verb = False             neg : pos    =      1.5 : 1.0\n",
      "            좋다/Adjective = False             neg : pos    =      1.5 : 1.0\n"
     ]
    }
   ],
   "source": [
    "classifier = nltk.NaiveBayesClassifier.train(train_features)\n",
    "classifier.show_most_informative_features()"
   ]
  },
  {
   "cell_type": "code",
   "execution_count": 33,
   "id": "ff35b6f2",
   "metadata": {},
   "outputs": [
    {
     "name": "stdout",
     "output_type": "stream",
     "text": [
      "{'사과/Noun': True, '익다/Verb': False, '자다/Verb': False, '가/Josa': False, '먹다/Verb': False, '에/Josa': False, '맛있다/Adjective': True, '밤/Noun': False, '좋다/Adjective': False, '는/Josa': True, '비추다/Verb': False}\n"
     ]
    }
   ],
   "source": [
    "test_sent = '사과는 맛있어'\n",
    "test_sent = pos_tokenize(test_sent)\n",
    "words = word_tokenize(test_sent)\n",
    "test_feature = {set_word: (set_word in words) for set_word in all_words}\n",
    "print(test_feature)"
   ]
  },
  {
   "cell_type": "code",
   "execution_count": 34,
   "id": "219cd34a",
   "metadata": {},
   "outputs": [
    {
     "data": {
      "text/plain": [
       "'pos'"
      ]
     },
     "execution_count": 34,
     "metadata": {},
     "output_type": "execute_result"
    }
   ],
   "source": [
    "classifier.classify(test_feature)"
   ]
  }
 ],
 "metadata": {
  "kernelspec": {
   "display_name": "Python 3 (ipykernel)",
   "language": "python",
   "name": "python3"
  },
  "language_info": {
   "codemirror_mode": {
    "name": "ipython",
    "version": 3
   },
   "file_extension": ".py",
   "mimetype": "text/x-python",
   "name": "python",
   "nbconvert_exporter": "python",
   "pygments_lexer": "ipython3",
   "version": "3.9.12"
  }
 },
 "nbformat": 4,
 "nbformat_minor": 5
}
