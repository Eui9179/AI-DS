{
 "cells": [
  {
   "cell_type": "code",
   "execution_count": 29,
   "id": "1088d629",
   "metadata": {},
   "outputs": [],
   "source": [
    "from nltk.tokenize import word_tokenize\n",
    "from konlpy.tag import Okt\n",
    "import nltk"
   ]
  },
  {
   "cell_type": "code",
   "execution_count": 3,
   "id": "e6da0583",
   "metadata": {},
   "outputs": [
    {
     "name": "stderr",
     "output_type": "stream",
     "text": [
      "[nltk_data] Downloading package punkt to\n",
      "[nltk_data]     C:\\Users\\outda\\AppData\\Roaming\\nltk_data...\n",
      "[nltk_data]   Package punkt is already up-to-date!\n"
     ]
    },
    {
     "data": {
      "text/plain": [
       "True"
      ]
     },
     "execution_count": 3,
     "metadata": {},
     "output_type": "execute_result"
    }
   ],
   "source": [
    "nltk.download('punkt')"
   ]
  },
  {
   "cell_type": "code",
   "execution_count": 30,
   "id": "4527fe5c",
   "metadata": {},
   "outputs": [],
   "source": [
    "okt = Okt()"
   ]
  },
  {
   "cell_type": "code",
   "execution_count": 31,
   "id": "71247816",
   "metadata": {},
   "outputs": [],
   "source": [
    "train = [\n",
    "    ('I like you', 'pos'), \n",
    "    ('I hate you','neg'),\n",
    "    ('I enjoyed it', 'pos'),\n",
    "    ('I hate it','neg')\n",
    "]"
   ]
  },
  {
   "cell_type": "code",
   "execution_count": 32,
   "id": "e09bf4c8",
   "metadata": {},
   "outputs": [
    {
     "data": {
      "text/plain": [
       "{'I', 'enjoyed', 'hate', 'it', 'like', 'you'}"
      ]
     },
     "execution_count": 32,
     "metadata": {},
     "output_type": "execute_result"
    }
   ],
   "source": [
    "def pos_tokenize(raw_sent):\n",
    "    pos_sent = []\n",
    "    sent = okt.pos(raw_sent, norm=True, stem=True)\n",
    "    \n",
    "    for tup in sent:\n",
    "        word, tag = tup[0], tup[1]\n",
    "        word_tag = word + '/' + tag\n",
    "        pos_sent.append(word_tag)\n",
    "    return ' '.join(pos_sent)\n",
    "\n",
    "all_words = set()\n",
    "\n",
    "for tup in train:\n",
    "    sent, label = tup[0], tup[1]\n",
    "    words = word_tokenize(sent) # i like you -> ['i','like','you']\n",
    "    for word in words:\n",
    "        all_words.add(word)\n",
    "\n",
    "all_words"
   ]
  },
  {
   "cell_type": "code",
   "execution_count": 33,
   "id": "66d6ca35",
   "metadata": {},
   "outputs": [
    {
     "data": {
      "text/plain": [
       "[({'you': True,\n",
       "   'like': True,\n",
       "   'it': False,\n",
       "   'hate': False,\n",
       "   'enjoyed': False,\n",
       "   'I': True},\n",
       "  'pos'),\n",
       " ({'you': True,\n",
       "   'like': False,\n",
       "   'it': False,\n",
       "   'hate': True,\n",
       "   'enjoyed': False,\n",
       "   'I': True},\n",
       "  'neg'),\n",
       " ({'you': False,\n",
       "   'like': False,\n",
       "   'it': True,\n",
       "   'hate': False,\n",
       "   'enjoyed': True,\n",
       "   'I': True},\n",
       "  'pos'),\n",
       " ({'you': False,\n",
       "   'like': False,\n",
       "   'it': True,\n",
       "   'hate': True,\n",
       "   'enjoyed': False,\n",
       "   'I': True},\n",
       "  'neg')]"
      ]
     },
     "execution_count": 33,
     "metadata": {},
     "output_type": "execute_result"
    }
   ],
   "source": [
    "train_features = []\n",
    "\n",
    "for tup in train:\n",
    "    sent, label = tup[0], tup[1]\n",
    "    words = word_tokenize(sent)\n",
    "    tmp = dict()\n",
    "    tmp = {set_word: (set_word in words) for set_word in all_words}\n",
    "    sent_tup = (tmp, label)\n",
    "    train_features.append(sent_tup)\n",
    "\n",
    "train_features"
   ]
  },
  {
   "cell_type": "code",
   "execution_count": 34,
   "id": "34ca1311",
   "metadata": {},
   "outputs": [
    {
     "name": "stdout",
     "output_type": "stream",
     "text": [
      "Most Informative Features\n",
      "                 enjoyed = False             neg : pos    =      1.7 : 1.0\n",
      "                    like = False             neg : pos    =      1.7 : 1.0\n",
      "                       I = True              neg : pos    =      1.0 : 1.0\n",
      "                      it = False             neg : pos    =      1.0 : 1.0\n",
      "                      it = True              neg : pos    =      1.0 : 1.0\n",
      "                     you = False             neg : pos    =      1.0 : 1.0\n"
     ]
    }
   ],
   "source": [
    "classifier = nltk.NaiveBayesClassifier.train(train_features)\n",
    "classifier.show_most_informative_features()"
   ]
  },
  {
   "cell_type": "code",
   "execution_count": 35,
   "id": "98355bc3",
   "metadata": {},
   "outputs": [],
   "source": [
    "test_sent = 'I like it'\n",
    "\n",
    "words = word_tokenize(test_sent)\n",
    "test_feature = {set_word: (set_word in words) for set_word in all_words}"
   ]
  },
  {
   "cell_type": "code",
   "execution_count": 36,
   "id": "e1f0978b",
   "metadata": {},
   "outputs": [
    {
     "data": {
      "text/plain": [
       "{'you': False,\n",
       " 'like': True,\n",
       " 'it': True,\n",
       " 'hate': False,\n",
       " 'enjoyed': False,\n",
       " 'I': True}"
      ]
     },
     "execution_count": 36,
     "metadata": {},
     "output_type": "execute_result"
    }
   ],
   "source": [
    "test_feature"
   ]
  },
  {
   "cell_type": "code",
   "execution_count": 37,
   "id": "b350ad37",
   "metadata": {},
   "outputs": [
    {
     "data": {
      "text/plain": [
       "'pos'"
      ]
     },
     "execution_count": 37,
     "metadata": {},
     "output_type": "execute_result"
    }
   ],
   "source": [
    "classifier.classify(test_feature)"
   ]
  },
  {
   "cell_type": "code",
   "execution_count": 38,
   "id": "15e2e4a2",
   "metadata": {},
   "outputs": [],
   "source": [
    "train = [\n",
    "    ('사과가 좋아', 'pos'),\n",
    "    ('밤에 먹는 사과는 비추야', 'neg'),\n",
    "    ('사과가 잘 익었어 맛있겠다', 'pos')\n",
    "]"
   ]
  },
  {
   "cell_type": "code",
   "execution_count": 39,
   "id": "a7b0278b",
   "metadata": {},
   "outputs": [],
   "source": [
    "def pos_tokenize(raw_sent):\n",
    "    pos_sent = []\n",
    "    sent = okt.pos(raw_sent, norm=True, stem=True)\n",
    "    for tup in sent:\n",
    "        word, tag = tup[0], tup[1]\n",
    "        word_tag = word + '/' + tag\n",
    "        pos_sent.append(word_tag)\n",
    "    return ' '.join(pos_sent)"
   ]
  },
  {
   "cell_type": "code",
   "execution_count": 40,
   "id": "86a473d6",
   "metadata": {},
   "outputs": [
    {
     "data": {
      "text/plain": [
       "{'가/Josa',\n",
       " '는/Josa',\n",
       " '맛있다/Adjective',\n",
       " '먹다/Verb',\n",
       " '밤/Noun',\n",
       " '비추다/Verb',\n",
       " '사과/Noun',\n",
       " '에/Josa',\n",
       " '익다/Verb',\n",
       " '자다/Verb',\n",
       " '좋다/Adjective'}"
      ]
     },
     "execution_count": 40,
     "metadata": {},
     "output_type": "execute_result"
    }
   ],
   "source": [
    "all_words = set()\n",
    "for tup in train:\n",
    "    sent, label = tup[0], tup[1]\n",
    "    sent = pos_tokenize(sent)\n",
    "    words = word_tokenize(sent)\n",
    "    for word in words:\n",
    "        all_words.add(word)\n",
    "\n",
    "all_words"
   ]
  },
  {
   "cell_type": "code",
   "execution_count": 41,
   "id": "2115d5f1",
   "metadata": {},
   "outputs": [
    {
     "data": {
      "text/plain": [
       "[({'밤/Noun': False,\n",
       "   '자다/Verb': False,\n",
       "   '비추다/Verb': False,\n",
       "   '익다/Verb': False,\n",
       "   '좋다/Adjective': True,\n",
       "   '가/Josa': True,\n",
       "   '는/Josa': False,\n",
       "   '에/Josa': False,\n",
       "   '먹다/Verb': False,\n",
       "   '맛있다/Adjective': False,\n",
       "   '사과/Noun': True},\n",
       "  'pos'),\n",
       " ({'밤/Noun': True,\n",
       "   '자다/Verb': False,\n",
       "   '비추다/Verb': True,\n",
       "   '익다/Verb': False,\n",
       "   '좋다/Adjective': False,\n",
       "   '가/Josa': False,\n",
       "   '는/Josa': True,\n",
       "   '에/Josa': True,\n",
       "   '먹다/Verb': True,\n",
       "   '맛있다/Adjective': False,\n",
       "   '사과/Noun': True},\n",
       "  'neg'),\n",
       " ({'밤/Noun': False,\n",
       "   '자다/Verb': True,\n",
       "   '비추다/Verb': False,\n",
       "   '익다/Verb': True,\n",
       "   '좋다/Adjective': False,\n",
       "   '가/Josa': True,\n",
       "   '는/Josa': False,\n",
       "   '에/Josa': False,\n",
       "   '먹다/Verb': False,\n",
       "   '맛있다/Adjective': True,\n",
       "   '사과/Noun': True},\n",
       "  'pos')]"
      ]
     },
     "execution_count": 41,
     "metadata": {},
     "output_type": "execute_result"
    }
   ],
   "source": [
    "train_features = []\n",
    "\n",
    "for tup in train:\n",
    "    sent, label = tup[0], tup[1]\n",
    "    sent = pos_tokenize(sent)\n",
    "    words = word_tokenize(sent)\n",
    "    tmp = {set_word: (set_word in words) for set_word in all_words}\n",
    "    sent_tup = (tmp, label)\n",
    "    train_features.append(sent_tup)\n",
    "    \n",
    "train_features"
   ]
  },
  {
   "cell_type": "code",
   "execution_count": 42,
   "id": "43a20473",
   "metadata": {},
   "outputs": [
    {
     "name": "stdout",
     "output_type": "stream",
     "text": [
      "Most Informative Features\n",
      "           맛있다/Adjective = False             neg : pos    =      1.5 : 1.0\n",
      "                 익다/Verb = False             neg : pos    =      1.5 : 1.0\n",
      "                 자다/Verb = False             neg : pos    =      1.5 : 1.0\n",
      "            좋다/Adjective = False             neg : pos    =      1.5 : 1.0\n"
     ]
    }
   ],
   "source": [
    "classifier = nltk.NaiveBayesClassifier.train(train_features)\n",
    "classifier.show_most_informative_features()"
   ]
  },
  {
   "cell_type": "code",
   "execution_count": 43,
   "id": "ff35b6f2",
   "metadata": {},
   "outputs": [
    {
     "name": "stdout",
     "output_type": "stream",
     "text": [
      "{'밤/Noun': False, '자다/Verb': False, '비추다/Verb': True, '익다/Verb': False, '좋다/Adjective': False, '가/Josa': False, '는/Josa': True, '에/Josa': False, '먹다/Verb': False, '맛있다/Adjective': False, '사과/Noun': True}\n"
     ]
    }
   ],
   "source": [
    "test_sent = '사과는 비추야'\n",
    "test_sent = pos_tokenize(test_sent)\n",
    "words = word_tokenize(test_sent)\n",
    "test_feature = {set_word: (set_word in words) for set_word in all_words}\n",
    "print(test_feature)"
   ]
  },
  {
   "cell_type": "code",
   "execution_count": 44,
   "id": "219cd34a",
   "metadata": {},
   "outputs": [
    {
     "data": {
      "text/plain": [
       "'neg'"
      ]
     },
     "execution_count": 44,
     "metadata": {},
     "output_type": "execute_result"
    }
   ],
   "source": [
    "classifier.classify(test_feature)"
   ]
  },
  {
   "cell_type": "code",
   "execution_count": null,
   "id": "f294100c",
   "metadata": {},
   "outputs": [],
   "source": []
  }
 ],
 "metadata": {
  "kernelspec": {
   "display_name": "Python 3 (ipykernel)",
   "language": "python",
   "name": "python3"
  },
  "language_info": {
   "codemirror_mode": {
    "name": "ipython",
    "version": 3
   },
   "file_extension": ".py",
   "mimetype": "text/x-python",
   "name": "python",
   "nbconvert_exporter": "python",
   "pygments_lexer": "ipython3",
   "version": "3.9.12"
  }
 },
 "nbformat": 4,
 "nbformat_minor": 5
}
