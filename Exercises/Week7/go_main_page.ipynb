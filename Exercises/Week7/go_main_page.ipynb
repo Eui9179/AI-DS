{
 "cells": [
  {
   "cell_type": "markdown",
   "id": "11a965ea",
   "metadata": {},
   "source": [
    "## 네이버 크롤링"
   ]
  },
  {
   "cell_type": "markdown",
   "id": "3a09ae5f",
   "metadata": {},
   "source": [
    "### 시작페이지 텍스트 뽑아내기"
   ]
  },
  {
   "cell_type": "code",
   "execution_count": 12,
   "id": "1a7ed712",
   "metadata": {},
   "outputs": [
    {
     "name": "stdout",
     "output_type": "stream",
     "text": [
      "네이버를 시작페이지로\n"
     ]
    }
   ],
   "source": [
    "from bs4 import BeautifulSoup\n",
    "from urllib.request import urlopen\n",
    "\n",
    "url = \"https://www.naver.com\"\n",
    "html = urlopen(url)\n",
    "\n",
    "soup = BeautifulSoup(html.read(), \"html.parser\")\n",
    "\n",
    "# result = soup.find(\"div\", {\"class\", \"service_area\"})\n",
    "result = soup.find(\"a\", {\"id\":\"NM_set_home_btn\"})\n",
    "\n",
    "print(result.text)"
   ]
  },
  {
   "cell_type": "markdown",
   "id": "51891a7a",
   "metadata": {},
   "source": [
    "## 네이버 메뉴 이름 뽑아내기"
   ]
  },
  {
   "cell_type": "code",
   "execution_count": 25,
   "id": "3a389d50",
   "metadata": {},
   "outputs": [
    {
     "name": "stdout",
     "output_type": "stream",
     "text": [
      "메일\n",
      "카페\n",
      "블로그\n",
      "지식iN\n",
      "쇼핑\n",
      "쇼핑LIVE\n",
      "Pay\n",
      "TV\n"
     ]
    }
   ],
   "source": [
    "url = \"http://www.naver.com\"\n",
    "html = urlopen(url)\n",
    "\n",
    "soup = BeautifulSoup(html.read(), \"html.parser\")\n",
    "\n",
    "result = soup.find(\"ul\", {\"class\":\"list_nav type_fix\"})\n",
    "li_result = result.find_all(\"li\")\n",
    "\n",
    "for li_res in li_result:\n",
    "    a_li_result = li_res.find(\"a\")\n",
    "    print(a_li_result.text) \n"
   ]
  }
 ],
 "metadata": {
  "kernelspec": {
   "display_name": "Python 3 (ipykernel)",
   "language": "python",
   "name": "python3"
  },
  "language_info": {
   "codemirror_mode": {
    "name": "ipython",
    "version": 3
   },
   "file_extension": ".py",
   "mimetype": "text/x-python",
   "name": "python",
   "nbconvert_exporter": "python",
   "pygments_lexer": "ipython3",
   "version": "3.9.12"
  }
 },
 "nbformat": 4,
 "nbformat_minor": 5
}
