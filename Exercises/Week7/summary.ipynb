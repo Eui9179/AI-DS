{
 "cells": [
  {
   "cell_type": "markdown",
   "id": "a6a8b6cc",
   "metadata": {},
   "source": [
    "# 실전 크롤링"
   ]
  },
  {
   "cell_type": "markdown",
   "id": "a1be3aac",
   "metadata": {},
   "source": [
    "## 네이버 데이터 받아 오기"
   ]
  },
  {
   "cell_type": "code",
   "execution_count": 7,
   "id": "7ed23d03",
   "metadata": {},
   "outputs": [
    {
     "data": {
      "text/plain": [
       "'네이버를 시작페이지로'"
      ]
     },
     "execution_count": 7,
     "metadata": {},
     "output_type": "execute_result"
    }
   ],
   "source": [
    "from urllib.request import urlopen\n",
    "from bs4 import BeautifulSoup\n",
    "\n",
    "url = \"https://www.naver.com\"\n",
    "html = urlopen(url)\n",
    "soup = BeautifulSoup(html.read(), 'html.parser')\n",
    "\n",
    "div = soup.find('div', {'class':'service_area'})\n",
    "a = div.find('a')\n",
    "a.text"
   ]
  },
  {
   "cell_type": "code",
   "execution_count": 18,
   "id": "12e0bd39",
   "metadata": {},
   "outputs": [
    {
     "name": "stdout",
     "output_type": "stream",
     "text": [
      "메일\n",
      "카페\n",
      "블로그\n",
      "지식iN\n",
      "쇼핑\n",
      "쇼핑LIVE\n",
      "Pay\n",
      "TV\n",
      "사전\n",
      "뉴스\n",
      "증권\n",
      "부동산\n",
      "지도\n",
      "VIBE\n",
      "도서\n",
      "웹툰\n"
     ]
    }
   ],
   "source": [
    "from urllib.request import urlopen\n",
    "from bs4 import BeautifulSoup\n",
    "\n",
    "url = \"https://www.naver.com\"\n",
    "html = urlopen(url)\n",
    "\n",
    "soup = BeautifulSoup(html.read(), 'html.parser')\n",
    "\n",
    "li_list = soup.find_all('li', {'class': 'nav_item'})\n",
    "\n",
    "for li in li_list:\n",
    "    a = li.find('a')\n",
    "    print(a.text)"
   ]
  },
  {
   "cell_type": "markdown",
   "id": "5f081ca7",
   "metadata": {},
   "source": [
    "## strip()\n",
    "\n",
    "문자열 앞&뒤에 있는 쓸모 없는 문자열 제거할 때 사용\n",
    "\n",
    "```python\n",
    "title.text.strip(\"\\n\")\n",
    "```\n",
    "\n",
    "## get_text()\n",
    "\n",
    "```python\n",
    "title.get_text(strip=\"\\n\")\n",
    "```"
   ]
  },
  {
   "cell_type": "markdown",
   "id": "a0a5d527",
   "metadata": {},
   "source": [
    "# pandas 특정 날짜\n",
    "\n",
    "```python\n",
    "pandas.date_range\n",
    "```"
   ]
  },
  {
   "cell_type": "code",
   "execution_count": 21,
   "id": "b4ebf65b",
   "metadata": {},
   "outputs": [
    {
     "data": {
      "text/plain": [
       "DatetimeIndex(['2022-10-01', '2022-10-02', '2022-10-03', '2022-10-04',\n",
       "               '2022-10-05'],\n",
       "              dtype='datetime64[ns]', freq='D')"
      ]
     },
     "execution_count": 21,
     "metadata": {},
     "output_type": "execute_result"
    }
   ],
   "source": [
    "import pandas as pd\n",
    "\n",
    "pd.date_range(start='10/01/2022', end='10/5/2022')"
   ]
  },
  {
   "cell_type": "code",
   "execution_count": 23,
   "id": "e84832f8",
   "metadata": {},
   "outputs": [
    {
     "data": {
      "text/plain": [
       "DatetimeIndex(['2022-10-03', '2022-10-04', '2022-10-05'], dtype='datetime64[ns]', freq='B')"
      ]
     },
     "execution_count": 23,
     "metadata": {},
     "output_type": "execute_result"
    }
   ],
   "source": [
    "pd.date_range(start='10/01/2022', end='10/5/2022', freq='B') #평일만"
   ]
  },
  {
   "cell_type": "code",
   "execution_count": 24,
   "id": "9b1fe9d3",
   "metadata": {},
   "outputs": [
    {
     "data": {
      "text/plain": [
       "DatetimeIndex(['2022-10-02'], dtype='datetime64[ns]', freq='W-SUN')"
      ]
     },
     "execution_count": 24,
     "metadata": {},
     "output_type": "execute_result"
    }
   ],
   "source": [
    "pd.date_range(start='10/01/2022', end='10/5/2022', freq='W') # 매주 일요일만"
   ]
  },
  {
   "cell_type": "code",
   "execution_count": 26,
   "id": "279b232b",
   "metadata": {},
   "outputs": [
    {
     "data": {
      "text/plain": [
       "DatetimeIndex(['2022-10-03'], dtype='datetime64[ns]', freq='W-MON')"
      ]
     },
     "execution_count": 26,
     "metadata": {},
     "output_type": "execute_result"
    }
   ],
   "source": [
    "pd.date_range(start='10/01/2022', end='10/5/2022', freq='W-Mon') # 매주 월요일"
   ]
  },
  {
   "cell_type": "code",
   "execution_count": 28,
   "id": "aa847330",
   "metadata": {},
   "outputs": [
    {
     "data": {
      "text/plain": [
       "DatetimeIndex(['2022-10-31'], dtype='datetime64[ns]', freq='M')"
      ]
     },
     "execution_count": 28,
     "metadata": {},
     "output_type": "execute_result"
    }
   ],
   "source": [
    "pd.date_range(start='10/01/2022', end='11/5/2022', freq='M') # 매달 마지막 날만"
   ]
  },
  {
   "cell_type": "code",
   "execution_count": 29,
   "id": "13d03a85",
   "metadata": {},
   "outputs": [
    {
     "data": {
      "text/plain": [
       "DatetimeIndex(['2022-10-03', '2022-10-10', '2022-10-17', '2022-10-24',\n",
       "               '2022-10-31'],\n",
       "              dtype='datetime64[ns]', freq='W-MON')"
      ]
     },
     "execution_count": 29,
     "metadata": {},
     "output_type": "execute_result"
    }
   ],
   "source": [
    "pd.date_range(start='10/01/2022', periods=5, freq='W-Mon') # 매주 월요일 5개"
   ]
  }
 ],
 "metadata": {
  "kernelspec": {
   "display_name": "Python 3 (ipykernel)",
   "language": "python",
   "name": "python3"
  },
  "language_info": {
   "codemirror_mode": {
    "name": "ipython",
    "version": 3
   },
   "file_extension": ".py",
   "mimetype": "text/x-python",
   "name": "python",
   "nbconvert_exporter": "python",
   "pygments_lexer": "ipython3",
   "version": "3.9.12"
  }
 },
 "nbformat": 4,
 "nbformat_minor": 5
}
