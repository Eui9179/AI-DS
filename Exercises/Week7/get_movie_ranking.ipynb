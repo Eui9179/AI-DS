{
 "cells": [
  {
   "cell_type": "code",
   "execution_count": 8,
   "id": "3f2803f1",
   "metadata": {},
   "outputs": [],
   "source": [
    "from urllib.request import urlopen\n",
    "from bs4 import BeautifulSoup\n",
    "\n",
    "url = \"https://movie.naver.com/movie/sdb/rank/rmovie.naver?sel=pnt&date=20221018\"\n",
    "html = urlopen(url)`\n",
    "\n",
    "soup = BeautifulSoup(html.read(), \"html.parser\")"
   ]
  },
  {
   "cell_type": "markdown",
   "id": "a781405c",
   "metadata": {},
   "source": [
    "## 탑 50 영화 가져오기"
   ]
  },
  {
   "cell_type": "code",
   "execution_count": 16,
   "id": "4ce399fe",
   "metadata": {},
   "outputs": [
    {
     "name": "stdout",
     "output_type": "stream",
     "text": [
      "탑건: 매버릭\n",
      "인생은 뷰티풀: 비타돌체\n",
      "클라우스\n",
      "할머니의 먼 집\n",
      "그린 북\n",
      "밥정\n",
      "가버나움\n",
      "베일리 어게인\n",
      "원더\n",
      "아바타 리마스터링\n",
      "아일라\n",
      "극장판 바이올렛 에버가든\n",
      "디지몬 어드벤처 라스트 에볼루션 : 인연\n",
      "당갈\n",
      "먼 훗날 우리\n",
      "포드 V 페라리\n",
      "명탐정 코난: 할로윈의 신부\n",
      "주전장\n",
      "쇼생크 탈출\n",
      "터미네이터 2:오리지널\n",
      "장민호 드라마 최종회\n",
      "덕구\n",
      "클래식\n",
      "라이언 일병 구하기\n",
      "그대, 고맙소 : 김호중 생애 첫 팬미팅 무비\n",
      "나 홀로 집에\n",
      "월-E\n",
      "빽 투 더 퓨쳐\n",
      "사운드 오브 뮤직\n",
      "보헤미안 랩소디\n",
      "포레스트 검프\n",
      "글래디에이터\n",
      "타이타닉\n",
      "위대한 쇼맨\n",
      "극장판 짱구는 못말려: 수수께끼! 꽃피는 천하떡잎학교\n",
      "인생은 아름다워\n",
      "살인의 추억\n",
      "매트릭스\n",
      "헬프\n",
      "센과 치히로의 행방불명\n",
      "캐스트 어웨이\n",
      "토이 스토리 3\n",
      "가나의 혼인잔치: 언약\n",
      "태극권\n",
      "쉰들러 리스트\n",
      "씽2게더\n",
      "헌터 킬러\n",
      "반지의 제왕: 왕의 귀환\n",
      "히든 피겨스\n",
      "죽은 시인의 사회\n"
     ]
    }
   ],
   "source": [
    "title_list = soup.find_all('div', {'class':'tit5'})\n",
    "for title in title_list:\n",
    "#     print(title.text.strip(\"\\n\"))\n",
    "#     print(title.find(\"a\").text)\n",
    "    print(title.get_text(strip=\"\\n\"))"
   ]
  },
  {
   "cell_type": "markdown",
   "id": "7d959d1f",
   "metadata": {},
   "source": [
    "## 평점 가져오기"
   ]
  },
  {
   "cell_type": "code",
   "execution_count": 19,
   "id": "8492b22d",
   "metadata": {},
   "outputs": [
    {
     "name": "stdout",
     "output_type": "stream",
     "text": [
      "9.77\n",
      "9.72\n",
      "9.69\n",
      "9.62\n",
      "9.60\n",
      "9.59\n",
      "9.59\n",
      "9.53\n",
      "9.53\n",
      "9.52\n",
      "9.52\n",
      "9.50\n",
      "9.50\n",
      "9.49\n",
      "9.48\n",
      "9.48\n",
      "9.46\n",
      "9.46\n",
      "9.46\n",
      "9.45\n",
      "9.45\n",
      "9.44\n",
      "9.44\n",
      "9.43\n",
      "9.43\n",
      "9.43\n",
      "9.42\n",
      "9.42\n",
      "9.42\n",
      "9.42\n",
      "9.41\n",
      "9.41\n",
      "9.41\n",
      "9.41\n",
      "9.41\n",
      "9.41\n",
      "9.40\n",
      "9.40\n",
      "9.40\n",
      "9.40\n",
      "9.39\n",
      "9.39\n",
      "9.39\n",
      "9.39\n",
      "9.39\n",
      "9.39\n",
      "9.39\n",
      "9.38\n",
      "9.38\n",
      "9.38\n"
     ]
    }
   ],
   "source": [
    "point_list = soup.find_all(\"td\", {\"class\":\"point\"})\n",
    "for point in point_list:\n",
    "    print(point.text)"
   ]
  }
 ],
 "metadata": {
  "kernelspec": {
   "display_name": "Python 3 (ipykernel)",
   "language": "python",
   "name": "python3"
  },
  "language_info": {
   "codemirror_mode": {
    "name": "ipython",
    "version": 3
   },
   "file_extension": ".py",
   "mimetype": "text/x-python",
   "name": "python",
   "nbconvert_exporter": "python",
   "pygments_lexer": "ipython3",
   "version": "3.9.12"
  }
 },
 "nbformat": 4,
 "nbformat_minor": 5
}
