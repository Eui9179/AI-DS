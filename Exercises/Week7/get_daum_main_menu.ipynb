{
 "cells": [
  {
   "cell_type": "code",
   "execution_count": 35,
   "id": "27053ec0",
   "metadata": {},
   "outputs": [
    {
     "name": "stdout",
     "output_type": "stream",
     "text": [
      "노컷뉴스\n",
      "마이데일리\n",
      "MBN\n",
      "지지통신\n",
      "세계일보\n",
      "조선비즈\n",
      "아시아경제\n",
      "중앙데일리\n",
      "아이뉴스24\n",
      "OSEN\n",
      "SBS\n",
      "스포탈코리아\n",
      "스포츠서울\n",
      "코리아헤럴드\n",
      "이데일리\n",
      "중부매일신문\n",
      "충청일보\n",
      "대전일보\n",
      "머니에스\n",
      "이코노미조선\n",
      "베이비뉴스\n",
      "스포츠경향\n",
      "스포티비뉴스\n",
      "월간중앙\n"
     ]
    }
   ],
   "source": [
    "from bs4 import BeautifulSoup\n",
    "from urllib.request import urlopen\n",
    "\n",
    "url = \"https://www.naver.com\"\n",
    "html = urlopen(url)\n",
    "\n",
    "soup = BeautifulSoup(html.read(), \"html.parser\")\n",
    "result = soup.find(\"div\", {\"class\": \"thumb_area\"})\n",
    "\n",
    "div_result = result.find_all(\"a\", {\"class\":\"thumb\"})\n",
    "for div in div_result:\n",
    "    print(div.find(\"img\")[\"alt\"])\n"
   ]
  }
 ],
 "metadata": {
  "kernelspec": {
   "display_name": "Python 3 (ipykernel)",
   "language": "python",
   "name": "python3"
  },
  "language_info": {
   "codemirror_mode": {
    "name": "ipython",
    "version": 3
   },
   "file_extension": ".py",
   "mimetype": "text/x-python",
   "name": "python",
   "nbconvert_exporter": "python",
   "pygments_lexer": "ipython3",
   "version": "3.9.12"
  }
 },
 "nbformat": 4,
 "nbformat_minor": 5
}
