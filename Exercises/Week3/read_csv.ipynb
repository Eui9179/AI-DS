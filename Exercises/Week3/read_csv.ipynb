{
 "cells": [
  {
   "cell_type": "code",
   "execution_count": null,
   "id": "d402e073",
   "metadata": {},
   "outputs": [],
   "source": [
    "import csv\n",
    "\n",
    "f = open('incheon_weather.csv', 'r', encoding='cp949')\n",
    "data = csv.reader(f)\n",
    "\n",
    "for row in data:\n",
    "    print(row)\n",
    "    \n",
    "f.close()"
   ]
  },
  {
   "cell_type": "markdown",
   "id": "26297b3e",
   "metadata": {},
   "source": [
    "## - next 함수\n",
    "\n",
    "- 첫번쨰 데이터 행을 읽어오면서 데이터의 탐색 위치를 다음 행으로 이동시킴"
   ]
  },
  {
   "cell_type": "code",
   "execution_count": null,
   "id": "6d3ad41d",
   "metadata": {},
   "outputs": [],
   "source": [
    "import csv\n",
    "\n",
    "f = open('incheon_weather.csv', 'r', encoding='cp949')\n",
    "data = csv.reader(f)\n",
    "\n",
    "header = next(data)\n",
    "\n",
    "for row in data:\n",
    "    print(row)\n",
    "    \n",
    "f.close()"
   ]
  },
  {
   "cell_type": "markdown",
   "id": "68d0bc3f",
   "metadata": {},
   "source": [
    "## 공공 데이터에게 질문 하기\n",
    "\n",
    "1. 질문 다듬기\n",
    "2. 문제 해결 방법 구상하기\n",
    "3. 파이썬 코드 구현하기\n",
    "\n"
   ]
  },
  {
   "cell_type": "code",
   "execution_count": null,
   "id": "572ab949",
   "metadata": {},
   "outputs": [],
   "source": [
    "import csv\n",
    "\n",
    "f = open('incheon_weather.csv', 'r', encoding='cp949')\n",
    "\n",
    "data = csv.reader(f)\n",
    "\n",
    "header = next(data)\n",
    "\n",
    "max_tem = -999\n",
    "max_tem_date = ''\n",
    "\n",
    "for row in data:\n",
    "    tem = float(row[-1]) if row[-1] != '' else -999\n",
    "    if max_tem < tem:\n",
    "        max_tem = tem\n",
    "        max_tem_date = row[0]\n",
    "        \n",
    "print(max_tem_date, max_tem)\n",
    "    \n",
    "f.close()"
   ]
  }
 ],
 "metadata": {
  "kernelspec": {
   "display_name": "Python 3 (ipykernel)",
   "language": "python",
   "name": "python3"
  },
  "language_info": {
   "codemirror_mode": {
    "name": "ipython",
    "version": 3
   },
   "file_extension": ".py",
   "mimetype": "text/x-python",
   "name": "python",
   "nbconvert_exporter": "python",
   "pygments_lexer": "ipython3",
   "version": "3.9.12"
  }
 },
 "nbformat": 4,
 "nbformat_minor": 5
}
