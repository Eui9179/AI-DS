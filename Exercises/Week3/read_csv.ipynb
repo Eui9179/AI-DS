{
 "cells": [
  {
   "cell_type": "code",
   "execution_count": null,
   "id": "d402e073",
   "metadata": {},
   "outputs": [],
   "source": [
    "import csv\n",
    "\n",
    "f = open('incheon_weather.csv', 'r', encoding='cp949')\n",
    "data = csv.reader(f)\n",
    "\n",
    "for row in data:\n",
    "    print(row)\n",
    "    \n",
    "f.close()"
   ]
  },
  {
   "cell_type": "markdown",
   "id": "ddbebd32",
   "metadata": {},
   "source": [
    "## - next 함수\n",
    "\n",
    "- 첫번쨰 데이터 행을 읽어오면서 데이터의 탐색 위치를 다음 행으로 이동시킴"
   ]
  },
  {
   "cell_type": "code",
   "execution_count": null,
   "id": "ff75f918",
   "metadata": {},
   "outputs": [],
   "source": [
    "import csv\n",
    "\n",
    "f = open('incheon_weather.csv', 'r', encoding='cp949')\n",
    "data = csv.reader(f)\n",
    "\n",
    "header = next(data)\n",
    "\n",
    "for row in data:\n",
    "    print(row)\n",
    "    \n",
    "f.close()"
   ]
  },
  {
   "cell_type": "code",
   "execution_count": null,
   "id": "a8635e1b",
   "metadata": {},
   "outputs": [],
   "source": []
  }
 ],
 "metadata": {
  "kernelspec": {
   "display_name": "Python 3 (ipykernel)",
   "language": "python",
   "name": "python3"
  },
  "language_info": {
   "codemirror_mode": {
    "name": "ipython",
    "version": 3
   },
   "file_extension": ".py",
   "mimetype": "text/x-python",
   "name": "python",
   "nbconvert_exporter": "python",
   "pygments_lexer": "ipython3",
   "version": "3.9.12"
  }
 },
 "nbformat": 4,
 "nbformat_minor": 5
}
