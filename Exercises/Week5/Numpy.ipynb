{
 "cells": [
  {
   "cell_type": "markdown",
   "id": "d597527d",
   "metadata": {},
   "source": [
    "# Numpy란?\n",
    "---\n",
    "- 행렬, 수치 계산 등 데이터를 다루기 쉽게 도와줌\n",
    "    - 튜토리얼: https://numpy.org/devdocs/user/quickstart.html\n",
    "    \n",
    "    \n",
    "- 다차원 배열 구조인 ndarray를 이용하여 행렬/벡터 및 수치 연산을 빠르게 하는 것이 핵심\n",
    "\n",
    "\n",
    "- numpy array의 연산 속도 차이는 30~40배까지 나기도 함\n",
    "\n",
    "\n",
    "- 데이터의 크기가 커질수록 numpy는 필수\n",
    "\n",
    "\n",
    "- `import numpy as np`"
   ]
  },
  {
   "cell_type": "markdown",
   "id": "ee13619b",
   "metadata": {},
   "source": [
    "## Numpy의 핵심은 ndarray\n",
    "- `np.array()` 는 리스트, 튜플, 배열로 부터 ndarray를 생성"
   ]
  },
  {
   "cell_type": "code",
   "execution_count": 1,
   "id": "0c6886f3",
   "metadata": {},
   "outputs": [
    {
     "name": "stdout",
     "output_type": "stream",
     "text": [
      "<class 'numpy.ndarray'>\n",
      "[1 2 3 4 5]\n"
     ]
    }
   ],
   "source": [
    "import numpy as np\n",
    "\n",
    "# 1차원 배열 생성\n",
    "a = np.array([1,2,3,4,5])\n",
    "print(type(a))\n",
    "print(a)"
   ]
  },
  {
   "cell_type": "code",
   "execution_count": 2,
   "id": "c00da16a",
   "metadata": {},
   "outputs": [
    {
     "name": "stdout",
     "output_type": "stream",
     "text": [
      "[[1 2 3]\n",
      " [4 5 6]]\n"
     ]
    }
   ],
   "source": [
    "# 2차원 배열 생성\n",
    "a2 = np.array([[1,2,3], [4,5,6]])\n",
    "print(a2)"
   ]
  },
  {
   "cell_type": "markdown",
   "id": "1796cd8d",
   "metadata": {},
   "source": [
    "### 배열의 차원 및 크기 확인\n",
    "\n",
    "-ndim 및 shape 속성으로 출력하기"
   ]
  },
  {
   "cell_type": "code",
   "execution_count": 4,
   "id": "fe0aea3a",
   "metadata": {},
   "outputs": [
    {
     "name": "stdout",
     "output_type": "stream",
     "text": [
      "2\n",
      "(2, 3)\n"
     ]
    }
   ],
   "source": [
    "print(a2.ndim) # a2의 차원(dimension)\n",
    "print(a2.shape) # a2의 행렬"
   ]
  },
  {
   "cell_type": "markdown",
   "id": "c3f1d0df",
   "metadata": {},
   "source": [
    "# Numpy\n",
    "---\n",
    "\n",
    "1. ndarray 초기화 방법들\n",
    "2. 슬라이싱 (Slicing)\n",
    "3. Numpy 연산\n",
    "4. Numpy array와 list 차이"
   ]
  },
  {
   "cell_type": "markdown",
   "id": "f0d438d7",
   "metadata": {},
   "source": [
    "## 1. ndarray 초기화 방법들\n",
    "\n",
    "- 리스트를 이용하여 ndarray 생성하기\n",
    "- 그 외에 다양한 방법들"
   ]
  },
  {
   "cell_type": "markdown",
   "id": "a3ccfc92",
   "metadata": {},
   "source": [
    "### np.zeros((a, b))\n",
    "\n",
    "- 모든 값이 0인 a \\* b 크기의 배열 생성\n",
    "\n",
    "### np.ones((a, b))\n",
    "\n",
    "- 모든 값이 1인 a \\* b 크기인 배열 생성\n",
    "\n",
    "### np.full((a, b), x))\n",
    "\n",
    "- 모든 값이 x인 a \\* b 크기인 배열 생성"
   ]
  },
  {
   "cell_type": "markdown",
   "id": "c7137513",
   "metadata": {},
   "source": [
    "### np.eye(a)\n",
    "\n",
    "- 대각선 값이 1이고 나머지는 0인 a \\* a 크기의 2차원 배열 생성\n",
    "- 만약 np.eye(a, b) 인 경우 a \\* b 크기의 2차원 배열 생성"
   ]
  },
  {
   "cell_type": "code",
   "execution_count": 6,
   "id": "c395fec6",
   "metadata": {},
   "outputs": [
    {
     "data": {
      "text/plain": [
       "array([[1., 0., 0.],\n",
       "       [0., 1., 0.],\n",
       "       [0., 0., 1.]])"
      ]
     },
     "execution_count": 6,
     "metadata": {},
     "output_type": "execute_result"
    }
   ],
   "source": [
    "aeye = np.eye(3)\n",
    "aeye"
   ]
  },
  {
   "cell_type": "markdown",
   "id": "fa60f75d",
   "metadata": {},
   "source": [
    "### np.random.randn(a, b)\n",
    "\n",
    "- 임의의 값으로 채워진 a \\* b 크기인 배열 생성\n",
    "- numpy.random.randn(d0, d1, ..., dn)"
   ]
  },
  {
   "cell_type": "markdown",
   "id": "ada0bc4a",
   "metadata": {},
   "source": [
    "## 2. 슬라이싱 (Slicing)\n",
    "\n",
    "- ndarray를 통해 만든 다차원 배열은 list처럼 슬라이스(Slice)\n"
   ]
  },
  {
   "cell_type": "code",
   "execution_count": 11,
   "id": "b3677a54",
   "metadata": {},
   "outputs": [
    {
     "name": "stdout",
     "output_type": "stream",
     "text": [
      "[1 2]\n",
      "[[1 2]\n",
      " [4 5]]\n"
     ]
    }
   ],
   "source": [
    "a = np.array([0,1,2,3,4,5])\n",
    "a[1:3]\n",
    "\n",
    "a2 = np.array([[1,2,3], [4,5,6]])\n",
    "a2[0:2, 0:2]"
   ]
  },
  {
   "cell_type": "markdown",
   "id": "8cc39212",
   "metadata": {},
   "source": [
    "## 3. Numpy 연산\n",
    "\n",
    "- Numpy로 만든 자료형은 자유롭게 사칙 연산 가능\n",
    "\n",
    "\n",
    "- 배열 간 연산을 손쉽게 수행할 수 있음\n",
    "\n",
    "\n",
    "    - `+`, `-`, `*`, `/` 연산자 사용\n",
    "    - `add()`, `substract()`, `multiply()`, `divide()` 함수 사용"
   ]
  },
  {
   "cell_type": "code",
   "execution_count": 18,
   "id": "4b377296",
   "metadata": {},
   "outputs": [
    {
     "name": "stdout",
     "output_type": "stream",
     "text": [
      "c  [5 7 9]\n",
      "d  [6 7 8]\n"
     ]
    }
   ],
   "source": [
    "a = np.array([1,2,3])\n",
    "b = np.array([4,5,6])\n",
    "\n",
    "c = a + b\n",
    "print('c ', c)\n",
    "\n",
    "d = a + 5\n",
    "\n",
    "print('d ', d)"
   ]
  }
 ],
 "metadata": {
  "kernelspec": {
   "display_name": "Python 3 (ipykernel)",
   "language": "python",
   "name": "python3"
  },
  "language_info": {
   "codemirror_mode": {
    "name": "ipython",
    "version": 3
   },
   "file_extension": ".py",
   "mimetype": "text/x-python",
   "name": "python",
   "nbconvert_exporter": "python",
   "pygments_lexer": "ipython3",
   "version": "3.9.12"
  }
 },
 "nbformat": 4,
 "nbformat_minor": 5
}
