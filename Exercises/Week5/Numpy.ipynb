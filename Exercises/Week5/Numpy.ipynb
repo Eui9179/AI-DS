{
 "cells": [
  {
   "cell_type": "markdown",
   "id": "c2c65c0b",
   "metadata": {},
   "source": [
    "# 데이터 분석을 위한 Python 라이브러리\n",
    "---\n",
    "\n",
    "1. Matplotlib\n",
    "    - 데이터 시각화\n",
    "2. Numpy\n",
    "    - 행렬, 수치 계산 등 데이터를 다루기 쉽게 도와줌\n",
    "    - 튜토리얼: https://numpy.org/devdocs/user/quickstart.html\n",
    "3. Pandas\n",
    "    - 테이블 형태의 데이터를 다루기 쉽게 도와주는 라이브러리\n",
    "    - 튜토리얼: https://pandas.pydata.org/pandas-docs/stable/getting_started/intro_tutorials/index.html"
   ]
  },
  {
   "cell_type": "markdown",
   "id": "d22ab65b",
   "metadata": {},
   "source": [
    "# Numpy란?\n",
    "---\n",
    "- 행렬, 수치 계산 등 데이터를 다루기 쉽게 도와줌\n",
    "    - 튜토리얼: https://numpy.org/devdocs/user/quickstart.html\n",
    "- 다차원 배열 구조인 ndarray를 이용하여 행렬/벡터 및 수치 연산을 빠르게 하는 것이 핵심\n",
    "- numpy array의 연산 속도 차이는 30~40배까지 나기도 함\n",
    "- 데이터의 크기가 커질수록 numpy는 필수\n",
    "- `import numpy as np`"
   ]
  },
  {
   "cell_type": "markdown",
   "id": "6e3b8e40",
   "metadata": {},
   "source": [
    "## Numpy의 핵심은 ndarray\n",
    "- `np.array()` 는 리스트, 튜플, 배열로 부터 ndarray를 생성"
   ]
  },
  {
   "cell_type": "code",
   "execution_count": 1,
   "id": "9ea068bf",
   "metadata": {},
   "outputs": [
    {
     "name": "stdout",
     "output_type": "stream",
     "text": [
      "<class 'numpy.ndarray'>\n",
      "[1 2 3 4 5]\n"
     ]
    }
   ],
   "source": [
    "import numpy as np\n",
    "\n",
    "# 1차원 배열 생성\n",
    "a = np.array([1,2,3,4,5])\n",
    "print(type(a))\n",
    "print(a)"
   ]
  },
  {
   "cell_type": "code",
   "execution_count": 2,
   "id": "1cf4e09f",
   "metadata": {},
   "outputs": [
    {
     "name": "stdout",
     "output_type": "stream",
     "text": [
      "[[1 2 3]\n",
      " [4 5 6]]\n"
     ]
    }
   ],
   "source": [
    "# 2차원 배열 생성\n",
    "a2 = np.array([[1,2,3], [4,5,6]])\n",
    "print(a2)"
   ]
  },
  {
   "cell_type": "markdown",
   "id": "4661c88e",
   "metadata": {},
   "source": [
    "### 배열의 차원 및 크기 확인\n",
    "\n",
    "-ndim 및 shape 속성으로 출력하기"
   ]
  },
  {
   "cell_type": "code",
   "execution_count": 4,
   "id": "c516c4b9",
   "metadata": {},
   "outputs": [
    {
     "name": "stdout",
     "output_type": "stream",
     "text": [
      "2\n",
      "(2, 3)\n"
     ]
    }
   ],
   "source": [
    "print(a2.ndim) # a2의 차원(dimension)\n",
    "print(a2.shape) # a2의 행렬"
   ]
  },
  {
   "cell_type": "markdown",
   "id": "cd025026",
   "metadata": {},
   "source": [
    "# Numpy\n",
    "---\n",
    "\n",
    "1. ndarray 초기화 방법들\n",
    "2. 슬라이싱 (Slicing)\n",
    "3. Numpy 연산\n",
    "4. Numpy array와 list 차이"
   ]
  },
  {
   "cell_type": "markdown",
   "id": "40eafdf9",
   "metadata": {},
   "source": [
    "## 1. ndarray 초기화 방법들\n",
    "\n",
    "- 리스트를 이용하여 ndarray 생성하기\n",
    "- 그 외에 다양한 방법들\n",
    "\n",
    "        np.zeros((a, b))\n",
    "        np.ones((a, b))\n",
    "        np.full((a, b), c))\n",
    "        np.eye(a)\n",
    "        np.random.random(a, b)\n",
    "        ..."
   ]
  },
  {
   "cell_type": "markdown",
   "id": "391766bb",
   "metadata": {},
   "source": [
    "### np.zeros(shape = (a, b))\n",
    "\n",
    "- 모든 값이 0인 a \\* b 크기의 배열 생성\n",
    "\n",
    "### np.ones((a, b))\n",
    "\n",
    "### np.full((a, b), c))\n",
    "\n",
    "### np.eye(a)\n",
    "\n",
    "### np.random.random(a, b)"
   ]
  }
 ],
 "metadata": {
  "kernelspec": {
   "display_name": "Python 3 (ipykernel)",
   "language": "python",
   "name": "python3"
  },
  "language_info": {
   "codemirror_mode": {
    "name": "ipython",
    "version": 3
   },
   "file_extension": ".py",
   "mimetype": "text/x-python",
   "name": "python",
   "nbconvert_exporter": "python",
   "pygments_lexer": "ipython3",
   "version": "3.9.12"
  }
 },
 "nbformat": 4,
 "nbformat_minor": 5
}
