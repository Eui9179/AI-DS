{
 "cells": [
  {
   "cell_type": "markdown",
   "id": "908bec90",
   "metadata": {},
   "source": [
    "# Pandas\n",
    "---\n",
    "- `Numpy`를 기반으로 만들어졌지만 좀 더 복잡한 데이터 분석에 특화 되었음\n",
    "\n",
    "\n",
    "- `csv`, `json` 등의 데이터를 파일 경로 혹은 url로부터 가져와서 `DataFrame`이라는 자료구조에 넣어 데이터를 다룸\n",
    "\n",
    "\n",
    "- 테이블 형태의 데이터를 다루기 쉽게 도와주는 라이브러리\n",
    "\n",
    "\n",
    "- 튜토리얼: https://pandas.pydata.org/pandas-docs/stable/getting_started/intro_tutorials/index.html\n",
    "\n",
    "\n",
    "- 시리즈(Series)\n",
    "    - 인덱스와 값으로 구성됨\n",
    "\n",
    "\n",
    "- 데이터프레임 (DataFrame)\n",
    "    - 다수의 Series를 모아 처리하기 위해 사용\n",
    "    - **표 형태**로 데이터를 손쉽게 다루기 위해 사용"
   ]
  },
  {
   "cell_type": "markdown",
   "id": "09568a0c",
   "metadata": {},
   "source": [
    "## Series\n",
    "\n",
    "- `Series`는 일련의 객체를 담을 수 있는 1차원의 배열과 같은 자료구조\n",
    "\n",
    "\n",
    "- 왼쪽에 인덱스를 보여주고 오른쪽에 인덱스에 해당하는 값을 보여줌 (인덱스 기본값은 정수0부터)"
   ]
  },
  {
   "cell_type": "code",
   "execution_count": 1,
   "id": "3ffd3d42",
   "metadata": {},
   "outputs": [
    {
     "data": {
      "text/plain": [
       "0    5\n",
       "1    3\n",
       "2   -1\n",
       "3    9\n",
       "dtype: int64"
      ]
     },
     "execution_count": 1,
     "metadata": {},
     "output_type": "execute_result"
    }
   ],
   "source": [
    "import pandas as pd\n",
    "\n",
    "data = pd.Series([5, 3, -1, 9])\n",
    "\n",
    "data"
   ]
  },
  {
   "cell_type": "markdown",
   "id": "0a02900d",
   "metadata": {},
   "source": [
    "- Series의 값과 색인은 `values`와 `index` 속성을 통해 얻거나 지정할 수 있음"
   ]
  },
  {
   "cell_type": "code",
   "execution_count": 3,
   "id": "0fdc976c",
   "metadata": {},
   "outputs": [
    {
     "data": {
      "text/plain": [
       "a    8\n",
       "b    3\n",
       "c   -5\n",
       "d    2\n",
       "dtype: int64"
      ]
     },
     "execution_count": 3,
     "metadata": {},
     "output_type": "execute_result"
    }
   ],
   "source": [
    "data2 = pd.Series([8, 3, -5, 2], index=['a', 'b', 'c', 'd'])\n",
    "data2"
   ]
  },
  {
   "cell_type": "markdown",
   "id": "8f56b462",
   "metadata": {},
   "source": [
    "- Series에서 값을 선택하거나 대입할 때는 인덱스 통해 접근"
   ]
  },
  {
   "cell_type": "code",
   "execution_count": 4,
   "id": "12724876",
   "metadata": {},
   "outputs": [
    {
     "data": {
      "text/plain": [
       "8"
      ]
     },
     "execution_count": 4,
     "metadata": {},
     "output_type": "execute_result"
    }
   ],
   "source": [
    "data2['a']"
   ]
  },
  {
   "cell_type": "markdown",
   "id": "abe77843",
   "metadata": {},
   "source": [
    "## DataFrame\n",
    "\n",
    "- 표 형식의 데이터를 담기위한 자료형\n",
    "    - 여러개의 열(Column)이 있는데 각 열은 다른 종류의 자료형을 담을 수 있음\n",
    "    - 각 행과 열에 대한 고유 색인를 지니고 있음\n",
    "        - 행: index, 열: columns\n",
    "        - 각 행과 열에 이름을 붙임 -> 숫자 인덱스가 아닌 이름으로 값을 찾기\n",
    "\n",
    "\n",
    "- 2차원 `numpy array`에 부가적인 기능이 추가된 것\n",
    "\n",
    "\n",
    "- `DataFrame`은 `python list`, `numpy array`, `dictionary` 등 다양한 데이터로부터 생성\n",
    "\n",
    "\n",
    "- `python list`와 `numpy array`와 달리 색인을 가지고 있어 데이터 핸들링이 편리"
   ]
  },
  {
   "cell_type": "markdown",
   "id": "f0b64a16",
   "metadata": {},
   "source": [
    "## DataFrame으로 변환하기\n",
    "\n",
    "- 1차원 python list와 numpy array 변환하기"
   ]
  },
  {
   "cell_type": "code",
   "execution_count": 7,
   "id": "7e8bd64b",
   "metadata": {},
   "outputs": [
    {
     "data": {
      "text/html": [
       "<div>\n",
       "<style scoped>\n",
       "    .dataframe tbody tr th:only-of-type {\n",
       "        vertical-align: middle;\n",
       "    }\n",
       "\n",
       "    .dataframe tbody tr th {\n",
       "        vertical-align: top;\n",
       "    }\n",
       "\n",
       "    .dataframe thead th {\n",
       "        text-align: right;\n",
       "    }\n",
       "</style>\n",
       "<table border=\"1\" class=\"dataframe\">\n",
       "  <thead>\n",
       "    <tr style=\"text-align: right;\">\n",
       "      <th></th>\n",
       "      <th>값</th>\n",
       "    </tr>\n",
       "  </thead>\n",
       "  <tbody>\n",
       "    <tr>\n",
       "      <th>1번</th>\n",
       "      <td>1</td>\n",
       "    </tr>\n",
       "    <tr>\n",
       "      <th>2번</th>\n",
       "      <td>2</td>\n",
       "    </tr>\n",
       "    <tr>\n",
       "      <th>3번</th>\n",
       "      <td>3</td>\n",
       "    </tr>\n",
       "  </tbody>\n",
       "</table>\n",
       "</div>"
      ],
      "text/plain": [
       "    값\n",
       "1번  1\n",
       "2번  2\n",
       "3번  3"
      ]
     },
     "execution_count": 7,
     "metadata": {},
     "output_type": "execute_result"
    }
   ],
   "source": [
    "import numpy as np\n",
    "import pandas as pd\n",
    "\n",
    "a = np.array([1,2,3])\n",
    "\n",
    "df = pd.DataFrame(a, index=['1번', '2번', '3번'], columns=['값'])\n",
    "df"
   ]
  },
  {
   "cell_type": "code",
   "execution_count": 13,
   "id": "dfd51dd5",
   "metadata": {},
   "outputs": [
    {
     "data": {
      "text/html": [
       "<div>\n",
       "<style scoped>\n",
       "    .dataframe tbody tr th:only-of-type {\n",
       "        vertical-align: middle;\n",
       "    }\n",
       "\n",
       "    .dataframe tbody tr th {\n",
       "        vertical-align: top;\n",
       "    }\n",
       "\n",
       "    .dataframe thead th {\n",
       "        text-align: right;\n",
       "    }\n",
       "</style>\n",
       "<table border=\"1\" class=\"dataframe\">\n",
       "  <thead>\n",
       "    <tr style=\"text-align: right;\">\n",
       "      <th></th>\n",
       "      <th>1번</th>\n",
       "      <th>2번</th>\n",
       "      <th>3번</th>\n",
       "    </tr>\n",
       "  </thead>\n",
       "  <tbody>\n",
       "    <tr>\n",
       "      <th>1번</th>\n",
       "      <td>1</td>\n",
       "      <td>2</td>\n",
       "      <td>3</td>\n",
       "    </tr>\n",
       "    <tr>\n",
       "      <th>2번</th>\n",
       "      <td>4</td>\n",
       "      <td>5</td>\n",
       "      <td>6</td>\n",
       "    </tr>\n",
       "  </tbody>\n",
       "</table>\n",
       "</div>"
      ],
      "text/plain": [
       "    1번  2번  3번\n",
       "1번   1   2   3\n",
       "2번   4   5   6"
      ]
     },
     "execution_count": 13,
     "metadata": {},
     "output_type": "execute_result"
    }
   ],
   "source": [
    "b = np.array([[1,2,3],[4,5,6]])\n",
    "\n",
    "df = pd.DataFrame(b, index=['1번', '2번'], columns=['1번', '2번', '3번'])\n",
    "df"
   ]
  },
  {
   "cell_type": "markdown",
   "id": "9b15a6f4",
   "metadata": {},
   "source": [
    "## Dictionary를 DataFrame으로 변환하기"
   ]
  },
  {
   "cell_type": "code",
   "execution_count": 17,
   "id": "6b74a193",
   "metadata": {},
   "outputs": [
    {
     "data": {
      "text/html": [
       "<div>\n",
       "<style scoped>\n",
       "    .dataframe tbody tr th:only-of-type {\n",
       "        vertical-align: middle;\n",
       "    }\n",
       "\n",
       "    .dataframe tbody tr th {\n",
       "        vertical-align: top;\n",
       "    }\n",
       "\n",
       "    .dataframe thead th {\n",
       "        text-align: right;\n",
       "    }\n",
       "</style>\n",
       "<table border=\"1\" class=\"dataframe\">\n",
       "  <thead>\n",
       "    <tr style=\"text-align: right;\">\n",
       "      <th></th>\n",
       "      <th>key1</th>\n",
       "      <th>key2</th>\n",
       "      <th>key3</th>\n",
       "    </tr>\n",
       "  </thead>\n",
       "  <tbody>\n",
       "    <tr>\n",
       "      <th>0</th>\n",
       "      <td>1</td>\n",
       "      <td>2</td>\n",
       "      <td>4</td>\n",
       "    </tr>\n",
       "    <tr>\n",
       "      <th>1</th>\n",
       "      <td>2</td>\n",
       "      <td>3</td>\n",
       "      <td>5</td>\n",
       "    </tr>\n",
       "    <tr>\n",
       "      <th>2</th>\n",
       "      <td>3</td>\n",
       "      <td>4</td>\n",
       "      <td>6</td>\n",
       "    </tr>\n",
       "  </tbody>\n",
       "</table>\n",
       "</div>"
      ],
      "text/plain": [
       "   key1  key2  key3\n",
       "0     1     2     4\n",
       "1     2     3     5\n",
       "2     3     4     6"
      ]
     },
     "execution_count": 17,
     "metadata": {},
     "output_type": "execute_result"
    }
   ],
   "source": [
    "d = {'key1': [1, 2, 3], 'key2': [2, 3, 4], 'key3': [4, 5, 6]}\n",
    "df = pd.DataFrame(d)\n",
    "df"
   ]
  },
  {
   "cell_type": "markdown",
   "id": "247bf29d",
   "metadata": {},
   "source": [
    "- 행렬 전치\n"
   ]
  }
 ],
 "metadata": {
  "kernelspec": {
   "display_name": "Python 3 (ipykernel)",
   "language": "python",
   "name": "python3"
  },
  "language_info": {
   "codemirror_mode": {
    "name": "ipython",
    "version": 3
   },
   "file_extension": ".py",
   "mimetype": "text/x-python",
   "name": "python",
   "nbconvert_exporter": "python",
   "pygments_lexer": "ipython3",
   "version": "3.9.12"
  }
 },
 "nbformat": 4,
 "nbformat_minor": 5
}
