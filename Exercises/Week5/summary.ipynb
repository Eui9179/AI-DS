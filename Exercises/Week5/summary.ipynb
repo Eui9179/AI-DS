{
 "cells": [
  {
   "cell_type": "markdown",
   "id": "4634c482",
   "metadata": {},
   "source": [
    "# Numpy\n",
    "\n",
    "---\n",
    "\n",
    "`numpy`는 수치 데이터를 다루기 위한 라이브러리\n",
    "\n",
    "```python\n",
    "import numpy as np\n",
    "```"
   ]
  },
  {
   "cell_type": "code",
   "execution_count": 29,
   "id": "9e9626cb",
   "metadata": {},
   "outputs": [
    {
     "name": "stdout",
     "output_type": "stream",
     "text": [
      "[[ 1  2  3  4  5]\n",
      " [ 6  7  8  9 10]]\n"
     ]
    }
   ],
   "source": [
    "import numpy as np\n",
    "\n",
    "a = np.array([[1, 2, 3, 4, 5], [6, 7, 8, 9, 10]])\n",
    "print(a)"
   ]
  },
  {
   "cell_type": "code",
   "execution_count": 30,
   "id": "4e601c9b",
   "metadata": {},
   "outputs": [
    {
     "name": "stdout",
     "output_type": "stream",
     "text": [
      "2\n",
      "(2, 5)\n"
     ]
    }
   ],
   "source": [
    "print(a.ndim) # 차원\n",
    "print(a.shape) # 배열의 크기"
   ]
  },
  {
   "cell_type": "markdown",
   "id": "a891298b",
   "metadata": {},
   "source": [
    "1. ndarray 초기화 방법들\n",
    "    - np.zeros((a, b))\n",
    "    - np.ones((a, b))\n",
    "    - np.full((a, b), c)\n",
    "    - np.eye(a)\n",
    "    - np.random.randn(a, b)\n",
    "    \n",
    "    \n",
    "2. 슬라이싱\n",
    "    - python 기본 슬라이스와 기능이 같음\n",
    "    \n",
    "    \n",
    "3. Numpy 연산\n",
    "4. Numpy array와 list의 차이"
   ]
  },
  {
   "cell_type": "markdown",
   "id": "b0ca5e3b",
   "metadata": {},
   "source": [
    "## 1. ndarray 초기화 방법들"
   ]
  },
  {
   "cell_type": "code",
   "execution_count": 31,
   "id": "67e321df",
   "metadata": {},
   "outputs": [
    {
     "data": {
      "text/plain": [
       "array([[0., 0., 0.],\n",
       "       [0., 0., 0.]])"
      ]
     },
     "execution_count": 31,
     "metadata": {},
     "output_type": "execute_result"
    }
   ],
   "source": [
    "np.zeros(shape=(2, 3))"
   ]
  },
  {
   "cell_type": "code",
   "execution_count": 32,
   "id": "3f1561b4",
   "metadata": {},
   "outputs": [
    {
     "data": {
      "text/plain": [
       "array([[1., 1., 1.],\n",
       "       [1., 1., 1.]])"
      ]
     },
     "execution_count": 32,
     "metadata": {},
     "output_type": "execute_result"
    }
   ],
   "source": [
    "np.ones((2, 3))"
   ]
  },
  {
   "cell_type": "code",
   "execution_count": 33,
   "id": "cbf15b28",
   "metadata": {},
   "outputs": [
    {
     "data": {
      "text/plain": [
       "array([[5, 5, 5],\n",
       "       [5, 5, 5]])"
      ]
     },
     "execution_count": 33,
     "metadata": {},
     "output_type": "execute_result"
    }
   ],
   "source": [
    "np.full((2, 3), 5)\n",
    "# np.full((3, 3), 5.0)"
   ]
  },
  {
   "cell_type": "code",
   "execution_count": 34,
   "id": "75965972",
   "metadata": {},
   "outputs": [
    {
     "data": {
      "text/plain": [
       "array([[1., 0., 0., 0.],\n",
       "       [0., 1., 0., 0.],\n",
       "       [0., 0., 1., 0.]])"
      ]
     },
     "execution_count": 34,
     "metadata": {},
     "output_type": "execute_result"
    }
   ],
   "source": [
    "np.eye(3, 4) # 대각선이 1인 (3, 4) 크기 배열"
   ]
  },
  {
   "cell_type": "code",
   "execution_count": 35,
   "id": "f8a48c8e",
   "metadata": {},
   "outputs": [
    {
     "data": {
      "text/plain": [
       "array([[-0.13062313, -0.27525956, -0.93464855],\n",
       "       [ 1.48308823,  1.25193912,  0.05784844]])"
      ]
     },
     "execution_count": 35,
     "metadata": {},
     "output_type": "execute_result"
    }
   ],
   "source": [
    "np.random.randn(2, 3)"
   ]
  },
  {
   "cell_type": "markdown",
   "id": "b0f75605",
   "metadata": {},
   "source": [
    "## 2. Numpy 연산\n",
    "\n",
    "- `+, -, *, /` 의 연산자 사용\n",
    "- `add()`, `substract()`, `multiply()`, `divide()`"
   ]
  },
  {
   "cell_type": "code",
   "execution_count": 36,
   "id": "d729891c",
   "metadata": {},
   "outputs": [
    {
     "name": "stdout",
     "output_type": "stream",
     "text": [
      "a + b:  [5 7 9]\n",
      "a - b:  [-3 -3 -3]\n",
      "a * b:  [ 4 10 18]\n",
      "a / b:  [0.25 0.4  0.5 ]\n"
     ]
    }
   ],
   "source": [
    "import numpy as np\n",
    "\n",
    "a = np.array([1, 2, 3])\n",
    "b = np.array([4, 5, 6])\n",
    "\n",
    "print('a + b: ', a + b)\n",
    "print('a - b: ', a - b)\n",
    "print('a * b: ', a * b)\n",
    "print('a / b: ', a / b)"
   ]
  },
  {
   "cell_type": "markdown",
   "id": "a5109c52",
   "metadata": {},
   "source": [
    "## 3. Numpy array와 list의 차이\n",
    "\n",
    "1. 연산\n",
    "\n",
    "numpy array는 numpy array끼리 사칙연산 모두 가능 <br>\n",
    "Python list는 list끼리 덧셈만 가능\n",
    "\n",
    "2. 성능 차이\n",
    "\n",
    "python list는 다양한 자료형을 저장 가능 <br>\n",
    "numpy array는 같은 자료형만 저장 가능\n",
    "\n",
    "<br>"
   ]
  },
  {
   "cell_type": "markdown",
   "id": "ef830bdd",
   "metadata": {},
   "source": [
    "# Pandas\n",
    "\n",
    "---\n",
    "\n",
    "`Numpy`를 기반으로 만들어졌지만 좀 더 복잡한 데이터 분석에 특화되었음\n",
    "`csv`, `json` 등의 데이터를 파일 경로 혹은 url로부터 가져와서 `DataFrame`이라는 자료구조에 넣어 데이터를 다룸"
   ]
  },
  {
   "cell_type": "markdown",
   "id": "785c3db2",
   "metadata": {},
   "source": [
    "- 시리즈(Series)\n",
    "    - 인덱스(index)와 값(Values)으로 구성됨\n",
    "    \n",
    "    \n",
    "- 데이터프레임(DataFrame)\n",
    "    - 다수의 Series를 모아 처리하기 위해 사용\n",
    "    - **표 형태**로 데이터를 손쉽게 다루기 위해 사용"
   ]
  },
  {
   "cell_type": "code",
   "execution_count": 37,
   "id": "27a65db7",
   "metadata": {},
   "outputs": [
    {
     "name": "stdout",
     "output_type": "stream",
     "text": [
      "1    5\n",
      "2    3\n",
      "3   -1\n",
      "4    9\n",
      "dtype: int64\n"
     ]
    }
   ],
   "source": [
    "import pandas as pd\n",
    "\n",
    "data = pd.Series([5, 3, -1, 9], index=['1', '2', '3', '4'])\n",
    "print(data)\n",
    "\n",
    "# values: data.values\n",
    "# index: data.index"
   ]
  },
  {
   "cell_type": "markdown",
   "id": "0aa42a18",
   "metadata": {},
   "source": [
    "## 1. DataFrame\n",
    "\n",
    "표 형식의 데이터를 담기 위한 자료형\n",
    "- 각 열은 다른 종류의 자료형을 담을 수 있음\n",
    "- 각 행과 열에 대한 고유의 index를 가지고 있음\n",
    "    - 행: index, 열: columns\n",
    "    \n",
    "DataFrame은 Python list, numpy array, dictionary 등 다양한 데이터로부터 생성"
   ]
  },
  {
   "cell_type": "code",
   "execution_count": 38,
   "id": "bc3fac22",
   "metadata": {},
   "outputs": [
    {
     "data": {
      "text/html": [
       "<div>\n",
       "<style scoped>\n",
       "    .dataframe tbody tr th:only-of-type {\n",
       "        vertical-align: middle;\n",
       "    }\n",
       "\n",
       "    .dataframe tbody tr th {\n",
       "        vertical-align: top;\n",
       "    }\n",
       "\n",
       "    .dataframe thead th {\n",
       "        text-align: right;\n",
       "    }\n",
       "</style>\n",
       "<table border=\"1\" class=\"dataframe\">\n",
       "  <thead>\n",
       "    <tr style=\"text-align: right;\">\n",
       "      <th></th>\n",
       "      <th>a</th>\n",
       "      <th>b</th>\n",
       "      <th>c</th>\n",
       "    </tr>\n",
       "  </thead>\n",
       "  <tbody>\n",
       "    <tr>\n",
       "      <th>1번</th>\n",
       "      <td>1</td>\n",
       "      <td>2</td>\n",
       "      <td>3</td>\n",
       "    </tr>\n",
       "    <tr>\n",
       "      <th>2번</th>\n",
       "      <td>2</td>\n",
       "      <td>3</td>\n",
       "      <td>4</td>\n",
       "    </tr>\n",
       "  </tbody>\n",
       "</table>\n",
       "</div>"
      ],
      "text/plain": [
       "    a  b  c\n",
       "1번  1  2  3\n",
       "2번  2  3  4"
      ]
     },
     "execution_count": 38,
     "metadata": {},
     "output_type": "execute_result"
    }
   ],
   "source": [
    "import pandas as pd\n",
    "\n",
    "a = [[1,2,3], [2,3,4]]\n",
    "p = pd.DataFrame(a, index=['1번', '2번'], columns=['a', 'b', 'c'])\n",
    "p"
   ]
  },
  {
   "cell_type": "code",
   "execution_count": 39,
   "id": "c2357fce",
   "metadata": {},
   "outputs": [
    {
     "data": {
      "text/html": [
       "<div>\n",
       "<style scoped>\n",
       "    .dataframe tbody tr th:only-of-type {\n",
       "        vertical-align: middle;\n",
       "    }\n",
       "\n",
       "    .dataframe tbody tr th {\n",
       "        vertical-align: top;\n",
       "    }\n",
       "\n",
       "    .dataframe thead th {\n",
       "        text-align: right;\n",
       "    }\n",
       "</style>\n",
       "<table border=\"1\" class=\"dataframe\">\n",
       "  <thead>\n",
       "    <tr style=\"text-align: right;\">\n",
       "      <th></th>\n",
       "      <th>a</th>\n",
       "      <th>b</th>\n",
       "    </tr>\n",
       "  </thead>\n",
       "  <tbody>\n",
       "    <tr>\n",
       "      <th>1</th>\n",
       "      <td>1</td>\n",
       "      <td>2</td>\n",
       "    </tr>\n",
       "    <tr>\n",
       "      <th>2</th>\n",
       "      <td>2</td>\n",
       "      <td>3</td>\n",
       "    </tr>\n",
       "    <tr>\n",
       "      <th>3</th>\n",
       "      <td>3</td>\n",
       "      <td>4</td>\n",
       "    </tr>\n",
       "  </tbody>\n",
       "</table>\n",
       "</div>"
      ],
      "text/plain": [
       "   a  b\n",
       "1  1  2\n",
       "2  2  3\n",
       "3  3  4"
      ]
     },
     "execution_count": 39,
     "metadata": {},
     "output_type": "execute_result"
    }
   ],
   "source": [
    "import pandas as pd\n",
    "\n",
    "dic = {\n",
    "    'a': [1, 2, 3],\n",
    "    'b': [2, 3, 4]\n",
    "}\n",
    "p = pd.DataFrame(dic, index=['1','2','3'])\n",
    "\n",
    "# p['a']\n",
    "p"
   ]
  },
  {
   "cell_type": "code",
   "execution_count": 40,
   "id": "e6eea506",
   "metadata": {},
   "outputs": [
    {
     "data": {
      "text/html": [
       "<div>\n",
       "<style scoped>\n",
       "    .dataframe tbody tr th:only-of-type {\n",
       "        vertical-align: middle;\n",
       "    }\n",
       "\n",
       "    .dataframe tbody tr th {\n",
       "        vertical-align: top;\n",
       "    }\n",
       "\n",
       "    .dataframe thead th {\n",
       "        text-align: right;\n",
       "    }\n",
       "</style>\n",
       "<table border=\"1\" class=\"dataframe\">\n",
       "  <thead>\n",
       "    <tr style=\"text-align: right;\">\n",
       "      <th></th>\n",
       "      <th>1번</th>\n",
       "      <th>2번</th>\n",
       "      <th>3번</th>\n",
       "    </tr>\n",
       "  </thead>\n",
       "  <tbody>\n",
       "    <tr>\n",
       "      <th>a</th>\n",
       "      <td>1</td>\n",
       "      <td>2</td>\n",
       "      <td>3</td>\n",
       "    </tr>\n",
       "    <tr>\n",
       "      <th>b</th>\n",
       "      <td>2</td>\n",
       "      <td>3</td>\n",
       "      <td>4</td>\n",
       "    </tr>\n",
       "  </tbody>\n",
       "</table>\n",
       "</div>"
      ],
      "text/plain": [
       "   1번  2번  3번\n",
       "a   1   2   3\n",
       "b   2   3   4"
      ]
     },
     "execution_count": 40,
     "metadata": {},
     "output_type": "execute_result"
    }
   ],
   "source": [
    "import pandas as pd\n",
    "\n",
    "frame = pd.DataFrame(dic, index=['1번', '2번', '3번'])\n",
    "frame.T #행렬전치"
   ]
  },
  {
   "cell_type": "markdown",
   "id": "f910ab7f",
   "metadata": {},
   "source": [
    "## 2. 데이터 정렬하기\n",
    "\n",
    "행의 index를 기준으로 알파벳 순으로 정렬: `sort_index()`"
   ]
  },
  {
   "cell_type": "code",
   "execution_count": 41,
   "id": "815931b5",
   "metadata": {},
   "outputs": [
    {
     "data": {
      "text/html": [
       "<div>\n",
       "<style scoped>\n",
       "    .dataframe tbody tr th:only-of-type {\n",
       "        vertical-align: middle;\n",
       "    }\n",
       "\n",
       "    .dataframe tbody tr th {\n",
       "        vertical-align: top;\n",
       "    }\n",
       "\n",
       "    .dataframe thead th {\n",
       "        text-align: right;\n",
       "    }\n",
       "</style>\n",
       "<table border=\"1\" class=\"dataframe\">\n",
       "  <thead>\n",
       "    <tr style=\"text-align: right;\">\n",
       "      <th></th>\n",
       "      <th>b</th>\n",
       "      <th>z</th>\n",
       "      <th>c</th>\n",
       "      <th>a</th>\n",
       "    </tr>\n",
       "  </thead>\n",
       "  <tbody>\n",
       "    <tr>\n",
       "      <th>2번</th>\n",
       "      <td>8</td>\n",
       "      <td>11</td>\n",
       "      <td>1</td>\n",
       "      <td>7</td>\n",
       "    </tr>\n",
       "    <tr>\n",
       "      <th>4번</th>\n",
       "      <td>10</td>\n",
       "      <td>5</td>\n",
       "      <td>20</td>\n",
       "      <td>1</td>\n",
       "    </tr>\n",
       "    <tr>\n",
       "      <th>5번</th>\n",
       "      <td>1</td>\n",
       "      <td>3</td>\n",
       "      <td>2</td>\n",
       "      <td>4</td>\n",
       "    </tr>\n",
       "  </tbody>\n",
       "</table>\n",
       "</div>"
      ],
      "text/plain": [
       "     b   z   c  a\n",
       "2번   8  11   1  7\n",
       "4번  10   5  20  1\n",
       "5번   1   3   2  4"
      ]
     },
     "execution_count": 41,
     "metadata": {},
     "output_type": "execute_result"
    }
   ],
   "source": [
    "import pandas as pd\n",
    "\n",
    "frame = pd.DataFrame([[1,3,2,4], [8,11,1,7], [10,5,20,1]], \n",
    "                     index=['5번', '2번', '4번'], \n",
    "                     columns=['b','z','c','a'])\n",
    "frame.sort_index()\n",
    "# frame.sort_index(ascending=False)"
   ]
  },
  {
   "cell_type": "markdown",
   "id": "2f3638fc",
   "metadata": {},
   "source": [
    "열의 values에 기준으로 행들 정렬하기: `sort_values(by=[컬럼명])`"
   ]
  },
  {
   "cell_type": "code",
   "execution_count": 42,
   "id": "3a4fd9b2",
   "metadata": {},
   "outputs": [
    {
     "data": {
      "text/html": [
       "<div>\n",
       "<style scoped>\n",
       "    .dataframe tbody tr th:only-of-type {\n",
       "        vertical-align: middle;\n",
       "    }\n",
       "\n",
       "    .dataframe tbody tr th {\n",
       "        vertical-align: top;\n",
       "    }\n",
       "\n",
       "    .dataframe thead th {\n",
       "        text-align: right;\n",
       "    }\n",
       "</style>\n",
       "<table border=\"1\" class=\"dataframe\">\n",
       "  <thead>\n",
       "    <tr style=\"text-align: right;\">\n",
       "      <th></th>\n",
       "      <th>b</th>\n",
       "      <th>a</th>\n",
       "      <th>z</th>\n",
       "      <th>f</th>\n",
       "    </tr>\n",
       "  </thead>\n",
       "  <tbody>\n",
       "    <tr>\n",
       "      <th>2번</th>\n",
       "      <td>1</td>\n",
       "      <td>3</td>\n",
       "      <td>2</td>\n",
       "      <td>4</td>\n",
       "    </tr>\n",
       "    <tr>\n",
       "      <th>3번</th>\n",
       "      <td>8</td>\n",
       "      <td>11</td>\n",
       "      <td>1</td>\n",
       "      <td>7</td>\n",
       "    </tr>\n",
       "    <tr>\n",
       "      <th>5번</th>\n",
       "      <td>10</td>\n",
       "      <td>5</td>\n",
       "      <td>20</td>\n",
       "      <td>1</td>\n",
       "    </tr>\n",
       "  </tbody>\n",
       "</table>\n",
       "</div>"
      ],
      "text/plain": [
       "     b   a   z  f\n",
       "2번   1   3   2  4\n",
       "3번   8  11   1  7\n",
       "5번  10   5  20  1"
      ]
     },
     "execution_count": 42,
     "metadata": {},
     "output_type": "execute_result"
    }
   ],
   "source": [
    "import pandas as pd\n",
    "\n",
    "frame = pd.DataFrame([[1,3,2,4], [10,5,20,1], [8,11,1,7]], \n",
    "             index=['2번', '5번', '3번'],\n",
    "             columns=['b','a','z','f']\n",
    ")\n",
    "\n",
    "frame.sort_values(by=['b'])\n",
    "# frame.sort_values(by=['b'], ascending=False)"
   ]
  },
  {
   "cell_type": "markdown",
   "id": "670dda63",
   "metadata": {},
   "source": [
    "## 3. 데이터 삭제하기\n",
    "\n",
    "**특정 행**이나 열을 삭제: `drop()`"
   ]
  },
  {
   "cell_type": "code",
   "execution_count": 43,
   "id": "96c405ce",
   "metadata": {},
   "outputs": [
    {
     "data": {
      "text/html": [
       "<div>\n",
       "<style scoped>\n",
       "    .dataframe tbody tr th:only-of-type {\n",
       "        vertical-align: middle;\n",
       "    }\n",
       "\n",
       "    .dataframe tbody tr th {\n",
       "        vertical-align: top;\n",
       "    }\n",
       "\n",
       "    .dataframe thead th {\n",
       "        text-align: right;\n",
       "    }\n",
       "</style>\n",
       "<table border=\"1\" class=\"dataframe\">\n",
       "  <thead>\n",
       "    <tr style=\"text-align: right;\">\n",
       "      <th></th>\n",
       "      <th>a</th>\n",
       "      <th>b</th>\n",
       "      <th>c</th>\n",
       "      <th>z</th>\n",
       "    </tr>\n",
       "  </thead>\n",
       "  <tbody>\n",
       "    <tr>\n",
       "      <th>2번</th>\n",
       "      <td>2</td>\n",
       "      <td>3</td>\n",
       "      <td>4</td>\n",
       "      <td>5</td>\n",
       "    </tr>\n",
       "    <tr>\n",
       "      <th>3번</th>\n",
       "      <td>3</td>\n",
       "      <td>4</td>\n",
       "      <td>5</td>\n",
       "      <td>6</td>\n",
       "    </tr>\n",
       "  </tbody>\n",
       "</table>\n",
       "</div>"
      ],
      "text/plain": [
       "    a  b  c  z\n",
       "2번  2  3  4  5\n",
       "3번  3  4  5  6"
      ]
     },
     "execution_count": 43,
     "metadata": {},
     "output_type": "execute_result"
    }
   ],
   "source": [
    "import pandas as pd\n",
    "\n",
    "frame = pd.DataFrame([[1,2,3,4],[2,3,4,5], [3,4,5,6]],\n",
    "                    index=['1번', '2번', '3번'],\n",
    "                    columns=['a','b','c','z']\n",
    ")\n",
    "\n",
    "# 0: index, 1: column\n",
    "frame.drop(labels=['1번'], axis=0) \n",
    "# frame.drop(labels=['a'], axis=1)"
   ]
  },
  {
   "cell_type": "markdown",
   "id": "821ce651",
   "metadata": {},
   "source": [
    "## 4. 데이터 조회\n",
    "\n",
    "- head(n): 첫 n개의 행만 보기\n",
    "- tail(n): 뒷 n개의 행만 보기\n",
    "- loc\\[label\\]: 레이블 인덱싱\n",
    "    - loc\\[index명\\], loc\\[index명, columns명\\]\n",
    "- iloc\\[position\\]: 배열처럼 index로 접근"
   ]
  },
  {
   "cell_type": "code",
   "execution_count": 44,
   "id": "5397f631",
   "metadata": {},
   "outputs": [
    {
     "data": {
      "text/html": [
       "<div>\n",
       "<style scoped>\n",
       "    .dataframe tbody tr th:only-of-type {\n",
       "        vertical-align: middle;\n",
       "    }\n",
       "\n",
       "    .dataframe tbody tr th {\n",
       "        vertical-align: top;\n",
       "    }\n",
       "\n",
       "    .dataframe thead th {\n",
       "        text-align: right;\n",
       "    }\n",
       "</style>\n",
       "<table border=\"1\" class=\"dataframe\">\n",
       "  <thead>\n",
       "    <tr style=\"text-align: right;\">\n",
       "      <th></th>\n",
       "      <th>a</th>\n",
       "      <th>b</th>\n",
       "      <th>c</th>\n",
       "      <th>d</th>\n",
       "    </tr>\n",
       "  </thead>\n",
       "  <tbody>\n",
       "    <tr>\n",
       "      <th>1번</th>\n",
       "      <td>1</td>\n",
       "      <td>2</td>\n",
       "      <td>3</td>\n",
       "      <td>4</td>\n",
       "    </tr>\n",
       "    <tr>\n",
       "      <th>2번</th>\n",
       "      <td>2</td>\n",
       "      <td>3</td>\n",
       "      <td>4</td>\n",
       "      <td>5</td>\n",
       "    </tr>\n",
       "    <tr>\n",
       "      <th>3번</th>\n",
       "      <td>3</td>\n",
       "      <td>4</td>\n",
       "      <td>5</td>\n",
       "      <td>6</td>\n",
       "    </tr>\n",
       "  </tbody>\n",
       "</table>\n",
       "</div>"
      ],
      "text/plain": [
       "    a  b  c  d\n",
       "1번  1  2  3  4\n",
       "2번  2  3  4  5\n",
       "3번  3  4  5  6"
      ]
     },
     "execution_count": 44,
     "metadata": {},
     "output_type": "execute_result"
    }
   ],
   "source": [
    "import pandas as pd\n",
    "\n",
    "frame = pd.DataFrame(\n",
    "    [[1,2,3,4], [2,3,4,5], [3,4,5,6]],\n",
    "    index=['1번', '2번', '3번'],\n",
    "    columns=['a', 'b', 'c', 'd']\n",
    ")\n",
    "\n",
    "frame"
   ]
  },
  {
   "cell_type": "code",
   "execution_count": 45,
   "id": "1c62f6cc",
   "metadata": {},
   "outputs": [
    {
     "data": {
      "text/html": [
       "<div>\n",
       "<style scoped>\n",
       "    .dataframe tbody tr th:only-of-type {\n",
       "        vertical-align: middle;\n",
       "    }\n",
       "\n",
       "    .dataframe tbody tr th {\n",
       "        vertical-align: top;\n",
       "    }\n",
       "\n",
       "    .dataframe thead th {\n",
       "        text-align: right;\n",
       "    }\n",
       "</style>\n",
       "<table border=\"1\" class=\"dataframe\">\n",
       "  <thead>\n",
       "    <tr style=\"text-align: right;\">\n",
       "      <th></th>\n",
       "      <th>a</th>\n",
       "      <th>b</th>\n",
       "      <th>c</th>\n",
       "      <th>d</th>\n",
       "    </tr>\n",
       "  </thead>\n",
       "  <tbody>\n",
       "    <tr>\n",
       "      <th>1번</th>\n",
       "      <td>1</td>\n",
       "      <td>2</td>\n",
       "      <td>3</td>\n",
       "      <td>4</td>\n",
       "    </tr>\n",
       "    <tr>\n",
       "      <th>2번</th>\n",
       "      <td>2</td>\n",
       "      <td>3</td>\n",
       "      <td>4</td>\n",
       "      <td>5</td>\n",
       "    </tr>\n",
       "  </tbody>\n",
       "</table>\n",
       "</div>"
      ],
      "text/plain": [
       "    a  b  c  d\n",
       "1번  1  2  3  4\n",
       "2번  2  3  4  5"
      ]
     },
     "execution_count": 45,
     "metadata": {},
     "output_type": "execute_result"
    }
   ],
   "source": [
    "frame.head(2) # head"
   ]
  },
  {
   "cell_type": "code",
   "execution_count": 46,
   "id": "338bdcce",
   "metadata": {},
   "outputs": [
    {
     "data": {
      "text/html": [
       "<div>\n",
       "<style scoped>\n",
       "    .dataframe tbody tr th:only-of-type {\n",
       "        vertical-align: middle;\n",
       "    }\n",
       "\n",
       "    .dataframe tbody tr th {\n",
       "        vertical-align: top;\n",
       "    }\n",
       "\n",
       "    .dataframe thead th {\n",
       "        text-align: right;\n",
       "    }\n",
       "</style>\n",
       "<table border=\"1\" class=\"dataframe\">\n",
       "  <thead>\n",
       "    <tr style=\"text-align: right;\">\n",
       "      <th></th>\n",
       "      <th>a</th>\n",
       "      <th>b</th>\n",
       "      <th>c</th>\n",
       "      <th>d</th>\n",
       "    </tr>\n",
       "  </thead>\n",
       "  <tbody>\n",
       "    <tr>\n",
       "      <th>3번</th>\n",
       "      <td>3</td>\n",
       "      <td>4</td>\n",
       "      <td>5</td>\n",
       "      <td>6</td>\n",
       "    </tr>\n",
       "  </tbody>\n",
       "</table>\n",
       "</div>"
      ],
      "text/plain": [
       "    a  b  c  d\n",
       "3번  3  4  5  6"
      ]
     },
     "execution_count": 46,
     "metadata": {},
     "output_type": "execute_result"
    }
   ],
   "source": [
    "frame.tail(1) # tail"
   ]
  },
  {
   "cell_type": "code",
   "execution_count": 47,
   "id": "b102e139",
   "metadata": {},
   "outputs": [
    {
     "data": {
      "text/plain": [
       "a    1\n",
       "b    2\n",
       "c    3\n",
       "d    4\n",
       "Name: 1번, dtype: int64"
      ]
     },
     "execution_count": 47,
     "metadata": {},
     "output_type": "execute_result"
    }
   ],
   "source": [
    "frame.loc['1번'] # dictionary 처럼 접근"
   ]
  },
  {
   "cell_type": "code",
   "execution_count": 48,
   "id": "4a095e85",
   "metadata": {},
   "outputs": [
    {
     "data": {
      "text/plain": [
       "3"
      ]
     },
     "execution_count": 48,
     "metadata": {},
     "output_type": "execute_result"
    }
   ],
   "source": [
    "frame.loc['1번','c']"
   ]
  },
  {
   "cell_type": "code",
   "execution_count": 49,
   "id": "1c53f47d",
   "metadata": {},
   "outputs": [
    {
     "data": {
      "text/plain": [
       "a    1\n",
       "b    2\n",
       "c    3\n",
       "d    4\n",
       "Name: 1번, dtype: int64"
      ]
     },
     "execution_count": 49,
     "metadata": {},
     "output_type": "execute_result"
    }
   ],
   "source": [
    "frame.iloc[0]\n",
    "# frame.iloc[0, 1]"
   ]
  },
  {
   "cell_type": "markdown",
   "id": "55c91893",
   "metadata": {},
   "source": [
    "## 5. 데이터 세기\n",
    "\n",
    "`value_counts()`: 어떤 열의 unique value들을 count"
   ]
  },
  {
   "cell_type": "code",
   "execution_count": 50,
   "id": "fd873c73",
   "metadata": {},
   "outputs": [
    {
     "data": {
      "text/plain": [
       "1    1\n",
       "2    1\n",
       "Name: a, dtype: int64"
      ]
     },
     "execution_count": 50,
     "metadata": {},
     "output_type": "execute_result"
    }
   ],
   "source": [
    "import pandas as pd\n",
    "\n",
    "frame = pd.DataFrame(\n",
    "    [[1,2,3,4], [2,3,4,5]],\n",
    "    index=['1번', '2번'],\n",
    "    columns=['a','b','c','d']\n",
    ")\n",
    "\n",
    "frame['a'].value_counts()"
   ]
  },
  {
   "cell_type": "markdown",
   "id": "f66bdc50",
   "metadata": {},
   "source": [
    "## 6. 데이터 읽어오기\n",
    "\n",
    "외부 데이터 읽기\n",
    "```python\n",
    "pandas.read_csv(csv파일)\n",
    "```"
   ]
  },
  {
   "cell_type": "code",
   "execution_count": 51,
   "id": "637cf587",
   "metadata": {},
   "outputs": [
    {
     "data": {
      "text/html": [
       "<div>\n",
       "<style scoped>\n",
       "    .dataframe tbody tr th:only-of-type {\n",
       "        vertical-align: middle;\n",
       "    }\n",
       "\n",
       "    .dataframe tbody tr th {\n",
       "        vertical-align: top;\n",
       "    }\n",
       "\n",
       "    .dataframe thead th {\n",
       "        text-align: right;\n",
       "    }\n",
       "</style>\n",
       "<table border=\"1\" class=\"dataframe\">\n",
       "  <thead>\n",
       "    <tr style=\"text-align: right;\">\n",
       "      <th></th>\n",
       "      <th>a</th>\n",
       "      <th>b</th>\n",
       "      <th>c</th>\n",
       "      <th>d</th>\n",
       "    </tr>\n",
       "  </thead>\n",
       "  <tbody>\n",
       "    <tr>\n",
       "      <th>1번</th>\n",
       "      <td>1</td>\n",
       "      <td>2</td>\n",
       "      <td>3</td>\n",
       "      <td>4</td>\n",
       "    </tr>\n",
       "    <tr>\n",
       "      <th>2번</th>\n",
       "      <td>2</td>\n",
       "      <td>3</td>\n",
       "      <td>4</td>\n",
       "      <td>5</td>\n",
       "    </tr>\n",
       "  </tbody>\n",
       "</table>\n",
       "</div>"
      ],
      "text/plain": [
       "    a  b  c  d\n",
       "1번  1  2  3  4\n",
       "2번  2  3  4  5"
      ]
     },
     "execution_count": 51,
     "metadata": {},
     "output_type": "execute_result"
    }
   ],
   "source": [
    "import pandas as pd\n",
    "\n",
    "frame = pd.DataFrame(\n",
    "    [[1,2,3,4], [2,3,4,5]],\n",
    "    index=['1번', '2번'],\n",
    "    columns=['a','b','c','d']\n",
    ")\n",
    "\n",
    "frame.to_csv('test.csv') # csv 파일 생성\n",
    "frame"
   ]
  },
  {
   "cell_type": "markdown",
   "id": "f25597a1",
   "metadata": {},
   "source": [
    "# Pandas 라이브러리 활용\n"
   ]
  },
  {
   "cell_type": "code",
   "execution_count": 52,
   "id": "2d85ac5e",
   "metadata": {},
   "outputs": [],
   "source": [
    "import pandas as pd\n",
    "\n",
    "url = \"https://ko.wikipedia.org/wiki/%EC%98%AC%EB%A6%BC%ED%94%BD_%EB%A9%94%EB%8B%AC_%EC%A7%91%EA%B3%84\""
   ]
  },
  {
   "cell_type": "code",
   "execution_count": 53,
   "id": "50d93ff0",
   "metadata": {
    "scrolled": true
   },
   "outputs": [
    {
     "data": {
      "text/html": [
       "<div>\n",
       "<style scoped>\n",
       "    .dataframe tbody tr th:only-of-type {\n",
       "        vertical-align: middle;\n",
       "    }\n",
       "\n",
       "    .dataframe tbody tr th {\n",
       "        vertical-align: top;\n",
       "    }\n",
       "\n",
       "    .dataframe thead th {\n",
       "        text-align: right;\n",
       "    }\n",
       "</style>\n",
       "<table border=\"1\" class=\"dataframe\">\n",
       "  <thead>\n",
       "    <tr style=\"text-align: right;\">\n",
       "      <th></th>\n",
       "      <th>하계 참가 횟수</th>\n",
       "      <th>금</th>\n",
       "      <th>은</th>\n",
       "      <th>동</th>\n",
       "      <th>계</th>\n",
       "    </tr>\n",
       "    <tr>\n",
       "      <th>국가 (IOC 코드)</th>\n",
       "      <th></th>\n",
       "      <th></th>\n",
       "      <th></th>\n",
       "      <th></th>\n",
       "      <th></th>\n",
       "    </tr>\n",
       "  </thead>\n",
       "  <tbody>\n",
       "    <tr>\n",
       "      <th>아프가니스탄 (AFG)</th>\n",
       "      <td>14</td>\n",
       "      <td>0</td>\n",
       "      <td>0</td>\n",
       "      <td>2</td>\n",
       "      <td>2</td>\n",
       "    </tr>\n",
       "    <tr>\n",
       "      <th>알제리 (ALG)</th>\n",
       "      <td>13</td>\n",
       "      <td>5</td>\n",
       "      <td>4</td>\n",
       "      <td>8</td>\n",
       "      <td>17</td>\n",
       "    </tr>\n",
       "    <tr>\n",
       "      <th>아르헨티나 (ARG)</th>\n",
       "      <td>24</td>\n",
       "      <td>21</td>\n",
       "      <td>25</td>\n",
       "      <td>28</td>\n",
       "      <td>74</td>\n",
       "    </tr>\n",
       "    <tr>\n",
       "      <th>아르메니아 (ARM)</th>\n",
       "      <td>6</td>\n",
       "      <td>2</td>\n",
       "      <td>6</td>\n",
       "      <td>6</td>\n",
       "      <td>14</td>\n",
       "    </tr>\n",
       "    <tr>\n",
       "      <th>오스트랄라시아 (ANZ) [ANZ]</th>\n",
       "      <td>2</td>\n",
       "      <td>3</td>\n",
       "      <td>4</td>\n",
       "      <td>5</td>\n",
       "      <td>12</td>\n",
       "    </tr>\n",
       "    <tr>\n",
       "      <th>...</th>\n",
       "      <td>...</td>\n",
       "      <td>...</td>\n",
       "      <td>...</td>\n",
       "      <td>...</td>\n",
       "      <td>...</td>\n",
       "    </tr>\n",
       "    <tr>\n",
       "      <th>독립 (IOA) [IOA]</th>\n",
       "      <td>3</td>\n",
       "      <td>1</td>\n",
       "      <td>0</td>\n",
       "      <td>1</td>\n",
       "      <td>2</td>\n",
       "    </tr>\n",
       "    <tr>\n",
       "      <th>독립 참가 (IOP) [IOP]</th>\n",
       "      <td>1</td>\n",
       "      <td>0</td>\n",
       "      <td>1</td>\n",
       "      <td>2</td>\n",
       "      <td>3</td>\n",
       "    </tr>\n",
       "    <tr>\n",
       "      <th>러시아 출신 올림픽 선수 (OAR)</th>\n",
       "      <td>0</td>\n",
       "      <td>0</td>\n",
       "      <td>0</td>\n",
       "      <td>0</td>\n",
       "      <td>0</td>\n",
       "    </tr>\n",
       "    <tr>\n",
       "      <th>혼성 (ZZX) [ZZX]</th>\n",
       "      <td>3</td>\n",
       "      <td>8</td>\n",
       "      <td>5</td>\n",
       "      <td>4</td>\n",
       "      <td>17</td>\n",
       "    </tr>\n",
       "    <tr>\n",
       "      <th>총합</th>\n",
       "      <td>28</td>\n",
       "      <td>5116</td>\n",
       "      <td>5082</td>\n",
       "      <td>5490</td>\n",
       "      <td>15688</td>\n",
       "    </tr>\n",
       "  </tbody>\n",
       "</table>\n",
       "<p>153 rows × 5 columns</p>\n",
       "</div>"
      ],
      "text/plain": [
       "                     하계 참가 횟수     금     은     동      계\n",
       "국가 (IOC 코드)                                           \n",
       "아프가니스탄 (AFG)               14     0     0     2      2\n",
       "알제리 (ALG)                  13     5     4     8     17\n",
       "아르헨티나 (ARG)                24    21    25    28     74\n",
       "아르메니아 (ARM)                 6     2     6     6     14\n",
       "오스트랄라시아 (ANZ) [ANZ]         2     3     4     5     12\n",
       "...                       ...   ...   ...   ...    ...\n",
       "독립 (IOA) [IOA]              3     1     0     1      2\n",
       "독립 참가 (IOP) [IOP]           1     0     1     2      3\n",
       "러시아 출신 올림픽 선수 (OAR)         0     0     0     0      0\n",
       "혼성 (ZZX) [ZZX]              3     8     5     4     17\n",
       "총합                         28  5116  5082  5490  15688\n",
       "\n",
       "[153 rows x 5 columns]"
      ]
     },
     "execution_count": 53,
     "metadata": {},
     "output_type": "execute_result"
    }
   ],
   "source": [
    "df = pd.read_html(url, header=0, index_col=0)\n",
    "a = df[0].iloc[:, :5]\n",
    "a.columns = ['하계 참가 횟수', '금', '은', '동',' 계']\n",
    "a"
   ]
  },
  {
   "cell_type": "code",
   "execution_count": 54,
   "id": "1ccea2b6",
   "metadata": {},
   "outputs": [
    {
     "data": {
      "text/html": [
       "<div>\n",
       "<style scoped>\n",
       "    .dataframe tbody tr th:only-of-type {\n",
       "        vertical-align: middle;\n",
       "    }\n",
       "\n",
       "    .dataframe tbody tr th {\n",
       "        vertical-align: top;\n",
       "    }\n",
       "\n",
       "    .dataframe thead th {\n",
       "        text-align: right;\n",
       "    }\n",
       "</style>\n",
       "<table border=\"1\" class=\"dataframe\">\n",
       "  <thead>\n",
       "    <tr style=\"text-align: right;\">\n",
       "      <th></th>\n",
       "      <th>하계 참가 횟수</th>\n",
       "      <th>금</th>\n",
       "      <th>은</th>\n",
       "      <th>동</th>\n",
       "      <th>계</th>\n",
       "    </tr>\n",
       "    <tr>\n",
       "      <th>국가 (IOC 코드)</th>\n",
       "      <th></th>\n",
       "      <th></th>\n",
       "      <th></th>\n",
       "      <th></th>\n",
       "      <th></th>\n",
       "    </tr>\n",
       "  </thead>\n",
       "  <tbody>\n",
       "    <tr>\n",
       "      <th>총합</th>\n",
       "      <td>28</td>\n",
       "      <td>5116</td>\n",
       "      <td>5082</td>\n",
       "      <td>5490</td>\n",
       "      <td>15688</td>\n",
       "    </tr>\n",
       "    <tr>\n",
       "      <th>미국 (USA) [P] [Q] [R] [Z] [F]</th>\n",
       "      <td>27</td>\n",
       "      <td>1022</td>\n",
       "      <td>795</td>\n",
       "      <td>706</td>\n",
       "      <td>2523</td>\n",
       "    </tr>\n",
       "    <tr>\n",
       "      <th>소련 (URS) [URS]</th>\n",
       "      <td>9</td>\n",
       "      <td>395</td>\n",
       "      <td>319</td>\n",
       "      <td>296</td>\n",
       "      <td>1010</td>\n",
       "    </tr>\n",
       "    <tr>\n",
       "      <th>영국 (GBR) [GBR] [Z]</th>\n",
       "      <td>28</td>\n",
       "      <td>263</td>\n",
       "      <td>295</td>\n",
       "      <td>293</td>\n",
       "      <td>851</td>\n",
       "    </tr>\n",
       "    <tr>\n",
       "      <th>중화인민공화국 (CHN) [CHN]</th>\n",
       "      <td>10</td>\n",
       "      <td>224</td>\n",
       "      <td>167</td>\n",
       "      <td>155</td>\n",
       "      <td>546</td>\n",
       "    </tr>\n",
       "    <tr>\n",
       "      <th>...</th>\n",
       "      <td>...</td>\n",
       "      <td>...</td>\n",
       "      <td>...</td>\n",
       "      <td>...</td>\n",
       "      <td>...</td>\n",
       "    </tr>\n",
       "    <tr>\n",
       "      <th>레바논 (LIB)</th>\n",
       "      <td>17</td>\n",
       "      <td>0</td>\n",
       "      <td>2</td>\n",
       "      <td>2</td>\n",
       "      <td>4</td>\n",
       "    </tr>\n",
       "    <tr>\n",
       "      <th>세르비아 몬테네그로 (SCG) [SCG]</th>\n",
       "      <td>1</td>\n",
       "      <td>0</td>\n",
       "      <td>2</td>\n",
       "      <td>0</td>\n",
       "      <td>2</td>\n",
       "    </tr>\n",
       "    <tr>\n",
       "      <th>지부티 (DJI) [B]</th>\n",
       "      <td>8</td>\n",
       "      <td>0</td>\n",
       "      <td>0</td>\n",
       "      <td>1</td>\n",
       "      <td>1</td>\n",
       "    </tr>\n",
       "    <tr>\n",
       "      <th>키프로스 (CYP)</th>\n",
       "      <td>10</td>\n",
       "      <td>0</td>\n",
       "      <td>1</td>\n",
       "      <td>0</td>\n",
       "      <td>1</td>\n",
       "    </tr>\n",
       "    <tr>\n",
       "      <th>아프가니스탄 (AFG)</th>\n",
       "      <td>14</td>\n",
       "      <td>0</td>\n",
       "      <td>0</td>\n",
       "      <td>2</td>\n",
       "      <td>2</td>\n",
       "    </tr>\n",
       "  </tbody>\n",
       "</table>\n",
       "<p>153 rows × 5 columns</p>\n",
       "</div>"
      ],
      "text/plain": [
       "                              하계 참가 횟수     금     은     동      계\n",
       "국가 (IOC 코드)                                                    \n",
       "총합                                  28  5116  5082  5490  15688\n",
       "미국 (USA) [P] [Q] [R] [Z] [F]        27  1022   795   706   2523\n",
       "소련 (URS) [URS]                       9   395   319   296   1010\n",
       "영국 (GBR) [GBR] [Z]                  28   263   295   293    851\n",
       "중화인민공화국 (CHN) [CHN]                 10   224   167   155    546\n",
       "...                                ...   ...   ...   ...    ...\n",
       "레바논 (LIB)                           17     0     2     2      4\n",
       "세르비아 몬테네그로 (SCG) [SCG]               1     0     2     0      2\n",
       "지부티 (DJI) [B]                        8     0     0     1      1\n",
       "키프로스 (CYP)                          10     0     1     0      1\n",
       "아프가니스탄 (AFG)                        14     0     0     2      2\n",
       "\n",
       "[153 rows x 5 columns]"
      ]
     },
     "execution_count": 54,
     "metadata": {},
     "output_type": "execute_result"
    }
   ],
   "source": [
    "import pandas as pd\n",
    "\n",
    "url = \"https://ko.wikipedia.org/wiki/%EC%98%AC%EB%A6%BC%ED%94%BD_%EB%A9%94%EB%8B%AC_%EC%A7%91%EA%B3%84\"\n",
    "df = pd.read_html(url, header=0, index_col=0) # 헤더를 열 이름, 나라 이름을 행 이름\n",
    "a = df[0].iloc[:, :5]\n",
    "a.columns = ['하계 참가 횟수', '금', '은', '동', '계']\n",
    "a = a.sort_values(by=['금'], ascending=False)\n",
    "a\n",
    "# a.to_csv('test2.csv')"
   ]
  },
  {
   "cell_type": "markdown",
   "id": "3c57bfbe",
   "metadata": {},
   "source": [
    "# 데이터 시각화 하기"
   ]
  },
  {
   "cell_type": "code",
   "execution_count": 55,
   "id": "eb1be06f",
   "metadata": {},
   "outputs": [
    {
     "data": {
      "text/plain": [
       "<AxesSubplot:xlabel='국가 (IOC 코드)'>"
      ]
     },
     "execution_count": 55,
     "metadata": {},
     "output_type": "execute_result"
    },
    {
     "data": {
      "image/png": "[encoded data removed]",
      "text/plain": [
       "<Figure size 432x288 with 1 Axes>"
      ]
     },
     "metadata": {
      "needs_background": "light"
     },
     "output_type": "display_data"
    }
   ],
   "source": [
    "import matplotlib.pyplot as plt\n",
    "\n",
    "plt.rc('font', family='Malgun Gothic')\n",
    "plt.rcParams['axes.unicode_minus'] = False\n",
    "a[1:11].plot()"
   ]
  },
  {
   "cell_type": "code",
   "execution_count": 56,
   "id": "5e491cb0",
   "metadata": {},
   "outputs": [
    {
     "ename": "AttributeError",
     "evalue": "'DataFrame' object has no attribute 'bar'",
     "output_type": "error",
     "traceback": [
      "\u001b[1;31m---------------------------------------------------------------------------\u001b[0m",
      "\u001b[1;31mAttributeError\u001b[0m                            Traceback (most recent call last)",
      "Input \u001b[1;32mIn [56]\u001b[0m, in \u001b[0;36m<cell line: 2>\u001b[1;34m()\u001b[0m\n\u001b[0;32m      1\u001b[0m \u001b[38;5;66;03m# a[1:11].plot(kind='bar')\u001b[39;00m\n\u001b[1;32m----> 2\u001b[0m \u001b[43ma\u001b[49m\u001b[43m[\u001b[49m\u001b[38;5;241;43m1\u001b[39;49m\u001b[43m:\u001b[49m\u001b[38;5;241;43m11\u001b[39;49m\u001b[43m]\u001b[49m\u001b[38;5;241;43m.\u001b[39;49m\u001b[43mbar\u001b[49m()\n",
      "File \u001b[1;32m~\\anaconda3\\lib\\site-packages\\pandas\\core\\generic.py:5575\u001b[0m, in \u001b[0;36mNDFrame.__getattr__\u001b[1;34m(self, name)\u001b[0m\n\u001b[0;32m   5568\u001b[0m \u001b[38;5;28;01mif\u001b[39;00m (\n\u001b[0;32m   5569\u001b[0m     name \u001b[38;5;129;01mnot\u001b[39;00m \u001b[38;5;129;01min\u001b[39;00m \u001b[38;5;28mself\u001b[39m\u001b[38;5;241m.\u001b[39m_internal_names_set\n\u001b[0;32m   5570\u001b[0m     \u001b[38;5;129;01mand\u001b[39;00m name \u001b[38;5;129;01mnot\u001b[39;00m \u001b[38;5;129;01min\u001b[39;00m \u001b[38;5;28mself\u001b[39m\u001b[38;5;241m.\u001b[39m_metadata\n\u001b[0;32m   5571\u001b[0m     \u001b[38;5;129;01mand\u001b[39;00m name \u001b[38;5;129;01mnot\u001b[39;00m \u001b[38;5;129;01min\u001b[39;00m \u001b[38;5;28mself\u001b[39m\u001b[38;5;241m.\u001b[39m_accessors\n\u001b[0;32m   5572\u001b[0m     \u001b[38;5;129;01mand\u001b[39;00m \u001b[38;5;28mself\u001b[39m\u001b[38;5;241m.\u001b[39m_info_axis\u001b[38;5;241m.\u001b[39m_can_hold_identifiers_and_holds_name(name)\n\u001b[0;32m   5573\u001b[0m ):\n\u001b[0;32m   5574\u001b[0m     \u001b[38;5;28;01mreturn\u001b[39;00m \u001b[38;5;28mself\u001b[39m[name]\n\u001b[1;32m-> 5575\u001b[0m \u001b[38;5;28;01mreturn\u001b[39;00m \u001b[38;5;28;43mobject\u001b[39;49m\u001b[38;5;241;43m.\u001b[39;49m\u001b[38;5;21;43m__getattribute__\u001b[39;49m\u001b[43m(\u001b[49m\u001b[38;5;28;43mself\u001b[39;49m\u001b[43m,\u001b[49m\u001b[43m \u001b[49m\u001b[43mname\u001b[49m\u001b[43m)\u001b[49m\n",
      "\u001b[1;31mAttributeError\u001b[0m: 'DataFrame' object has no attribute 'bar'"
     ]
    }
   ],
   "source": [
    "a[1:11].plot(kind='bar')"
   ]
  }
 ],
 "metadata": {
  "kernelspec": {
   "display_name": "Python 3 (ipykernel)",
   "language": "python",
   "name": "python3"
  },
  "language_info": {
   "codemirror_mode": {
    "name": "ipython",
    "version": 3
   },
   "file_extension": ".py",
   "mimetype": "text/x-python",
   "name": "python",
   "nbconvert_exporter": "python",
   "pygments_lexer": "ipython3",
   "version": "3.9.12"
  }
 },
 "nbformat": 4,
 "nbformat_minor": 5
}
