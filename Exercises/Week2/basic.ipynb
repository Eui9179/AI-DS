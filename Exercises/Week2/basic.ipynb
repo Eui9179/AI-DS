{
 "cells": [
  {
   "cell_type": "code",
   "execution_count": 1,
   "id": "af422102",
   "metadata": {},
   "outputs": [
    {
     "name": "stdout",
     "output_type": "stream",
     "text": [
      "hello world\n"
     ]
    }
   ],
   "source": [
    "print(\"hello world\")"
   ]
  },
  {
   "cell_type": "markdown",
   "id": "73f67a55",
   "metadata": {},
   "source": [
    "# 주피터 노트북 기본\n",
    "\n",
    "## 코드 실행\n",
    "\n",
    "1. shift + enter: 실행 후 다음 셀(없다면 새로 생성)\n",
    "2. ctrl + enter: 현재 코드 셀 실행\n",
    "3. alt + enter: 실행 후 새로운 셀 삽입\n",
    "\n",
    "---\n",
    "\n",
    "## 글자 크기 조절\n",
    "\n",
    "<br>\n",
    "\n",
    "# # 안녕하세요\n",
    "## ## 안녕하세요\n",
    "### ### 안녕하세요\n",
    "\n",
    "---\n",
    "\n",
    "## 목록\n",
    "\n",
    "<br>\n",
    "\n",
    "목록은 *로 시작하고, 들여쓰기(tab)으로 조절 <br>\n",
    "\n",
    "> * 목록 1번\n",
    "    * 들여쓰기 1번\n",
    "        * 들여쓰기 2번\n",
    "   \n",
    "---\n",
    "\n",
    "## 굵은 글씨, 기울인 글씨\n",
    "\n",
    "<br>\n",
    "\n",
    "- \\* *기울인 글씨*\n",
    "- \\** **굵은 글씨**\n",
    "- \\*** ***굵게 기울인 글씨***\n",
    "        \n"
   ]
  },
  {
   "cell_type": "code",
   "execution_count": null,
   "id": "40e50ebc",
   "metadata": {},
   "outputs": [],
   "source": [
    "import csv\n",
    "\n",
    "f = open('incheon_weather.csv', 'r')\n",
    "data = csv.reader(f)\n",
    "\n",
    "for row in data:\n",
    "    print(row)\n",
    "    \n",
    "f.close()\n"
   ]
  }
 ],
 "metadata": {
  "kernelspec": {
   "display_name": "Python 3 (ipykernel)",
   "language": "python",
   "name": "python3"
  },
  "language_info": {
   "codemirror_mode": {
    "name": "ipython",
    "version": 3
   },
   "file_extension": ".py",
   "mimetype": "text/x-python",
   "name": "python",
   "nbconvert_exporter": "python",
   "pygments_lexer": "ipython3",
   "version": "3.9.12"
  }
 },
 "nbformat": 4,
 "nbformat_minor": 5
}
