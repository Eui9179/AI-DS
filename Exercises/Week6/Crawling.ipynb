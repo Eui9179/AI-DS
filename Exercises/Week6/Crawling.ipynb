{
 "cells": [
  {
   "cell_type": "markdown",
   "id": "6574670f",
   "metadata": {},
   "source": [
    "# 웹 기초"
   ]
  },
  {
   "cell_type": "markdown",
   "id": "18a3661c",
   "metadata": {},
   "source": [
    "## 크롤링(Crawling)\n",
    "\n",
    "- 웹 페이지를 가져와서 데이터를 추출하는 행위\n",
    "\n",
    "## HTTP(Hyper Text Transfer Protocol)\n",
    "\n",
    "\n",
    "- Hyper Text\n",
    "    - 한 문서에서 다른 문서로 즉시 접근할 수 있는 텍스트\n",
    "    - 하이퍼링크로 연결될 문서들을 클릭에 따라 자유롭게 이동\n",
    "\n",
    "\n",
    "- HTTP는 HTML로 작성되어 있는 **하이퍼 텍스트를 전송하기 위한 프로토콜**\n",
    "\n",
    "\n",
    "- **프로토콜**은 약속, 규칙, 규약\n",
    "    - 요청(request)과 응답(response)\n",
    "        - 서버에서 클라이언트가 존재하며, 사용자가 웹 브라우저로 url을 통해 요청하면, 서버는 요청에 맞는 응답을 한다.\n",
    "        - ex) 요청 - GET /users/1, 응답 - 200 HTML문서\n",
    "        \n",
    "## URL(Uniform Resource Locater)\n",
    "\n",
    "\n",
    "- 네트워크상에서 **자원의 위치를 알려주는 주소**\n",
    "\n",
    "\n",
    "## HTML(Hyper Text Markup Language)\n",
    "\n",
    "\n",
    "- 웹 페이지를 위한 마크업 언어\n",
    "- 마크`mark`로 둘라싸인 언어. 마크를 태그`tag`라고도 표현함\n",
    "\n",
    "        <html>\n",
    "            <body>\n",
    "                ...\n",
    "            </body>\n",
    "        </html>"
   ]
  },
  {
   "cell_type": "markdown",
   "id": "4923b78e",
   "metadata": {},
   "source": [
    "# 웹 크롤링과 스크래핑\n",
    "---\n",
    "- 크롤링\n",
    "\n",
    "\n",
    "    - 검색 엔진이 웹 페이지의 정보를 수집하여 분류 및 색인화하여 db화\n",
    "    - 검색 엔진에서 우리가 보는 것은 db에 저장되어 있는 수집된 데이터를 보는 것 -> 빠르게 찾아서 보여줌\n",
    "\n",
    "\n",
    "- 스크래핑\n",
    "\n",
    "\n",
    "    - 웹 페이지의 정보를 수집하는 일련의 행위\n",
    "    - 특정한 웹 페이지에서 원하는 데이터 일부를 가져오는 것"
   ]
  }
 ],
 "metadata": {
  "kernelspec": {
   "display_name": "Python 3 (ipykernel)",
   "language": "python",
   "name": "python3"
  },
  "language_info": {
   "codemirror_mode": {
    "name": "ipython",
    "version": 3
   },
   "file_extension": ".py",
   "mimetype": "text/x-python",
   "name": "python",
   "nbconvert_exporter": "python",
   "pygments_lexer": "ipython3",
   "version": "3.9.12"
  }
 },
 "nbformat": 4,
 "nbformat_minor": 5
}
