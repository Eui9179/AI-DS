{
 "cells": [
  {
   "cell_type": "code",
   "execution_count": 53,
   "id": "eed8d291",
   "metadata": {},
   "outputs": [],
   "source": [
    "import urllib\n",
    "from nltk.tokenize import word_tokenize\n",
    "from konlpy.tag import Okt\n",
    "import nltk\n",
    "\n",
    "okt = Okt()"
   ]
  },
  {
   "cell_type": "code",
   "execution_count": 54,
   "id": "f7ed071b",
   "metadata": {},
   "outputs": [
    {
     "data": {
      "text/plain": [
       "('ratings_train.txt', <http.client.HTTPMessage at 0x22487fcf370>)"
      ]
     },
     "execution_count": 54,
     "metadata": {},
     "output_type": "execute_result"
    }
   ],
   "source": [
    "urllib.request.urlretrieve(\"https://raw.githubusercontent.com/e9t/nsmc/master/ratings_train.txt\", filename=\"ratings_train.txt\")"
   ]
  },
  {
   "cell_type": "code",
   "execution_count": 55,
   "id": "fae79cf1",
   "metadata": {},
   "outputs": [
    {
     "data": {
      "text/plain": [
       "('ratings_test.txt', <http.client.HTTPMessage at 0x2248774db20>)"
      ]
     },
     "execution_count": 55,
     "metadata": {},
     "output_type": "execute_result"
    }
   ],
   "source": [
    "urllib.request.urlretrieve(\"https://raw.githubusercontent.com/e9t/nsmc/master/ratings_test.txt\", filename=\"ratings_test.txt\")"
   ]
  },
  {
   "cell_type": "code",
   "execution_count": 65,
   "id": "05b52ad5",
   "metadata": {},
   "outputs": [],
   "source": [
    "def load_data(file_path, max_count=500):\n",
    "    train = []\n",
    "    \n",
    "    count = 0\n",
    "    \n",
    "    with open(file_path, 'r', encoding='utf-8') as f:\n",
    "        for line in f.readlines():\n",
    "            if count == max_count:\n",
    "                break\n",
    "                \n",
    "            line = line.strip()\n",
    "            id, doc, label = line.split('\\t')\n",
    "            if label == '1': \n",
    "                label = 'pos'\n",
    "            elif label == '0': \n",
    "                label = 'neg'\n",
    "            train.append((doc, label))\n",
    "            count += 1\n",
    "    return train"
   ]
  },
  {
   "cell_type": "code",
   "execution_count": 57,
   "id": "76a911ae",
   "metadata": {},
   "outputs": [],
   "source": [
    "def pos_tokenize(raw_sent):\n",
    "    pos_sent = []\n",
    "    sent = okt.pos(raw_sent, norm=True, stem=True)\n",
    "    \n",
    "    for tup in sent:\n",
    "        word, tag = tup[0], tup[1]\n",
    "        word_tag = word + '/' + tag\n",
    "        pos_sent.append(word_tag)\n",
    "    return ' '.join(pos_sent)"
   ]
  },
  {
   "cell_type": "code",
   "execution_count": 58,
   "id": "fc51ba52",
   "metadata": {},
   "outputs": [],
   "source": [
    "def make_word_dict(train, use_morph=False):\n",
    "    all_words = set()\n",
    "    \n",
    "    for tup in train:\n",
    "        sent, label = tup[0], tup[1]\n",
    "        if use_morph:\n",
    "            sent = pos_tokenize(sent)\n",
    "        words = word_tokenize(sent)\n",
    "        for word in words:\n",
    "            all_words.add(word)\n",
    "    return all_words"
   ]
  },
  {
   "cell_type": "code",
   "execution_count": 59,
   "id": "8a72d632",
   "metadata": {},
   "outputs": [],
   "source": [
    "def make_train_feats(train, all_words, use_morph=False):\n",
    "    train_features = []\n",
    "    \n",
    "    for tup in train:\n",
    "        sent, label = tup[0], tup[1]\n",
    "        if use_morph:\n",
    "            sent = pos_tokenize(sent)\n",
    "        words = word_tokenize(sent)\n",
    "        tmp = {set_word: (set_word in words) for set_word in all_words}\n",
    "        sent_tup = (tmp, label)\n",
    "        train_features.append(sent_tup)\n",
    "    return train_features"
   ]
  },
  {
   "cell_type": "markdown",
   "id": "e203bc82",
   "metadata": {},
   "source": [
    "# 500개"
   ]
  },
  {
   "cell_type": "code",
   "execution_count": 85,
   "id": "816a4a43",
   "metadata": {},
   "outputs": [],
   "source": [
    "test = load_data('ratings_test.txt', max_count=500)\n",
    "test = test[1:]"
   ]
  },
  {
   "cell_type": "code",
   "execution_count": 86,
   "id": "d8abed8e",
   "metadata": {},
   "outputs": [],
   "source": [
    "use_morph = True\n",
    "all_words = make_word_dict(test, use_morph)\n",
    "test_feature = make_train_feats(test, all_words, use_morph)"
   ]
  },
  {
   "cell_type": "code",
   "execution_count": 87,
   "id": "363a924a",
   "metadata": {},
   "outputs": [],
   "source": [
    "classifier = nltk.NaiveBayesClassifier.train(test_feature)"
   ]
  },
  {
   "cell_type": "code",
   "execution_count": 88,
   "id": "30f0dc0d",
   "metadata": {},
   "outputs": [
    {
     "name": "stdout",
     "output_type": "stream",
     "text": [
      "Most Informative Features\n",
      "           재밌다/Adjective = True              pos : neg    =      7.8 : 1.0\n",
      "                쓰레기/Noun = True              neg : pos    =      6.9 : 1.0\n",
      "                  뭐/Noun = True              neg : pos    =      5.9 : 1.0\n",
      "                해주다/Verb = True              pos : neg    =      5.2 : 1.0\n",
      "            안/VerbPrefix = True              neg : pos    =      4.8 : 1.0\n",
      "                 최고/Noun = True              pos : neg    =      4.6 : 1.0\n",
      "                  요/Josa = True              pos : neg    =      4.2 : 1.0\n",
      "            내/Determiner = True              neg : pos    =      4.0 : 1.0\n",
      "                  냐/Josa = True              neg : pos    =      4.0 : 1.0\n",
      "                  못/Noun = True              neg : pos    =      4.0 : 1.0\n"
     ]
    }
   ],
   "source": [
    "classifier.show_most_informative_features()"
   ]
  },
  {
   "cell_type": "code",
   "execution_count": 89,
   "id": "95209914",
   "metadata": {},
   "outputs": [
    {
     "data": {
      "text/plain": [
       "0.748"
      ]
     },
     "execution_count": 89,
     "metadata": {},
     "output_type": "execute_result"
    }
   ],
   "source": [
    "nltk.classify.accuracy(classifier, test_features)"
   ]
  },
  {
   "cell_type": "markdown",
   "id": "3afab2fc",
   "metadata": {},
   "source": [
    "# 1000개"
   ]
  },
  {
   "cell_type": "code",
   "execution_count": 93,
   "id": "d1f98bd7",
   "metadata": {},
   "outputs": [],
   "source": [
    "test = load_data('ratings_test.txt', max_count=1000)\n",
    "test = test[1:]\n",
    "all_words = make_word_dict(test, use_morph)\n",
    "test_feature = make_train_feats(test, all_words, use_morph)\n",
    "classifier = nltk.NaiveBayesClassifier.train(test_feature)"
   ]
  },
  {
   "cell_type": "code",
   "execution_count": 94,
   "id": "bc712200",
   "metadata": {},
   "outputs": [
    {
     "name": "stdout",
     "output_type": "stream",
     "text": [
      "Most Informative Features\n",
      "                 다시/Noun = True              pos : neg    =     13.2 : 1.0\n",
      "          재미없다/Adjective = True              neg : pos    =     12.8 : 1.0\n",
      "                해주다/Verb = True              pos : neg    =      8.7 : 1.0\n",
      "                  냐/Josa = True              neg : pos    =      7.9 : 1.0\n",
      "                 최고/Noun = True              pos : neg    =      7.6 : 1.0\n",
      "                 가슴/Noun = True              pos : neg    =      7.4 : 1.0\n",
      "                  뭐/Noun = True              neg : pos    =      7.2 : 1.0\n",
      "                쓰레기/Noun = True              neg : pos    =      7.2 : 1.0\n",
      "          재미있다/Adjective = True              pos : neg    =      6.8 : 1.0\n",
      "                 마음/Noun = True              pos : neg    =      6.8 : 1.0\n"
     ]
    }
   ],
   "source": [
    "classifier.show_most_informative_features()"
   ]
  },
  {
   "cell_type": "code",
   "execution_count": 95,
   "id": "28273c68",
   "metadata": {},
   "outputs": [
    {
     "data": {
      "text/plain": [
       "0.794"
      ]
     },
     "execution_count": 95,
     "metadata": {},
     "output_type": "execute_result"
    }
   ],
   "source": [
    "nltk.classify.accuracy(classifier, test_features)"
   ]
  },
  {
   "cell_type": "markdown",
   "id": "25626258",
   "metadata": {},
   "source": [
    "# 결과 비교\n",
    "\n",
    "500개 일 때는 정확도가 약 75% 정도이고 1000개 일 때는 80%이다.\n",
    "\n",
    "학습한 문장이 1000개면 500개일 때보다 약 5% 정도 향상된다."
   ]
  }
 ],
 "metadata": {
  "kernelspec": {
   "display_name": "Python 3 (ipykernel)",
   "language": "python",
   "name": "python3"
  },
  "language_info": {
   "codemirror_mode": {
    "name": "ipython",
    "version": 3
   },
   "file_extension": ".py",
   "mimetype": "text/x-python",
   "name": "python",
   "nbconvert_exporter": "python",
   "pygments_lexer": "ipython3",
   "version": "3.9.12"
  }
 },
 "nbformat": 4,
 "nbformat_minor": 5
}
