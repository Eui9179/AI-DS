{
 "cells": [
  {
   "cell_type": "code",
   "execution_count": 64,
   "id": "8ca0051b",
   "metadata": {},
   "outputs": [],
   "source": [
    "import math\n",
    "\n",
    "class MyNaiveBayesClassifier:\n",
    "    def __init__(self, k=0.5, use_morph=False):\n",
    "        self.k = k\n",
    "        self.word_probs = []\n",
    "        self.use_morph = use_morph\n",
    "        \n",
    "        if self.use_morph:\n",
    "            from konlpy.tag import Okt\n",
    "            self.okt = Okt()\n",
    "    \n",
    "    def load_data(self, file_path):\n",
    "        '''file_path에 있는 데이터를 읽어옴''' \n",
    "        \n",
    "        docs = []\n",
    "        labels = []\n",
    "        count = 0\n",
    "        with open(file_path, 'r', encoding='utf-8') as f:\n",
    "            for line in f.readlines():\n",
    "                if count == 500: break\n",
    "                line = line.strip()\n",
    "                id, doc, label = line.split('\\t')\n",
    "                docs.append(doc)\n",
    "                if label == '1': label = 'pos'\n",
    "                elif label == '0': label = 'neg'\n",
    "                labels.append(label)\n",
    "                count += 1\n",
    "        return docs[1:], labels[1:]\n",
    "    \n",
    "    def tokenize(self, sentence):\n",
    "        if self.use_morph:\n",
    "            pos_sent = []\n",
    "            \n",
    "            # raw_sent: 사과가 좋아\n",
    "            sent = self.okt.pos(sentence, norm=True, stem=True)\n",
    "            # sent: [('사과', 'Noun'), ('가', 'Josa'), ('좋다', 'Adjective')]\n",
    "            \n",
    "            for tup in sent:\n",
    "                word, tag = tup[0], tup[1]\n",
    "                word_tag = word + '/' + tag\n",
    "                pos_sent.append(word_tag)\n",
    "            \n",
    "            sentence = ' '.join(pos_sent)\n",
    "        \n",
    "        return sentence.split()\n",
    "    \n",
    "    def count_words(self, docs, labels):\n",
    "        # 단어 사전을 만들고, 각 단어의 긍정/부정 문서 등장 횟수 세기\n",
    "        \n",
    "        count_dict = dict()\n",
    "        for doc, label in zip(docs, labels):\n",
    "            for word in self.tokenize(doc):\n",
    "                if word not in count_dict:\n",
    "                    count_dict[word] = {'pos': 0, 'neg': 0}\n",
    "                count_dict[word][label] += 1\n",
    "                \n",
    "        print('num of words...', len(count_dict))\n",
    "        return count_dict\n",
    "    \n",
    "    def train(self, train_file_path):\n",
    "        # load_data, count_words, word_prob 계산\n",
    "        \n",
    "        train_docs, train_labels = self.load_data(train_file_path)\n",
    "        \n",
    "        word_count_dict = self.count_words(train_docs, train_labels)\n",
    "        \n",
    "        pos_class_num = len([label for label in train_labels if label == 'pos'])\n",
    "        neg_class_num = len([label for label in train_labels if label == 'neg'])\n",
    "        \n",
    "        self.word_probs = self.word_prob(word_count_dict, pos_class_num, neg_class_num, self.k)\n",
    "    \n",
    "    def word_prob(self, count_dict, pos_class_num, neg_class_num, k):\n",
    "        # (단어, p(단어|긍정), p(단어|부정)) 의 튜플 형태로 만들어주는 리스트\n",
    "        word_prob_list = []\n",
    "        \n",
    "        for key in count_dict:\n",
    "            pos_word_num = count_dict[key]['pos']\n",
    "            neg_word_num = count_dict[key]['neg']\n",
    "            \n",
    "            pos_class_prob = (pos_word_num + k) / (pos_class_num + 2*k)\n",
    "            neg_class_prob = (neg_word_num + k) / (neg_class_num + 2*k)\n",
    "            \n",
    "            tup = (key, pos_class_prob, neg_class_prob)\n",
    "            word_prob_list.append(tup)\n",
    "        \n",
    "        return word_prob_list\n",
    "    \n",
    "    def class_prob(self, word_prob_list, test_sentence, use_unseen=False):\n",
    "        test_words = self.tokenize(test_sentence)\n",
    "        \n",
    "        sent_log_pos_class_prob, sent_log_neg_class_prob = 0.0, 0.0\n",
    "        \n",
    "        for word, word_pos_class_prob, word_neg_class_prob in word_prob_list:\n",
    "            if word in test_words:\n",
    "                sent_log_pos_class_prob = sent_log_pos_class_prob + math.log(word_pos_class_prob)\n",
    "                sent_log_neg_class_prob = sent_log_neg_class_prob + math.log(word_neg_class_prob)\n",
    "            else:\n",
    "                if use_unseen:\n",
    "                    sent_log_pos_class_prob = sent_log_pos_class_prob + math.log(1.0 - word_pos_class_prob)\n",
    "                    sent_log_neg_class_prob = sent_log_neg_class_prob + math.log(1.0 - word_neg_class_prob)\n",
    "        \n",
    "        sent_pos_class_prob = math.exp(sent_log_pos_class_prob)\n",
    "        sent_neg_class_prob = math.exp(sent_log_neg_class_prob)\n",
    "        \n",
    "        pos_class_prob = sent_pos_class_prob/(sent_pos_class_prob + sent_neg_class_prob)\n",
    "        neg_class_prob = sent_neg_class_prob/(sent_pos_class_prob + sent_neg_class_prob)\n",
    "        \n",
    "        return pos_class_prob, neg_class_prob\n",
    "    \n",
    "    def classify(self, doc, use_unseen=False):\n",
    "        # class_prob 계산\n",
    "        \n",
    "        pos_class_prob, neg_class_prob = self.class_prob(self.word_probs, doc, use_unseen)\n",
    "        \n",
    "        if pos_class_prob > neg_class_prob:\n",
    "            print('pos', pos_class_prob)\n",
    "        else:\n",
    "            print('neg', neg_class_prob)\n",
    "            \n",
    "    def accuracy(self, file_path):\n",
    "        count = 0\n",
    "        \n",
    "        docs, labels = self.load_data(file_path)\n",
    "        \n",
    "        for i in range(len(docs)):\n",
    "            pos_class_prob, neg_class_prob = self.class_prob(self.word_probs, docs[i], use_unseen=True)\n",
    "            \n",
    "            if pos_class_prob > neg_class_prob:\n",
    "                if labels[i] == 'pos':\n",
    "                    count += 1\n",
    "            else:\n",
    "                if labels[i] == 'neg':\n",
    "                    count += 1\n",
    "        \n",
    "        return count / len(docs)"
   ]
  },
  {
   "cell_type": "code",
   "execution_count": 65,
   "id": "50718f41",
   "metadata": {},
   "outputs": [],
   "source": [
    "classifier = MyNaiveBayesClassifier()"
   ]
  },
  {
   "cell_type": "code",
   "execution_count": 66,
   "id": "4c75e04a",
   "metadata": {},
   "outputs": [
    {
     "name": "stdout",
     "output_type": "stream",
     "text": [
      "num of words... 3055\n"
     ]
    }
   ],
   "source": [
    "classifier.train('ratings_train.txt')"
   ]
  },
  {
   "cell_type": "code",
   "execution_count": 67,
   "id": "e6ff9bb8",
   "metadata": {
    "scrolled": true
   },
   "outputs": [
    {
     "data": {
      "text/plain": [
       "0.6212424849699398"
      ]
     },
     "execution_count": 67,
     "metadata": {},
     "output_type": "execute_result"
    }
   ],
   "source": [
    "classifier.accuracy('ratings_test.txt')"
   ]
  }
 ],
 "metadata": {
  "kernelspec": {
   "display_name": "Python 3 (ipykernel)",
   "language": "python",
   "name": "python3"
  },
  "language_info": {
   "codemirror_mode": {
    "name": "ipython",
    "version": 3
   },
   "file_extension": ".py",
   "mimetype": "text/x-python",
   "name": "python",
   "nbconvert_exporter": "python",
   "pygments_lexer": "ipython3",
   "version": "3.9.12"
  }
 },
 "nbformat": 4,
 "nbformat_minor": 5
}
